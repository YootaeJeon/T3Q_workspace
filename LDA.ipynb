{
 "cells": [
  {
   "cell_type": "code",
   "execution_count": 2,
   "metadata": {},
   "outputs": [
    {
     "data": {
      "text/plain": [
       "'1.3.0'"
      ]
     },
     "execution_count": 2,
     "metadata": {},
     "output_type": "execute_result"
    }
   ],
   "source": [
    "import pandas as pd\n",
    "from sklearn.datasets import fetch_20newsgroups\n",
    "import nltk\n",
    "from nltk.corpus import stopwords\n",
    "from sklearn.feature_extraction.text import TfidfVectorizer\n",
    "from sklearn.decomposition import TruncatedSVD\n",
    "import numpy as np\n",
    "import sklearn\n",
    "sklearn.__version__\n"
   ]
  },
  {
   "cell_type": "code",
   "execution_count": 3,
   "metadata": {},
   "outputs": [
    {
     "name": "stdout",
     "output_type": "stream",
     "text": [
      "샘플의 수 : 11314\n"
     ]
    }
   ],
   "source": [
    "dataset = fetch_20newsgroups(shuffle=True, random_state=1, remove=('headers', 'footers', 'quotes'))\n",
    "documents = dataset.data\n",
    "print('샘플의 수 :',len(documents))"
   ]
  },
  {
   "cell_type": "code",
   "execution_count": 4,
   "metadata": {},
   "outputs": [
    {
     "data": {
      "text/plain": [
       "\"\\n\\n\\n\\n\\n\\n\\nYeah, do you expect people to read the FAQ, etc. and actually accept hard\\natheism?  No, you need a little leap of faith, Jimmy.  Your logic runs out\\nof steam!\\n\\n\\n\\n\\n\\n\\n\\nJim,\\n\\nSorry I can't pity you, Jim.  And I'm sorry that you have these feelings of\\ndenial about the faith you need to get by.  Oh well, just pretend that it will\\nall end happily ever after anyway.  Maybe if you start a new newsgroup,\\nalt.atheist.hard, you won't be bummin' so much?\\n\\n\\n\\n\\n\\n\\nBye-Bye, Big Jim.  Don't forget your Flintstone's Chewables!  :) \\n--\\nBake Timmons, III\""
      ]
     },
     "execution_count": 4,
     "metadata": {},
     "output_type": "execute_result"
    }
   ],
   "source": [
    "documents[1]"
   ]
  },
  {
   "cell_type": "markdown",
   "metadata": {},
   "source": [
    "뉴스그룹 데이터에는 특수문자가 포함된 다수의 영어문장으로 구성되어져 있습니다. \n",
    "\n",
    "이런 형식의 샘플이 총 11,314개 존재합니다. \n",
    "\n",
    "사이킷런이 제공하는 뉴스그룹 데이터에서 target_name에는 본래 이 뉴스그룹 데이터가 \n",
    "\n",
    "어떤 20개의 카테고리를 갖고있었는지가 저장되어져 있습니다. 이를 출력해보겠습니다."
   ]
  },
  {
   "cell_type": "code",
   "execution_count": 5,
   "metadata": {},
   "outputs": [
    {
     "name": "stdout",
     "output_type": "stream",
     "text": [
      "['alt.atheism', 'comp.graphics', 'comp.os.ms-windows.misc', 'comp.sys.ibm.pc.hardware', 'comp.sys.mac.hardware', 'comp.windows.x', 'misc.forsale', 'rec.autos', 'rec.motorcycles', 'rec.sport.baseball', 'rec.sport.hockey', 'sci.crypt', 'sci.electronics', 'sci.med', 'sci.space', 'soc.religion.christian', 'talk.politics.guns', 'talk.politics.mideast', 'talk.politics.misc', 'talk.religion.misc']\n"
     ]
    }
   ],
   "source": [
    "print(dataset.target_names)"
   ]
  },
  {
   "cell_type": "code",
   "execution_count": 6,
   "metadata": {},
   "outputs": [],
   "source": [
    "news_df = pd.DataFrame({'document':documents})\n",
    "# 특수 문자 제거\n",
    "news_df['clean_doc'] = news_df['document'].str.replace(\"[^a-zA-Z]\", \" \")\n",
    "# 길이가 3이하인 단어는 제거 (길이가 짧은 단어 제거)\n",
    "news_df['clean_doc'] = news_df['clean_doc'].apply(lambda x: ' '.join( [w for w in x.split() if len(w)>3 ]))\n",
    "# 전체 단어에 대한 소문자 변환\n",
    "news_df['clean_doc'] = news_df['clean_doc'].apply(lambda x: x.lower())"
   ]
  },
  {
   "cell_type": "code",
   "execution_count": 7,
   "metadata": {},
   "outputs": [
    {
     "data": {
      "text/plain": [
       "\"yeah, expect people read faq, etc. actually accept hard atheism? need little leap faith, jimmy. your logic runs steam! jim, sorry can't pity you, jim. sorry that have these feelings denial about faith need well, just pretend that will happily ever after anyway. maybe start newsgroup, alt.atheist.hard, won't bummin' much? bye-bye, jim. don't forget your flintstone's chewables! bake timmons,\""
      ]
     },
     "execution_count": 7,
     "metadata": {},
     "output_type": "execute_result"
    }
   ],
   "source": [
    "news_df['clean_doc'][1]"
   ]
  },
  {
   "cell_type": "markdown",
   "metadata": {},
   "source": [
    "우선 특수문자가 제거되었으며, if나 you와 같은 길이가 3이하인 단어가 제거된 것을 확인할 수 있습니다. \n",
    "\n",
    "뿐만 아니라 대문자가 전부 소문자로 바뀌었습니다. \n",
    "\n",
    "이제 뉴스그룹 데이터에서 불용어를 제거합니다. \n",
    "\n",
    "불용어를 제거하기 위해서 토큰화를 우선 수행합니다. \n",
    "\n",
    "토큰화와 불용어 제거를 순차적으로 진행합니다."
   ]
  },
  {
   "cell_type": "code",
   "execution_count": 8,
   "metadata": {},
   "outputs": [],
   "source": [
    "# NLTK로부터 불용어를 받아온다.\n",
    "stop_words = stopwords.words('english')\n",
    "tokenized_doc = news_df['clean_doc'].apply(lambda x: x.split()) # 토큰화\n",
    "tokenized_doc = tokenized_doc.apply(lambda x: [item for item in x if item not in stop_words])\n",
    "# 불용어를 제거합니다."
   ]
  },
  {
   "cell_type": "code",
   "execution_count": 9,
   "metadata": {},
   "outputs": [
    {
     "name": "stdout",
     "output_type": "stream",
     "text": [
      "['yeah,', 'expect', 'people', 'read', 'faq,', 'etc.', 'actually', 'accept', 'hard', 'atheism?', 'need', 'little', 'leap', 'faith,', 'jimmy.', 'logic', 'runs', 'steam!', 'jim,', 'sorry', \"can't\", 'pity', 'you,', 'jim.', 'sorry', 'feelings', 'denial', 'faith', 'need', 'well,', 'pretend', 'happily', 'ever', 'anyway.', 'maybe', 'start', 'newsgroup,', 'alt.atheist.hard,', \"bummin'\", 'much?', 'bye-bye,', 'jim.', 'forget', \"flintstone's\", 'chewables!', 'bake', 'timmons,']\n"
     ]
    }
   ],
   "source": [
    "print(tokenized_doc[1])"
   ]
  },
  {
   "cell_type": "code",
   "execution_count": 22,
   "metadata": {},
   "outputs": [
    {
     "name": "stdout",
     "output_type": "stream",
     "text": [
      "0        [well, sure, story, seem, biased., disagree, s...\n",
      "1        [yeah,, expect, people, read, faq,, etc., actu...\n",
      "2        [although, realize, principle, strongest, poin...\n",
      "3        [notwithstanding, legitimate, fuss, proposal,,...\n",
      "4        [well,, change, scoring, playoff, pool., unfor...\n",
      "                               ...                        \n",
      "11309    [danny, rubenstein,, israeli, journalist,, spe...\n",
      "11310                                                   []\n",
      "11311    [agree., home, runs, clemens, always, memorabl...\n",
      "11312    [used, deskjet, orange, micros, grappler, syst...\n",
      "11313    [^^^^^^, argument, murphy., scared, hell, came...\n",
      "Name: clean_doc, Length: 11314, dtype: object\n"
     ]
    }
   ],
   "source": [
    "print(tokenized_doc[:])"
   ]
  },
  {
   "cell_type": "markdown",
   "metadata": {},
   "source": [
    "기존에 있었던 불용어에 속하던 your, about, just, that, will, after 단어들이 사라졌을 뿐만 아니라, 토큰화가 수행된 것을 확인할 수 있습니다."
   ]
  },
  {
   "cell_type": "markdown",
   "metadata": {},
   "source": [
    "### **3) TF-IDF 행렬 만들기**\n",
    "\n",
    "불용어 제거를 위해 토큰화 작업을 수행하였지만, TfidfVectorizer(TF-IDF 실습 참고)는 기본적으로 토큰화가 되어있지 않은 텍스트 데이터를 입력으로 사용합니다. 그렇기 때문에 TfidfVectorizer를 사용해서 TF-IDF 행렬을 만들기 위해서 다시 토큰화 작업을 역으로 취소하는 작업을 수행해보도록 하겠습니다. 이를 역토큰화(Detokenization)라고 합니다."
   ]
  },
  {
   "cell_type": "code",
   "execution_count": 10,
   "metadata": {},
   "outputs": [],
   "source": [
    "# 역토큰화 (토큰화 작업을 역으로 되돌림)\n",
    "detokenized_doc = []\n",
    "for i in range(len(news_df)):\n",
    "    t = ' '.join(tokenized_doc[i])\n",
    "    detokenized_doc.append(t)\n",
    "\n",
    "news_df['clean_doc'] = detokenized_doc"
   ]
  },
  {
   "cell_type": "code",
   "execution_count": 11,
   "metadata": {},
   "outputs": [
    {
     "data": {
      "text/plain": [
       "\"yeah, expect people read faq, etc. actually accept hard atheism? need little leap faith, jimmy. logic runs steam! jim, sorry can't pity you, jim. sorry feelings denial faith need well, pretend happily ever anyway. maybe start newsgroup, alt.atheist.hard, bummin' much? bye-bye, jim. forget flintstone's chewables! bake timmons,\""
      ]
     },
     "execution_count": 11,
     "metadata": {},
     "output_type": "execute_result"
    }
   ],
   "source": [
    "news_df['clean_doc'][1]"
   ]
  },
  {
   "cell_type": "markdown",
   "metadata": {},
   "source": [
    "정상적으로 불용어가 제거된 상태에서 역토큰화가 수행되었음을 확인할 수 있습니다.\n",
    "\n",
    "이제 사이킷런의 TfidfVectorizer를 통해 단어 1,000개에 대한 TF-IDF 행렬을 만들 것입니다.\n",
    "\n",
    " 물론 텍스트 데이터에 있는 모든 단어를 가지고 행렬을 만들 수는 있겠지만, 여기서는 1,000개의 단어로 제한하도록 하겠습니다."
   ]
  },
  {
   "cell_type": "code",
   "execution_count": 12,
   "metadata": {},
   "outputs": [
    {
     "name": "stdout",
     "output_type": "stream",
     "text": [
      "TF-IDF 행렬의 크기 : (11314, 1000)\n"
     ]
    }
   ],
   "source": [
    "vectorizer = TfidfVectorizer(stop_words='english', max_features= 1000, # 상위 1,000개의 단어를 보존\n",
    "max_df = 0.5, smooth_idf=True)\n",
    "\n",
    "X = vectorizer.fit_transform(news_df['clean_doc'])\n",
    "\n",
    "# TF-IDF 행렬의 크기 확인\n",
    "print('TF-IDF 행렬의 크기 :',X.shape)"
   ]
  },
  {
   "cell_type": "code",
   "execution_count": 13,
   "metadata": {},
   "outputs": [
    {
     "name": "stdout",
     "output_type": "stream",
     "text": [
      "  (0, 687)\t0.1296353669652296\n",
      "  (0, 474)\t0.1654349645287957\n",
      "  (0, 528)\t0.12056611615981094\n",
      "  (0, 129)\t0.1353917589343785\n",
      "  (0, 546)\t0.13730094657898326\n",
      "  (0, 406)\t0.13187765371261517\n",
      "  (0, 734)\t0.16560097932778423\n",
      "  (0, 824)\t0.1916531368961578\n",
      "  (0, 750)\t0.17005059429692632\n",
      "  (0, 211)\t0.16429581785105885\n",
      "  (0, 748)\t0.1678393395128178\n",
      "  (0, 731)\t0.1334001116346078\n",
      "  (0, 894)\t0.09142875717846821\n",
      "  (0, 506)\t0.1747572305861188\n",
      "  (0, 986)\t0.12651035082406945\n",
      "  (0, 469)\t0.35795726654853505\n",
      "  (0, 563)\t0.6872510148195169\n",
      "  (0, 848)\t0.1587201954825918\n",
      "  (0, 854)\t0.163349948814478\n",
      "  (0, 867)\t0.11600928494264434\n",
      "  (1, 80)\t0.22175666279878037\n",
      "  (1, 610)\t0.2077273970865982\n",
      "  (1, 844)\t0.16953640462205893\n",
      "  (1, 559)\t0.16291087962121\n",
      "  (1, 828)\t0.37072745091156617\n",
      "  :\t:\n",
      "  (11313, 219)\t0.12164437858388767\n",
      "  (11313, 240)\t0.1579505998623282\n",
      "  (11313, 909)\t0.16851830379964058\n",
      "  (11313, 155)\t0.14375875155695303\n",
      "  (11313, 943)\t0.14124328059721142\n",
      "  (11313, 547)\t0.14358487860740204\n",
      "  (11313, 714)\t0.1383126045098466\n",
      "  (11313, 931)\t0.10575170241278291\n",
      "  (11313, 996)\t0.22939729134560471\n",
      "  (11313, 746)\t0.1365189123022372\n",
      "  (11313, 733)\t0.16288639499202168\n",
      "  (11313, 831)\t0.15918615786694124\n",
      "  (11313, 618)\t0.1539018567625116\n",
      "  (11313, 191)\t0.14648466456171155\n",
      "  (11313, 500)\t0.16618223968497295\n",
      "  (11313, 404)\t0.2903490969811753\n",
      "  (11313, 763)\t0.10750982572518213\n",
      "  (11313, 995)\t0.11962894175537747\n",
      "  (11313, 173)\t0.14206039356514136\n",
      "  (11313, 188)\t0.13997705927761914\n",
      "  (11313, 950)\t0.10545422037488464\n",
      "  (11313, 486)\t0.08478369120527522\n",
      "  (11313, 512)\t0.08117791193060786\n",
      "  (11313, 66)\t0.12407739790473847\n",
      "  (11313, 345)\t0.15624472056450472\n"
     ]
    }
   ],
   "source": [
    "print(X)"
   ]
  },
  {
   "cell_type": "markdown",
   "metadata": {},
   "source": [
    "### **4) 토픽 모델링(Topic Modeling)**\n",
    "\n",
    "이제 TF-IDF 행렬을 다수의 행렬로 분해해보도록 하겠습니다. 여기서는 사이킷런의 절단된 SVD(Truncated SVD)를 사용합니다. 절단된 SVD를 사용하면 차원을 축소할 수 있습니다. 원래 기존 뉴스그룹 데이터가 20개의 카테고리를 갖고있었기 때문에, 20개의 토픽을 가졌다고 가정하고 토픽 모델링을 시도해보겠습니다. 토픽의 숫자는 n_components의 파라미터로 지정이 가능합니다."
   ]
  },
  {
   "cell_type": "code",
   "execution_count": 14,
   "metadata": {},
   "outputs": [
    {
     "data": {
      "text/plain": [
       "20"
      ]
     },
     "execution_count": 14,
     "metadata": {},
     "output_type": "execute_result"
    }
   ],
   "source": [
    "svd_model = TruncatedSVD(n_components=20, algorithm='randomized', n_iter=100, random_state=122)\n",
    "svd_model.fit(X)\n",
    "len(svd_model.components_)"
   ]
  },
  {
   "cell_type": "code",
   "execution_count": 15,
   "metadata": {},
   "outputs": [
    {
     "name": "stdout",
     "output_type": "stream",
     "text": [
      "<class 'sklearn.decomposition._truncated_svd.TruncatedSVD'>\n"
     ]
    }
   ],
   "source": [
    "print(type(svd_model))"
   ]
  },
  {
   "cell_type": "markdown",
   "metadata": {},
   "source": [
    "여기서 svd_model.componets_는 앞서 배운 LSA에서 VT에 해당됩니다."
   ]
  },
  {
   "cell_type": "code",
   "execution_count": 16,
   "metadata": {},
   "outputs": [
    {
     "data": {
      "text/plain": [
       "(20, 1000)"
      ]
     },
     "execution_count": 16,
     "metadata": {},
     "output_type": "execute_result"
    }
   ],
   "source": [
    "np.shape(svd_model.components_)"
   ]
  },
  {
   "cell_type": "markdown",
   "metadata": {},
   "source": [
    "정확하게 토픽의 수 t × 단어의 수의 크기를 가지는 것을 볼 수 있습니다."
   ]
  },
  {
   "cell_type": "code",
   "execution_count": 18,
   "metadata": {},
   "outputs": [
    {
     "name": "stdout",
     "output_type": "stream",
     "text": [
      "['00' '000' '01' '02' '04' '0d' '0t' '10' '100' '11' '12' '13' '14' '145'\n",
      " '15' '16' '17' '18' '19' '1990' '1991' '1992' '1993' '1d9' '1t' '20' '21'\n",
      " '22' '23' '24' '25' '27' '2di' '2tm' '30' '32' '34' '34u' '3t' '40' '45'\n",
      " '50' '500' '55' '6ei' '6um' '75' '75u' '7ey' '7u' '80' '800' '90' '91'\n",
      " '92' '93' '9v' 'a86' 'ability' 'able' 'ac' 'accept' 'access' 'according'\n",
      " 'account' 'action' 'actually' 'added' 'addition' 'address'\n",
      " 'administration' 'advance' 'ago' 'agree' 'ah' 'air' 'algorithm' 'allow'\n",
      " 'allowed' 'allows' 'alt' 'amendment' 'america' 'american' 'americans'\n",
      " 'analysis' 'anonymous' 'answer' 'answers' 'anti' 'anybody' 'apparently'\n",
      " 'appear' 'appears' 'apple' 'application' 'applications' 'apply'\n",
      " 'appreciate' 'appreciated' 'approach' 'appropriate' 'april' 'arab'\n",
      " 'archive' 'area' 'areas' 'argument' 'arguments' 'armenia' 'armenian'\n",
      " 'armenians' 'arms' 'army' 'article' 'articles' 'asked' 'asking' 'assume'\n",
      " 'atheism' 'atheists' 'attack' 'attempt' 'au' 'author' 'authority'\n",
      " 'available' 'average' 'avoid' 'away' 'ax' 'b8f' 'base' 'baseball' 'based'\n",
      " 'basic' 'basically' 'basis' 'belief' 'believe' 'best' 'better' 'bh' 'bhj'\n",
      " 'bible' 'bike' 'bios' 'bit' 'bits' 'bj' 'black' 'block' 'blood' 'board'\n",
      " 'body' 'book' 'books' 'bought' 'break' 'bring' 'brought' 'btw' 'build'\n",
      " 'building' 'built' 'business' 'bxn' 'c_' 'ca' 'cable' 'california'\n",
      " 'called' 'calls' 'came' 'canada' 'car' 'card' 'cards' 'care' 'carry'\n",
      " 'cars' 'case' 'cases' 'cause' 'center' 'certain' 'certainly' 'chance'\n",
      " 'change' 'changed' 'changes' 'check' 'chicago' 'child' 'children' 'chip'\n",
      " 'chips' 'choice' 'christ' 'christian' 'christianity' 'christians'\n",
      " 'church' 'chz' 'citizens' 'city' 'civil' 'claim' 'claims' 'class' 'clear'\n",
      " 'clearly' 'clinton' 'clipper' 'clock' 'close' 'code' 'color' 'com' 'come'\n",
      " 'comes' 'coming' 'command' 'comment' 'comments' 'commercial' 'committee'\n",
      " 'common' 'communications' 'community' 'comp' 'companies' 'company'\n",
      " 'complete' 'completely' 'computer' 'condition' 'conference' 'congress'\n",
      " 'consider' 'considered' 'contact' 'contains' 'context' 'continue'\n",
      " 'control' 'controller' 'copy' 'correct' 'cost' 'costs' 'count'\n",
      " 'countries' 'country' 'couple' 'course' 'court' 'cover' 'create'\n",
      " 'created' 'crime' 'cross' 'cs' 'current' 'currently' 'cx' 'd9' 'data'\n",
      " 'date' 'dave' 'david' 'day' 'days' 'dead' 'deal' 'death' 'decided'\n",
      " 'defense' 'define' 'deleted' 'department' 'design' 'designed' 'details'\n",
      " 'developed' 'development' 'device' 'devices' 'did' 'died' 'difference'\n",
      " 'different' 'difficult' 'digital' 'directly' 'directory' 'discussion'\n",
      " 'disease' 'disk' 'disks' 'display' 'distribution' 'division' 'doctor'\n",
      " 'door' 'dos' 'double' 'doubt' 'drive' 'driver' 'drivers' 'drives' 'drug'\n",
      " 'earlier' 'early' 'earth' 'easily' 'east' 'easy' 'edu' 'education'\n",
      " 'effect' 'effective' 'electronic' 'email' 'encryption' 'end'\n",
      " 'enforcement' 'engine' 'entire' 'entry' 'environment' 'equipment' 'error'\n",
      " 'escrow' 'especially' 'event' 'events' 'evidence' 'exactly' 'example'\n",
      " 'excellent' 'exist' 'existence' 'exists' 'expect' 'experience' 'explain'\n",
      " 'export' 'extra' 'face' 'fact' 'faith' 'false' 'family' 'faq' 'fast'\n",
      " 'faster' 'father' 'features' 'federal' 'feel' 'field' 'figure' 'file'\n",
      " 'files' 'final' 'finally' 'fine' 'firearms' 'floppy' 'folks' 'follow'\n",
      " 'following' 'food' 'force' 'form' 'format' 'free' 'freedom' 'friend'\n",
      " 'ftp' 'function' 'functions' 'future' 'g9v' 'game' 'games' 'gave'\n",
      " 'general' 'generally' 'genocide' 'gets' 'getting' 'given' 'gives'\n",
      " 'giving' 'giz' 'gk' 'goal' 'god' 'goes' 'going' 'gone' 'good' 'gov'\n",
      " 'government' 'graphics' 'great' 'greek' 'ground' 'group' 'groups' 'guess'\n",
      " 'gun' 'guns' 'half' 'hand' 'happen' 'happened' 'happens' 'happy' 'hard'\n",
      " 'hardware' 'head' 'health' 'hear' 'heard' 'held' 'hell' 'help' 'high'\n",
      " 'higher' 'history' 'hockey' 'hold' 'holy' 'home' 'hope' 'hours' 'house'\n",
      " 'human' 'idea' 'ideas' 'image' 'images' 'imagine' 'important' 'include'\n",
      " 'included' 'includes' 'including' 'increase' 'individual' 'info'\n",
      " 'information' 'input' 'inside' 'installed' 'instead' 'insurance'\n",
      " 'interested' 'interesting' 'interface' 'internal' 'international'\n",
      " 'internet' 'involved' 'israel' 'israeli' 'issue' 'issues' 'jesus'\n",
      " 'jewish' 'jews' 'jobs' 'john' 'jpeg' 'kept' 'key' 'keyboard' 'keys'\n",
      " 'kill' 'killed' 'kind' 'knew' 'know' 'knowledge' 'known' 'knows' 'lack'\n",
      " 'land' 'language' 'large' 'late' 'later' 'launch' 'law' 'laws' 'lead'\n",
      " 'league' 'learn' 'leave' 'left' 'legal' 'let' 'letter' 'level' 'lib'\n",
      " 'library' 'life' 'light' 'like' 'likely' 'limited' 'line' 'lines' 'list'\n",
      " 'little' 'live' 'lives' 'living' 'lk' 'll' 'local' 'logic' 'long'\n",
      " 'longer' 'look' 'looked' 'looking' 'looks' 'lord' 'lost' 'lots' 'love'\n",
      " 'lower' 'mac' 'machine' 'machines' 'mail' 'mailing' 'main' 'major'\n",
      " 'majority' 'make' 'makes' 'making' 'man' 'manager' 'manual' 'march'\n",
      " 'mark' 'market' 'mass' 'master' 'material' 'matter' 'max' 'maybe' 'mean'\n",
      " 'meaning' 'means' 'media' 'medical' 'member' 'members' 'memory' 'mention'\n",
      " 'mentioned' 'message' 'method' 'middle' 'mike' 'miles' 'military'\n",
      " 'million' 'mind' 'minutes' 'mission' 'mit' 'mode' 'model' 'modem'\n",
      " 'modern' 'money' 'monitor' 'month' 'months' 'moon' 'moral' 'mother'\n",
      " 'motif' 'mouse' 'mq' 'multiple' 'mv' 'names' 'nasa' 'national' 'nature'\n",
      " 'near' 'necessary' 'need' 'needed' 'needs' 'net' 'network' 'new' 'news'\n",
      " 'newsgroup' 'nice' 'night' 'non' 'normal' 'north' 'note' 'number'\n",
      " 'numbers' 'object' 'obvious' 'obviously' 'offer' 'office' 'official'\n",
      " 'old' 'ones' 'open' 'operation' 'opinion' 'opinions' 'option' 'options'\n",
      " 'orbit' 'order' 'org' 'organization' 'original' 'os' 'output' 'outside'\n",
      " 'package' 'page' 'pain' 'paper' 'particular' 'parts' 'party' 'pass'\n",
      " 'past' 'paul' 'pc' 'peace' 'people' 'perfect' 'performance' 'period'\n",
      " 'person' 'personal' 'phone' 'physical' 'pick' 'picture' 'pittsburgh' 'pl'\n",
      " 'place' 'places' 'plan' 'play' 'played' 'player' 'players' 'plus' 'point'\n",
      " 'points' 'police' 'policy' 'political' 'population' 'port' 'position'\n",
      " 'possible' 'possibly' 'post' 'posted' 'posting' 'posts' 'power' 'present'\n",
      " 'president' 'press' 'pretty' 'prevent' 'previous' 'price' 'printer'\n",
      " 'privacy' 'private' 'probably' 'problem' 'problems' 'process' 'product'\n",
      " 'products' 'program' 'programming' 'programs' 'project' 'protect' 'prove'\n",
      " 'provide' 'provided' 'provides' 'pub' 'public' 'published' 'purpose' 'qq'\n",
      " 'quality' 'question' 'questions' 'quite' 'quote' 'radio' 'range' 'rate'\n",
      " 'read' 'reading' 'real' 'reality' 'really' 'reason' 'reasonable'\n",
      " 'reasons' 'received' 'recent' 'recently' 'record' 'reference'\n",
      " 'references' 'regarding' 'regular' 'related' 'release' 'religion'\n",
      " 'religious' 'remember' 'reply' 'report' 'reported' 'reports' 'request'\n",
      " 'require' 'required' 'requires' 'research' 'resource' 'resources'\n",
      " 'response' 'rest' 'result' 'results' 'return' 'right' 'rights' 'road'\n",
      " 'room' 'round' 'rule' 'rules' 'running' 'runs' 'russian' 'safety' 'said'\n",
      " 'sale' 'satellite' 'save' 'say' 'saying' 'says' 'school' 'sci' 'science'\n",
      " 'scientific' 'screen' 'scsi' 'search' 'season' 'second' 'secret'\n",
      " 'section' 'secure' 'security' 'seen' 'self' 'sell' 'send' 'sense' 'sent'\n",
      " 'serial' 'series' 'server' 'service' 'services' 'shall' 'shipping'\n",
      " 'short' 'shot' 'shows' 'shuttle' 'similar' 'simple' 'simply' 'single'\n",
      " 'site' 'sites' 'situation' 'size' 'sl' 'small' 'smith' 'society'\n",
      " 'software' 'soldiers' 'solution' 'somebody' 'soon' 'sorry' 'sort' 'sound'\n",
      " 'sounds' 'source' 'sources' 'south' 'soviet' 'space' 'special' 'specific'\n",
      " 'speed' 'spirit' 'stand' 'standard' 'standards' 'start' 'started' 'state'\n",
      " 'stated' 'statement' 'states' 'station' 'stephanopoulos' 'steve' 'stop'\n",
      " 'story' 'stream' 'street' 'strong' 'study' 'stuff' 'subject' 'suggest'\n",
      " 'sun' 'supply' 'support' 'supports' 'supposed' 'sure' 'surface' 'suspect'\n",
      " 'switch' 'systems' 'table' 'taken' 'takes' 'taking' 'talk' 'talking'\n",
      " 'tape' 'tar' 'team' 'teams' 'technical' 'technology' 'tell' 'term'\n",
      " 'terms' 'test' 'text' 'thank' 'thanks' 'theory' 'thing' 'things' 'think'\n",
      " 'thinking' 'thought' 'time' 'times' 'title' 'today' 'told' 'took' 'tools'\n",
      " 'toronto' 'total' 'trade' 'transfer' 'tried' 'trouble' 'true' 'trust'\n",
      " 'truth' 'trying' 'turkey' 'turkish' 'turks' 'turn' 'turned' 'type'\n",
      " 'types' 'uk' 'understand' 'understanding' 'unfortunately' 'unit' 'united'\n",
      " 'university' 'unix' 'unless' 'use' 'used' 'useful' 'usenet' 'user'\n",
      " 'users' 'uses' 'using' 'usually' 'value' 'values' 'various' 've'\n",
      " 'version' 'video' 'view' 'voice' 'volume' 'w7' 'wait' 'want' 'wanted'\n",
      " 'wants' 'war' 'washington' 'watch' 'water' 'way' 'ways' 'weapons' 'week'\n",
      " 'weeks' 'went' 'west' 'western' 'white' 'wide' 'widget' 'wife' 'willing'\n",
      " 'win' 'window' 'windows' 'wire' 'wish' 'wm' 'woman' 'women' 'wonder'\n",
      " 'wondering' 'word' 'words' 'work' 'worked' 'working' 'works' 'world'\n",
      " 'worse' 'worth' 'write' 'writing' 'written' 'wrong' 'wrote' 'x11r5'\n",
      " 'year' 'years' 'yes' 'york' 'young']\n"
     ]
    }
   ],
   "source": [
    "terms = vectorizer.get_feature_names_out() # 단어 집합. 1,000개의 단어가 저장됨. \n",
    "# When sklearn.__version__ >= 1.0.x use following method\n",
    "\n",
    "print(terms)"
   ]
  },
  {
   "cell_type": "code",
   "execution_count": 19,
   "metadata": {},
   "outputs": [],
   "source": [
    "def get_topics(components, feature_names, n=5):\n",
    "    for idx, topic in enumerate(components):\n",
    "        print(\"Topic %d:\" % (idx+1), [(feature_names[i], topic[i].round(5))for i in topic.argsort()[:-n - 1:-1]])"
   ]
  },
  {
   "cell_type": "code",
   "execution_count": 20,
   "metadata": {},
   "outputs": [
    {
     "name": "stdout",
     "output_type": "stream",
     "text": [
      "Topic 1: [('like', 0.2085), ('know', 0.19656), ('people', 0.1912), ('think', 0.17523), ('good', 0.14902)]\n",
      "Topic 2: [('thanks', 0.31338), ('windows', 0.27934), ('card', 0.17289), ('drive', 0.16141), ('mail', 0.14507)]\n",
      "Topic 3: [('game', 0.36553), ('team', 0.3133), ('year', 0.28465), ('games', 0.23048), ('season', 0.17026)]\n",
      "Topic 4: [('edu', 0.50341), ('thanks', 0.25409), ('mail', 0.1758), ('com', 0.11498), ('email', 0.11166)]\n",
      "Topic 5: [('edu', 0.49934), ('drive', 0.24972), ('com', 0.10645), ('sale', 0.10616), ('soon', 0.09199)]\n",
      "Topic 6: [('drive', 0.40102), ('thanks', 0.34667), ('know', 0.27592), ('scsi', 0.13765), ('mail', 0.11332)]\n",
      "Topic 7: [('chip', 0.21565), ('government', 0.20249), ('like', 0.17148), ('encryption', 0.14654), ('clipper', 0.14478)]\n",
      "Topic 8: [('like', 0.64668), ('edu', 0.31439), ('bike', 0.12683), ('know', 0.12403), ('think', 0.11547)]\n",
      "Topic 9: [('card', 0.3572), ('sale', 0.17543), ('00', 0.17496), ('video', 0.16994), ('good', 0.15574)]\n",
      "Topic 10: [('card', 0.45093), ('people', 0.35248), ('know', 0.26213), ('video', 0.20438), ('edu', 0.18018)]\n",
      "Topic 11: [('like', 0.53784), ('people', 0.29344), ('windows', 0.14585), ('drive', 0.14199), ('game', 0.138)]\n",
      "Topic 12: [('think', 0.73098), ('thanks', 0.19253), ('people', 0.12027), ('mail', 0.11436), ('good', 0.11292)]\n",
      "Topic 13: [('know', 0.21625), ('chip', 0.21482), ('jesus', 0.19227), ('game', 0.1597), ('think', 0.15475)]\n",
      "Topic 14: [('know', 0.33277), ('good', 0.31777), ('people', 0.22055), ('windows', 0.21856), ('file', 0.20588)]\n",
      "Topic 15: [('good', 0.38909), ('chip', 0.22814), ('people', 0.15098), ('clipper', 0.14368), ('encryption', 0.14025)]\n",
      "Topic 16: [('com', 0.6569), ('ve', 0.34058), ('people', 0.20544), ('seen', 0.0979), ('list', 0.09405)]\n",
      "Topic 17: [('ve', 0.38594), ('space', 0.30952), ('people', 0.28754), ('seen', 0.13734), ('heard', 0.13676)]\n",
      "Topic 18: [('good', 0.32101), ('israel', 0.25517), ('card', 0.24702), ('com', 0.1984), ('israeli', 0.13667)]\n",
      "Topic 19: [('ve', 0.54441), ('israel', 0.20771), ('seen', 0.17641), ('00', 0.14313), ('heard', 0.13857)]\n",
      "Topic 20: [('time', 0.34123), ('bike', 0.28176), ('right', 0.25465), ('file', 0.20011), ('need', 0.19803)]\n"
     ]
    }
   ],
   "source": [
    "get_topics(svd_model.components_, terms)"
   ]
  },
  {
   "cell_type": "code",
   "execution_count": 21,
   "metadata": {},
   "outputs": [
    {
     "data": {
      "text/plain": [
       "0    [well, sure, story, seem, biased., disagree, s...\n",
       "1    [yeah,, expect, people, read, faq,, etc., actu...\n",
       "2    [although, realize, principle, strongest, poin...\n",
       "3    [notwithstanding, legitimate, fuss, proposal,,...\n",
       "4    [well,, change, scoring, playoff, pool., unfor...\n",
       "Name: clean_doc, dtype: object"
      ]
     },
     "execution_count": 21,
     "metadata": {},
     "output_type": "execute_result"
    }
   ],
   "source": [
    "tokenized_doc[:5]"
   ]
  },
  {
   "cell_type": "markdown",
   "metadata": {},
   "source": [
    "이제 각 단어에 정수 인코딩을 하는 동시에, **각 뉴스에서의 단어의 빈도수**를 기록해보겠습니다. \n",
    "\n",
    "여기서는 각 단어를 **(word_id, word_frequency)의 형태**로 바꾸고자 합니다. \n",
    "\n",
    "word_id는 단어가 **정수 인코딩된 값**이고, word_frequency는 **해당 뉴스에서의 해당 단어의 빈도수**를 의미합니다. \n",
    "\n",
    "이는 gensim의 corpora.Dictionary()를 사용하여 손쉽게 구할 수 있습니다. \n",
    "\n",
    "전체 뉴스에 대해서 정수 인코딩을 수행하고, 두번째 뉴스를 출력해봅시다."
   ]
  },
  {
   "cell_type": "code",
   "execution_count": 29,
   "metadata": {},
   "outputs": [
    {
     "name": "stdout",
     "output_type": "stream",
     "text": [
      "[(59, 1), (60, 1), (61, 1), (62, 1), (63, 1), (64, 1), (65, 1), (66, 1), (67, 1), (68, 1), (69, 1), (70, 1), (71, 1), (72, 1), (73, 1), (74, 1), (75, 1), (76, 1), (77, 1), (78, 1), (79, 1), (80, 1), (81, 1), (82, 2), (83, 1), (84, 1), (85, 1), (86, 1), (87, 1), (88, 1), (89, 2), (90, 1), (91, 1), (92, 1), (93, 1), (94, 1), (95, 1), (96, 2), (97, 1), (98, 1), (99, 1), (100, 1), (101, 1), (102, 1)]\n"
     ]
    }
   ],
   "source": [
    "from gensim import corpora\n",
    "\n",
    "dictionary = corpora.Dictionary(tokenized_doc)\n",
    "corpus = [dictionary.doc2bow(text)for text in tokenized_doc]\n",
    "\n",
    "print(corpus[1]) # 수행된 결과에서 두번째 뉴스 출력. 첫번째 문서의 인덱스는 0"
   ]
  },
  {
   "cell_type": "markdown",
   "metadata": {},
   "source": [
    "두번째 뉴스의 출력 결과를 봅시다. \n",
    "\n",
    "위의 출력 결과 중에서 (66, 2)는 정수 인코딩이 66으로 할당된 단어가 두번째 뉴스에서는 두 번 등장하였음을 의미합니다. \n",
    "\n",
    "66이라는 값을 가지는 단어가 정수 인코딩이 되기 전에는 어떤 단어였는지 확인하여봅시다. \n",
    "\n",
    "---"
   ]
  },
  {
   "cell_type": "markdown",
   "metadata": {},
   "source": [
    "이는 dictionary[]에 기존 단어가 무엇인지 알고자하는 정수값을 입력하여 확인할 수 있습니다."
   ]
  },
  {
   "cell_type": "code",
   "execution_count": 30,
   "metadata": {},
   "outputs": [
    {
     "name": "stdout",
     "output_type": "stream",
     "text": [
      "bye-bye,\n"
     ]
    }
   ],
   "source": [
    "print(dictionary[66])"
   ]
  },
  {
   "cell_type": "code",
   "execution_count": 31,
   "metadata": {},
   "outputs": [
    {
     "data": {
      "text/plain": [
       "181856"
      ]
     },
     "execution_count": 31,
     "metadata": {},
     "output_type": "execute_result"
    }
   ],
   "source": [
    "len(dictionary)"
   ]
  },
  {
   "cell_type": "markdown",
   "metadata": {},
   "source": [
    "### **2) LDA 모델 훈련시키기**\n",
    "\n",
    "기존의 뉴스 데이터가 총 20개의 카테고리를 가지고 있었으므로 토픽의 개수를 20으로 하여 LDA 모델을 학습시켜보도록 하겠습니다."
   ]
  },
  {
   "cell_type": "code",
   "execution_count": 34,
   "metadata": {},
   "outputs": [
    {
     "name": "stdout",
     "output_type": "stream",
     "text": [
      "(0, '0.007*\"stats\" + 0.005*\"kent\" + 0.004*\"symbol\" + 0.003*\"aged\"')\n",
      "(1, '0.016*\"55.0\" + 0.003*\"terminals\" + 0.002*\"accelerators\" + 0.002*\"etc?\"')\n",
      "(2, '0.003*\"resources.\" + 0.003*\"cross\" + 0.002*\"adobe\" + 0.002*\"countersteering\"')\n",
      "(3, '0.016*\"available\" + 0.009*\"image\" + 0.008*\"version\" + 0.007*\"data\"')\n",
      "(4, '0.217*\"max>\\'ax>\\'ax>\\'ax>\\'ax>\\'ax>\\'ax>\\'ax>\\'ax>\\'ax>\\'ax>\\'ax>\\'ax>\\'ax>\\'ax>\\'\" + 0.006*\"wiring\" + 0.005*\"ansi\" + 0.003*\"francis\"')\n",
      "(5, '0.012*\"people\" + 0.012*\"would\" + 0.006*\"think\" + 0.006*\"many\"')\n",
      "(6, '0.011*\"period\" + 0.010*\"power\" + 0.006*\"---------------\" + 0.006*\"scorer\"')\n",
      "(7, '0.016*\"space\" + 0.008*\"university\" + 0.008*\"national\" + 0.007*\"1993\"')\n",
      "(8, '0.010*\"israel\" + 0.009*\"israeli\" + 0.008*\"jews\" + 0.007*\"said,\"')\n",
      "(9, '0.012*\"jesus\" + 0.012*\"greek\" + 0.004*\"holy\" + 0.004*\"spirit\"')\n",
      "(10, '0.005*\"encryption\" + 0.005*\"technology\" + 0.004*\"administration\" + 0.004*\"copies)\"')\n",
      "(11, '0.008*\"would\" + 0.007*\"like\" + 0.006*\"know\" + 0.006*\"using\"')\n",
      "(12, '0.028*\"drive\" + 0.015*\"scsi\" + 0.013*\"disk\" + 0.013*\"hard\"')\n",
      "(13, '0.003*\"tape.\" + 0.002*\"hangs\" + 0.002*\"offer,\" + 0.002*\"gifs\"')\n",
      "(14, '0.007*\"smokeless\" + 0.006*\"------\" + 0.004*\"cursor\" + 0.003*\"period:\"')\n",
      "(15, '0.011*\"myers:\" + 0.006*\"scsi-2\" + 0.005*\"scsi-1\" + 0.004*\"swap\"')\n",
      "(16, '0.020*\"----------------------------------------------------------------------\" + 0.019*\"armenian\" + 0.018*\"turkish\" + 0.011*\"armenians\"')\n",
      "(17, '0.010*\"would\" + 0.007*\"like\" + 0.006*\"think\" + 0.005*\"going\"')\n",
      "(18, '0.011*\"henrik]\" + 0.004*\"picture\" + 0.004*\"hash\" + 0.004*\"sale.\"')\n",
      "(19, '0.014*\"government\" + 0.010*\"public\" + 0.009*\"encryption\" + 0.009*\"security\"')\n"
     ]
    }
   ],
   "source": [
    "import gensim\n",
    "NUM_TOPICS = 20 # 20개의 토픽, k=20\n",
    "ldamodel = gensim.models.ldamodel.LdaModel(corpus, num_topics = NUM_TOPICS, id2word=dictionary, passes=15)\n",
    "topics = ldamodel.print_topics(num_words=4)\n",
    "for topic in topics:\n",
    "    print(topic)"
   ]
  },
  {
   "cell_type": "markdown",
   "metadata": {},
   "source": [
    "각 단어 앞에 붙은 수치는 단어의 해당 토픽에 대한 기여도를 보여줍니다. \n",
    "\n",
    "또한 맨 앞에 있는 **토픽 번호**는 0부터 시작하므로 총 20개의 토픽은 0부터 19까지의 번호가 할당되어져 있습니다. \n",
    "\n",
    "**passes는 알고리즘의 동작 횟수**를 말하는데, 알고리즘이 결정하는 토픽의 값이 적절히 수렴할 수 있도록 충분히 적당한 횟수를 정해주면 됩니다. 여기서는 총 15회를 수행하였습니다. \n",
    "\n",
    "여기서는 num_words=4로 총 **4개의 단어만 출력**하도록 하였습니다. \n",
    "\n",
    "만약 10개의 단어를 출력하고 싶다면 아래의 코드를 수행하면 됩니다."
   ]
  },
  {
   "cell_type": "code",
   "execution_count": 35,
   "metadata": {},
   "outputs": [
    {
     "name": "stdout",
     "output_type": "stream",
     "text": [
      "[(0, '0.007*\"stats\" + 0.005*\"kent\" + 0.004*\"symbol\" + 0.003*\"aged\" + 0.003*\"fatal\" + 0.003*\"wires\" + 0.003*\"cheers,\" + 0.003*\"baseball.\" + 0.002*\"fleet\" + 0.002*\"wrist\"'), (1, '0.016*\"55.0\" + 0.003*\"terminals\" + 0.002*\"accelerators\" + 0.002*\"etc?\" + 0.001*\"disagreement\" + 0.001*\"(frank\" + 0.001*\"similarity\" + 0.001*\"object,\" + 0.001*\"neural\" + 0.001*\"generated,\"'), (2, '0.003*\"resources.\" + 0.003*\"cross\" + 0.002*\"adobe\" + 0.002*\"countersteering\" + 0.002*\".bmp\" + 0.002*\"cardinals\" + 0.002*\"from?\" + 0.002*\"clip\" + 0.002*\"ninth\" + 0.002*\"overtime\"'), (3, '0.016*\"available\" + 0.009*\"image\" + 0.008*\"version\" + 0.007*\"data\" + 0.007*\"also\" + 0.007*\"server\" + 0.007*\"software\" + 0.007*\"window\" + 0.007*\"anonymous\" + 0.005*\"subject:\"'), (4, '0.217*\"max>\\'ax>\\'ax>\\'ax>\\'ax>\\'ax>\\'ax>\\'ax>\\'ax>\\'ax>\\'ax>\\'ax>\\'ax>\\'ax>\\'ax>\\'\" + 0.006*\"wiring\" + 0.005*\"ansi\" + 0.003*\"francis\" + 0.003*\"neutral\" + 0.003*\"part\" + 0.002*\"--------\" + 0.002*\"grounded\" + 0.002*\"------------\" + 0.002*\"outlet\"'), (5, '0.012*\"people\" + 0.012*\"would\" + 0.006*\"think\" + 0.006*\"many\" + 0.005*\"even\" + 0.005*\"believe\" + 0.004*\"like\" + 0.004*\"know\" + 0.004*\"also\" + 0.004*\"could\"'), (6, '0.011*\"period\" + 0.010*\"power\" + 0.006*\"---------------\" + 0.006*\"scorer\" + 0.006*\"puck\" + 0.006*\"play:\" + 0.005*\"first\" + 0.005*\"second\" + 0.004*\"third\" + 0.004*\"flyers\"'), (7, '0.016*\"space\" + 0.008*\"university\" + 0.008*\"national\" + 0.007*\"1993\" + 0.007*\"research\" + 0.007*\"april\" + 0.006*\"center\" + 0.005*\"health\" + 0.005*\"information\" + 0.005*\"medical\"'), (8, '0.010*\"israel\" + 0.009*\"israeli\" + 0.008*\"jews\" + 0.007*\"said,\" + 0.006*\"went\" + 0.006*\"people\" + 0.006*\"killed\" + 0.006*\"said\" + 0.005*\"arab\" + 0.005*\"came\"'), (9, '0.012*\"jesus\" + 0.012*\"greek\" + 0.004*\"holy\" + 0.004*\"spirit\" + 0.003*\"greece\" + 0.003*\"father\" + 0.003*\"greeks\" + 0.003*\"history,\" + 0.003*\"cyprus\" + 0.002*\"turkey\"'), (10, '0.005*\"encryption\" + 0.005*\"technology\" + 0.004*\"administration\" + 0.004*\"copies)\" + 0.003*\"\"clipper\" + 0.003*\"*******\" + 0.003*\"attorney\" + 0.003*\"protect\" + 0.003*\"annual\" + 0.003*\"telecommunications\"'), (11, '0.008*\"would\" + 0.007*\"like\" + 0.006*\"know\" + 0.006*\"using\" + 0.006*\"please\" + 0.006*\"anyone\" + 0.005*\"file\" + 0.005*\"need\" + 0.005*\"used\" + 0.005*\"also\"'), (12, '0.028*\"drive\" + 0.015*\"scsi\" + 0.013*\"disk\" + 0.013*\"hard\" + 0.010*\"controller\" + 0.010*\"drives\" + 0.008*\"----\" + 0.007*\"floppy\" + 0.006*\"drive.\" + 0.005*\"bios\"'), (13, '0.003*\"tape.\" + 0.002*\"hangs\" + 0.002*\"offer,\" + 0.002*\"gifs\" + 0.002*\"these?\" + 0.002*\"motherboard,\" + 0.002*\"***************\" + 0.002*\"click\" + 0.002*\"other\\'s\" + 0.002*\"time...\"'), (14, '0.007*\"smokeless\" + 0.006*\"------\" + 0.004*\"cursor\" + 0.003*\"period:\" + 0.003*\"ottawa\" + 0.003*\"skip\" + 0.003*\"screens\" + 0.002*\"adams\" + 0.002*\"winner\" + 0.002*\"smythe\"'), (15, '0.011*\"myers:\" + 0.006*\"scsi-2\" + 0.005*\"scsi-1\" + 0.004*\"swap\" + 0.003*\"prompt\" + 0.003*\"president\\'s\" + 0.003*\"cure\" + 0.002*\"burst\" + 0.002*\"0.333\" + 0.002*\"fixes\"'), (16, '0.020*\"----------------------------------------------------------------------\" + 0.019*\"armenian\" + 0.018*\"turkish\" + 0.011*\"armenians\" + 0.007*\"turks\" + 0.006*\"genocide\" + 0.006*\"armenia\" + 0.005*\"russian\" + 0.004*\"kings\" + 0.004*\"montreal\"'), (17, '0.010*\"would\" + 0.007*\"like\" + 0.006*\"think\" + 0.005*\"going\" + 0.005*\"good\" + 0.005*\"last\" + 0.005*\"know\" + 0.004*\"first\" + 0.004*\"could\" + 0.004*\"time\"'), (18, '0.011*\"henrik]\" + 0.004*\"picture\" + 0.004*\"hash\" + 0.004*\"sale.\" + 0.003*\"cleveland\" + 0.003*\"pope\" + 0.003*\"80-bit\" + 0.003*\"hong\" + 0.003*\"mono\" + 0.002*\"bone\"'), (19, '0.014*\"government\" + 0.010*\"public\" + 0.009*\"encryption\" + 0.009*\"security\" + 0.006*\"chip\" + 0.006*\"clipper\" + 0.006*\"keys\" + 0.006*\"private\" + 0.006*\"federal\" + 0.005*\"secret\"')]\n"
     ]
    }
   ],
   "source": [
    "print(ldamodel.print_topics())\n"
   ]
  },
  {
   "cell_type": "markdown",
   "metadata": {},
   "source": [
    "### **3) LDA 시각화 하기**\n",
    "\n",
    "LDA 시각화를 위해서는 pyLDAvis의 설치가 필요합니다. 윈도우의 명령 프롬프트나 MAC/UNIX의 터미널에서 아래의 명령을 수행하여 pyLDAvis를 설치하시기 바랍니다."
   ]
  },
  {
   "cell_type": "code",
   "execution_count": null,
   "metadata": {},
   "outputs": [],
   "source": [
    "pip install pyLDAvis"
   ]
  },
  {
   "cell_type": "code",
   "execution_count": 37,
   "metadata": {},
   "outputs": [
    {
     "data": {
      "text/html": [
       "\n",
       "<link rel=\"stylesheet\" type=\"text/css\" href=\"https://cdn.jsdelivr.net/gh/bmabey/pyLDAvis@3.4.0/pyLDAvis/js/ldavis.v1.0.0.css\">\n",
       "\n",
       "\n",
       "<div id=\"ldavis_el1958823376196366565170798268\" style=\"background-color:white;\"></div>\n",
       "<script type=\"text/javascript\">\n",
       "\n",
       "var ldavis_el1958823376196366565170798268_data = {\"mdsDat\": {\"x\": [-0.3851222954777763, -0.38281409523669996, -0.36952466174105775, -0.13197942624016476, -0.0978689132209912, -0.031345725843804226, -0.052691963945657304, 0.0722471949852705, 0.08482024952021835, 0.09113691762407326, 0.12112185013220964, 0.09948985820975133, 0.12613024644595291, 0.0837075877728544, 0.12650059905342562, 0.1286241509766934, 0.12875700603287377, 0.12916418768419538, 0.12999433459630533, 0.1296528986723271], \"y\": [-0.08928652783493199, 0.05942951119022583, -0.14105114889352396, 0.2767725158881256, 0.14481497691705872, 0.09575478396811071, -0.1690615300139624, -0.04693845621615918, 0.01230863376704665, -0.028556106860645036, -0.008612825204904303, -0.02576828479040577, -0.011378883872685243, 0.003617649962428172, -0.013030971745218627, -0.013905295511983629, -0.011082904863935036, -0.010799301473989976, -0.01190187442441694, -0.011323959986233588], \"topics\": [1, 2, 3, 4, 5, 6, 7, 8, 9, 10, 11, 12, 13, 14, 15, 16, 17, 18, 19, 20], \"cluster\": [1, 1, 1, 1, 1, 1, 1, 1, 1, 1, 1, 1, 1, 1, 1, 1, 1, 1, 1, 1], \"Freq\": [23.879254300209453, 22.902403517381522, 22.179084586146573, 6.1449695198083205, 5.587865156374869, 3.5111633914054994, 3.30729370673641, 1.8984683719958675, 1.734574284403118, 1.6134485858359575, 1.4689827469979906, 1.347316183500378, 1.0150842670680762, 0.8795581792022843, 0.6657597967444244, 0.5674212351682976, 0.42375539185571026, 0.32554034350116345, 0.29618943935487396, 0.2518669963092308]}, \"tinfo\": {\"Term\": [\"max>'ax>'ax>'ax>'ax>'ax>'ax>'ax>'ax>'ax>'ax>'ax>'ax>'ax>'ax>'\", \"people\", \"available\", \"space\", \"drive\", \"would\", \"power\", \"government\", \"hard\", \"jesus\", \"file\", \"said\", \"first\", \"disk\", \"version\", \"think\", \"also\", \"software\", \"using\", \"armenian\", \"information\", \"system\", \"public\", \"like\", \"data\", \"program\", \"please\", \"----------------------------------------------------------------------\", \"used\", \"image\", \"evidence\", \"christian\", \"christians\", \"church\", \"faith\", \"religious\", \"moral\", \"religion\", \"god's\", \"nature\", \"christianity\", \"freedom\", \"belief\", \"existence\", \"acts\", \"atheists\", \"koresh\", \"merely\", \"beliefs\", \"conclusion\", \"morality\", \"islam\", \"evil\", \"catholic\", \"judas\", \"universe\", \"defend\", \"arguments\", \"sexual\", \"religions\", \"statement\", \"bible\", \"argue\", \"argument\", \"claim\", \"god.\", \"agree\", \"truth\", \"respect\", \"words\", \"people\", \"human\", \"believe\", \"fact\", \"christ\", \"life\", \"mean\", \"true\", \"rights\", \"many\", \"person\", \"would\", \"word\", \"even\", \"think\", \"must\", \"jesus\", \"rather\", \"question\", \"point\", \"whether\", \"cannot\", \"reason\", \"things\", \"world\", \"make\", \"find\", \"know\", \"could\", \"without\", \"like\", \"also\", \"never\", \"might\", \"much\", \"since\", \"read\", \"something\", \"want\", \"time\", \"right\", \"however,\", \"info\", \"output\", \"windows\", \"serial\", \"keyboard\", \"apple\", \"monitor\", \"mode\", \"unit\", \"char\", \"file:\", \"thanks,\", \"appreciated.\", \"modem\", \"bits\", \"port\", \"installed\", \"entries\", \"greatly\", \"thanks.\", \"shipping\", \"contest\", \"printer\", \"font\", \"stream\", \"errors\", \"disks\", \"postscript\", \"print\", \"card.\", \"entry\", \"memory\", \"video\", \"mouse\", \"e-mail\", \"input\", \"thanks\", \"please\", \"hardware\", \"copy\", \"screen\", \"using\", \"file\", \"email\", \"anyone\", \"card\", \"need\", \"size\", \"system\", \"drivers\", \"send\", \"running\", \"program\", \"problem\", \"line\", \"used\", \"work\", \"help\", \"like\", \"know\", \"works\", \"i've\", \"would\", \"looking\", \"also\", \"number\", \"want\", \"could\", \"find\", \"good\", \"make\", \"read\", \"much\", \"time\", \"bike\", \"jobs\", \"cars\", \"players\", \"miles\", \"baseball\", \"guys\", \"radar\", \"feet\", \"ride\", \"game,\", \"fans\", \"paying\", \"riding\", \"plug\", \"score\", \"fired\", \"batf\", \"motorcycle\", \"career\", \"doctor\", \"canadian\", \"sports\", \"pitching\", \"games.\", \"cubs\", \"rear\", \"senate\", \"back,\", \"defensive\", \"games\", \"president\", \"he's\", \"senior\", \"team\", \"mike\", \"play\", \"game\", \"insurance\", \"teams\", \"we're\", \"last\", \"front\", \"money\", \"night\", \"going\", \"player\", \"years.\", \"year\", \"bill\", \"back\", \"years\", \"house\", \"home\", \"next\", \"league\", \"left\", \"well,\", \"around\", \"that's\", \"they're\", \"good\", \"think\", \"first\", \"would\", \"like\", \"time\", \"take\", \"said\", \"still\", \"really\", \"better\", \"much\", \"could\", \"know\", \"right\", \"even\", \"make\", \"also\", \"well\", \"people\", \"something\", \"anonymous\", \"widget\", \"motif\", \"internet\", \"images\", \"jpeg\", \"export\", \"visual\", \"routines\", \"toolkit\", \"sony\", \"widgets\", \"vesa\", \"binaries\", \"servers\", \"interactive\", \"server.\", \"clients\", \"diamond\", \"borland\", \"allocation\", \"contrib\", \"menu\", \"implement\", \"export.lcs.mit.edu\", \"x-based\", \"macs\", \"imaging\", \"cards.\", \"workstation\", \"sunos\", \"converter\", \"dept\", \"server\", \"image\", \"requests\", \"available\", \"x11r5\", \"distributed\", \"resource\", \"characters\", \"directory\", \"subject:\", \"terminal\", \"graphics\", \"sites\", \"version\", \"library\", \"window\", \"interface\", \"user\", \"software\", \"includes\", \"application\", \"data\", \"display\", \"users\", \"package\", \"mail\", \"files\", \"information\", \"also\", \"systems\", \"file\", \"program\", \"system\", \"computer\", \"list\", \"launch\", \"satellite\", \"newsletter\", \"echo\", \"1993.\", \"launched\", \"satellites\", \"york,\", \"guidelines\", \"nasa\", \"games,\", \"hicnet\", \"shuttle\", \"telescope\", \"orbital\", \"centers\", \"executive\", \"clinical\", \"null\", \"1992,\", \"prevention\", \"colormap\", \"script\", \"molecular\", \"payload\", \"ieee\", \"spacecraft\", \"1993,\", \"cancer\", \"affairs\", \"mission\", \"space\", \"journal\", \"research\", \"january\", \"washington,\", \"university\", \"flight\", \"center\", \"naval\", \"medical\", \"institute\", \"1993\", \"april\", \"international\", \"national\", \"department\", \"health\", \"conference\", \"united\", \"science\", \"reported\", \"page\", \"south\", \"among\", \"study\", \"information\", \"report\", \"office\", \"general\", \"states\", \"program\", \"number\", \"clipper\", \"secure\", \"escrow\", \"ripem\", \"encrypted\", \"amendment\", \"crypto\", \"key.\", \"wiretap\", \"drug\", \"cryptography\", \"drugs\", \"key,\", \"cipher\", \"icon\", \"constitutional\", \"surveillance\", \"decrypt\", \"genetic\", \"patient\", \"handguns\", \"adults\", \"infection\", \"public.\", \"pointers\", \"patents\", \"diagnosed\", \"cooling\", \"transmitted\", \"plaintext\", \"firearms\", \"enforcement\", \"secret\", \"security\", \"encryption\", \"keys\", \"privacy\", \"federal\", \"algorithm\", \"private\", \"government\", \"public\", \"agencies\", \"chip\", \"communications\", \"court\", \"u.s.\", \"legal\", \"police\", \"water\", \"strong\", \"used\", \"phone\", \"israel\", \"israeli\", \"arab\", \"palestinian\", \"azerbaijani\", \"apartment\", \"arabs\", \"sumgait\", \"occupied\", \"israel.\", \"lebanese\", \"azerbaijanis\", \"mamma\", \"israel,\", \"civilians\", \"israelis\", \"troops\", \"lebanon\", \"baku\", \"gaza\", \"palestinians\", \"wounded\", \"territory\", \"romans\", \"apartment.\", \"israel's\", \"occupation\", \"holocaust\", \"conflict.\", \"apartment,\", \"daughter\", \"soldiers\", \"says,\", \"jews\", \"turkey\", \"said,\", \"killed\", \"azerbaijan\", \"father\", \"armenians\", \"went\", \"women\", \"came\", \"told\", \"children\", \"mother\", \"said\", \"started\", \"armenian\", \"people\", \"military\", \"took\", \"brought\", \"say,\", \"there,\", \"later\", \"kill\", \"three\", \"----------------------------------------------------------------------\", \"genocide\", \"montreal\", \"ottoman\", \"serdar\", \"azeri\", \"argic\", \"intellect,\", \"shameful\", \"\\\"skepticism\", \"chastity\", \"n3jxp\", \"geb@cadre.dsl.pitt.edu\", \"soon.\\\"\", \"x-soviet\", \"pens\", \"azeris\", \"sweden\", \"hawks\", \"baltimore\", \"armenians,\", \"islanders\", \"bruins\", \"boston,\", \"standings\", \"winnipeg\", \"yankees\", \"saves\", \"john's\", \"lemieux\", \"turkish\", \"turks\", \"scores\", \"armenia\", \"armenian\", \"vancouver\", \"rangers\", \"gordon\", \"armenians\", \"toronto\", \"surrender\", \"kings\", \"----------------------------------------------------------------------------\", \"banks\", \"muslim\", \"russian\", \"division\", \"hockey\", \"million\", \"york\", \"april\", \"controller\", \"drives\", \"----\", \"drive.\", \"bios\", \"jumper\", \"quantum\", \"vram\", \"slots\", \"simm\", \"quadra\", \"jumpers\", \"ideas?\", \"drives.\", \"warranty\", \"alan\", \"scsi\", \"handler\", \"drives,\", \"seagate\", \"256k\", \"retail\", \"lost.\", \"esdi\", \"controllers\", \"cable.\", \"manual.\", \"rode\", \"performance,\", \"configure\", \"layout\", \"drive\", \"floppy\", \"backup\", \"boot\", \"-----------------------\", \"disk\", \"simms\", \"adapter\", \"motherboard\", \"string\", \"hard\", \"drive,\", \"feature\", \"master\", \"card\", \"cable\", \"supports\", \"interface\", \"scorer\", \"puck\", \"play:\", \"flyers\", \"winners\", \"wins\", \"mars\", \"-----------------------------------------\", \"dodgers\", \"hartford,\", \"giants\", \"lindros\", \"astros\", \"scoring.\", \"venus\", \"(unassisted)\", \"jays\", \"recchi\", \"sea.\", \"(david\", \"soderstrom\", \"points:\", \"dc-x\", \"orbiting\", \"jpeg,\", \"suter\", \"bronx\", \"louis,\", \"manned\", \"ottawa,\", \"torque\", \"---------------\", \"blues\", \"award\", \"murphy\", \"static\", \"period\", \"gretzky\", \"gravity\", \"flames\", \"power\", \"moon\", \"pittsburgh,\", \"third\", \"points\", \"goal\", \"philadelphia,\", \"second\", \"#include\", \"first\", \"lunar\", \"probe\", \"failed\", \"pick\", \"doug\", \"leafs\", \"max>'ax>'ax>'ax>'ax>'ax>'ax>'ax>'ax>'ax>'ax>'ax>'ax>'ax>'ax>'\", \"ansi\", \"francis\", \"wiring\", \"grounded\", \"outlet\", \"parts.\", \"chipset\", \"white,\", \"translations\", \"cryptology\", \"bethesda,\", \"proceedings,\", \"micro\", \"earl\", \"cocaine\", \"seminar\", \"deadline\", \"goes:\", \"\\\"bad\", \"wireframe\", \"1/2\\\"\", \"neutral.\", \"rectangular\", \"entry,\", \"examples,\", \"potential.\", \"transformer\", \"pole\", \"lipman\", \"------------\", \"neutral\", \"--------\", \"(301)\", \"vacation\", \"visualization\", \"part\", \"virtual\", \"switzerland\", \"reality\", \"navy\", \"greece\", \"greeks\", \"cyprus\", \"son,\", \"mormon\", \"huh?\", \"sin.\", \"[kk]\", \"deity\", \"mild\", \"thou\", \"cult\", \"intentional\", \"exclusively\", \"god?\", \"quoting\", \"too?\", \"baptism\", \"turkey,\", \"negotiating\", \"regulated\", \"extermination\", \"mormons\", \"virgin\", \"praise\", \"pursuing\", \"psalm\", \"zealand\", \"practiced\", \"court,\", \"greek\", \"'the\", \"chinese\", \"jesus\", \"spirit\", \"jesus's\", \"history,\", \"ethnic\", \"....\", \"holy\", \"mary\", \"karabakh\", \"father\", \"(john\", \"------------------------------------------------------------------------------\", \"turkey\", \"reaction\", \"professor\", \"smokeless\", \"cursor\", \"period:\", \"ottawa\", \"skip\", \"screens\", \"smythe\", \"outline\", \"driver,\", \"wales\", \"habs\", \"truetype\", \"pain,\", \"campbell\", \"fonts.\", \"saves)\", \"nords\", \"answer:\", \"cigarettes\", \"islanders,\", \"investigating\", \"diff\", \"deciding\", \"momentum\", \"objective.\", \"pentium\", \"headache\", \"emulator\", \"accusing\", \"^^^^^^\", \"winner\", \"--------------------------------------------------------------------------------\", \"------\", \"slot,\", \"(pp)\", \"adams\", \"edmonton\", \"shots\", \"----------\", \"copies)\", \"\\\"clipper\", \"*******\", \"telecommunications\", \"1991.\", \"(205)\", \"initiative\", \"(1st\", \"cover)\", \"comics\", \"unauthorized\", \"gerard\", \"comic\", \"nationwide\", \"huntsville,\", \"gulf\", \"(415)\", \"intergraph\", \"nist\", \"lawsuit\", \"key-escrow\", \"modes.\", \"processor.\", \"encrypting\", \"2001\", \"spiderman\", \"print,\", \"neck\", \"archer\", \"...uunet!ingr!b30!catbyte!dtmedin\", \"uucp:\", \"attorney\", \"americans.\", \"ghost\", \"technology\", \"encryption\", \"annual\", \"administration\", \"protect\", \"policies\", \"industry\", \"policy\", \"privacy\", \"access\", \"approach\", \"congress\", \"myers:\", \"scsi-2\", \"scsi-1\", \"prompt\", \"president's\", \"cure\", \"0.333\", \"fixes\", \"problem:\", \"toshiba\", \"lopez\", \"asynchronous\", \"config.sys\", \"interfaces\", \"allocated\", \"---------------------------------------------------------------------\", \"orchid\", \"card?\", \"keller\", \"multi\", \"champs!!!!\", \"kkeller@mail.sas.upenn.edu\", \"quakers!!!!!\", \"rangers!!!!!\", \"*are*\", \"simtel20\", \"synchronous\", \"region,\", \"x11r5.\", \"winmarks\", \"iisi\", \"9600\", \"swap\", \"burst\", \"8-bit\", \"keith\", \"stats\", \"kent\", \"symbol\", \"fatal\", \"baseball.\", \"fleet\", \"wrist\", \"managing\", \"driver.\", \"forwards\", \"nhl.\", \"meanwhile,\", \"saturday,\", \"earned\", \"5.00\", \"runner\", \"inflated\", \"fantasy\", \"afternoon\", \"gainey\", \"serious.\", \"household\", \"awards\", \"yogurt\", \"sweep\", \"fan.\", \"broadcasting\", \"desperate\", \"darn\", \"wont\", \"wires\", \"aged\", \"cheers,\", \"ported\", \"predict\", \"henrik]\", \"hash\", \"cleveland\", \"80-bit\", \"hong\", \"mono\", \"bone\", \"bishop\", \"kong\", \"symmetric\", \"disks.\", \"rockwell\", \"wipe\", \"schism\", \"padded\", \"nervous\", \"archbishop\", \"greetings,\", \"violating\", \"allowed.\", \"theft\", \"e[m;\", \"combustion\", \"legitimately\", \"30-bit\", \"mathcad\", \"rosicrucian\", \"toner\", \"markets\", \"edmonton,\", \"sat,\", \"prisoners\", \"pope\", \"sale.\", \"risc\", \"3000\", \"inner\", \"picture\", \"consensus\", \"skipjack\", \"canon\", \"nubus\", \"speakers\", \"55.0\", \"terminals\", \"accelerators\", \"etc?\", \"disagreement\", \"(frank\", \"similarity\", \"object,\", \"neural\", \"generated,\", \"hood\", \"<feustel@netcom.com>\", \"feustel\", \"n9myi\", \"football,\", \"pro.\", \"ross\", \"that)\", \"rs232\", \"year!\", \"(403)\", \"462-0666\", \"idacom\", \"parsing\", \"devoid\", \"46.9\", \"19.6\", \"zx-11\", \"hazards\", \"game)\", \"andrew@idacom.hp.com\", \"tiger\", \"ext.\", \"andrew\", \"shell,\", \"resources.\", \"adobe\", \"countersteering\", \".bmp\", \"cardinals\", \"clip\", \"ninth\", \"overtime\", \"converts\", \"inflammation\", \"implementation.\", \"inning.\", \"training,\", \"organs\", \"lciii\", \"right!\", \"arafat,\", \"leftover\", \"*the*\", \"cardinal\", \"place?\", \"gerry\", \"kron\", \"dodger\", \"dietary\", \"lust\", \"studio\", \"file?\", \"rivers\", \"cops,\", \"from?\", \"cross\", \"------------------------------------------------------------------------\", \"angels\", \"era,\", \"tape.\", \"hangs\", \"offer,\", \"gifs\", \"these?\", \"motherboard,\", \"***************\", \"other's\", \"time...\", \"unaware\", \"flood\", \"scrolls\", \"generous\", \"connects\", \"telix\", \"archive.\", \"worthless.\", \"quantization\", \"ruff\", \"statutes\", \"amp.\", \"natives\", \"immoral.\", \"(never\", \"combo\", \"somalia\", \"suspicious\", \"recordings\", \"dubious\", \"sticky\", \"(mostly\", \"shack\", \"click\", \"program?\"], \"Freq\": [3345.0, 4036.0, 1329.0, 1006.0, 689.0, 7284.0, 980.0, 998.0, 744.0, 651.0, 1565.0, 1464.0, 2199.0, 555.0, 878.0, 3331.0, 3397.0, 875.0, 1725.0, 495.0, 1300.0, 1530.0, 734.0, 4385.0, 1144.0, 1304.0, 1554.0, 396.0, 2004.0, 614.0, 488.95592436007405, 486.3609282843431, 376.5058415677587, 350.98322602919893, 266.4909380087174, 311.998506742415, 263.7819579235891, 251.06111491525988, 227.9570784304637, 212.96984413008607, 196.2528215284066, 194.07242150016648, 191.88004541974885, 186.273181625011, 176.39098390011227, 163.36154968128875, 159.0860844667557, 157.81443486306634, 150.20072898017162, 143.21170331463478, 135.35997886489366, 131.70780808823386, 131.54437363196453, 118.327844595566, 115.21054093850883, 114.15150637564005, 108.67413273337478, 160.3045930739983, 105.86901601989561, 100.88292308565379, 267.87044501776694, 432.0057264403479, 128.25962405170887, 324.3509074536672, 381.37013177887945, 259.8724843645182, 420.22304155594816, 274.4839098558216, 170.45140174469543, 286.947552191807, 3058.361991908009, 506.7889516485923, 1176.677671940254, 647.4579392419472, 213.9131661059898, 456.59555192708706, 558.2916358271584, 505.75658969401417, 333.69677934371634, 1436.127099708849, 485.6818379882736, 3053.4095952959715, 435.2184009002513, 1371.4487159336468, 1571.4062511619086, 901.6348699247123, 479.10268213282745, 589.116973031465, 570.1969111409126, 631.563544516638, 490.4595680366398, 486.9594974987804, 464.30748769471205, 642.1613441802375, 528.8977067203881, 899.3336590997191, 715.1779777014992, 1025.7353029542232, 929.580703231521, 647.6392867214491, 1084.4878019101775, 951.313284815431, 614.1852862935118, 622.8240313804449, 718.2827072331277, 645.6912600320497, 568.4507122930825, 613.3464083292904, 635.5299079703403, 637.0647098045812, 587.5210218540717, 551.0345858221452, 514.9921458902876, 445.29278532634754, 969.7047105365583, 353.74603725000634, 334.5628178766191, 330.8182533653952, 295.76779653290214, 264.7228815493416, 260.4371675032958, 259.86193729973496, 246.60841851680522, 245.57307130442268, 244.62205835770473, 242.2436865655714, 235.09251018436348, 230.98187228306335, 215.25038389159914, 211.82566841515026, 208.37630181459704, 198.12389650151493, 192.40887894135324, 183.6902716065956, 174.8009391484297, 174.33936713568818, 171.72755115694582, 167.92152672052876, 158.25941929583183, 155.92812527476048, 153.55939288359647, 149.4316866670822, 530.2292827095457, 484.035594414016, 466.18599805658937, 249.6646262696965, 436.37624149679516, 340.6377390506198, 810.0052151014344, 1376.839990082859, 395.6312071111305, 383.1321078606654, 278.9232721139865, 1394.9810908794673, 1274.9076758539209, 584.6601399274161, 1325.9759630512287, 471.7967170184549, 1268.4699550486637, 383.55775246892347, 1028.0297738226448, 279.63560845615274, 660.1075774194286, 513.8970875555002, 885.0287987592441, 871.5857377349037, 602.3604864596753, 1204.8295385964502, 856.8858890939107, 694.0112393354442, 1685.600439984361, 1413.6226011011404, 451.62748066173845, 819.3635764674312, 1886.0454734603525, 556.6783999270556, 1136.981250807905, 717.8215390591598, 835.5492079573921, 980.5249031485341, 719.0145303500939, 754.722620973534, 736.6989837626126, 597.8899309541138, 660.8928318426572, 600.3266148264213, 274.40943428361857, 208.15479858449348, 201.62792523049126, 339.4355129798973, 184.8447049952529, 170.03029484480493, 166.76490039980155, 139.82609397974923, 126.51407092968539, 121.2536770189337, 119.14149599296552, 115.79188365244508, 115.67447176657788, 114.0406771101095, 111.62101134495873, 110.56696666566562, 105.07649098180094, 103.63814118565769, 102.42833540021728, 99.7922854636858, 160.4619306721369, 98.7160956508305, 98.17153807771017, 98.02731357678051, 97.35398364395273, 94.9575875434658, 93.53232566351775, 93.13466843340635, 106.8922022539558, 92.01685742122216, 407.98411083500207, 517.2625748609624, 507.4450118864532, 131.55423287588926, 607.4650352210762, 199.87219346661405, 422.8291136508422, 576.8954565879537, 153.9311417821301, 253.82162726298247, 377.3105063006924, 1164.3455724161354, 277.0270988140663, 452.50928302252476, 185.50529250035646, 1230.4668089197553, 205.0975914275394, 220.23036581686435, 665.6636655935899, 283.5108741748832, 981.7661608080538, 791.1149462436675, 282.95381127396973, 354.4632859711757, 563.9334336818557, 272.9832578753649, 453.48640570989414, 560.0138873013063, 679.9738251591999, 698.1041388142536, 373.8808761205768, 1227.951544462396, 1481.9970482545812, 1038.2153459520055, 2332.3134898363624, 1611.3714521070253, 1005.1319119125427, 795.8107713471163, 751.8767231591767, 793.3060747723991, 767.3735204598195, 618.9089682370693, 881.8745236989647, 1011.1022778568986, 1060.9666424236939, 705.1233264651352, 882.1503183387886, 740.0351667844909, 774.9047897675481, 593.2738320780272, 672.4121528660239, 588.8955853965409, 424.1071417050206, 324.79109687162094, 300.86755887496355, 217.07676697857227, 233.01793938964343, 199.89812151858825, 193.18812417533442, 109.72323596791546, 106.84526840426598, 102.41597375536442, 98.37281604345694, 93.45104721152111, 88.09103889475738, 88.026165967404, 81.49691341364588, 79.87740256190574, 78.42138409981659, 78.31414594516833, 75.43423392043977, 72.63647725319619, 72.4634652625865, 70.92094455897838, 70.04480343005054, 68.80026575613601, 68.46559322337842, 68.13998983727546, 69.2508627040381, 58.66061069414667, 55.784752758154454, 54.844478197689035, 75.3341955270844, 59.506852918643915, 73.54633488678137, 456.975831301574, 558.9492261956482, 131.5206596797951, 1037.9895405508232, 136.85579541140413, 140.5618181070253, 164.78283612607012, 85.46616658940403, 241.8288856372227, 336.2885826187765, 96.4633928016372, 312.28426315026144, 144.36907289990748, 504.1071354057706, 178.53358439289022, 434.9201170917583, 206.22674923289907, 249.12183091047703, 445.4084050161446, 268.9950039263623, 244.7583551429673, 477.0975049418542, 259.2436292130971, 200.8096758633853, 221.37250943389796, 238.38154383326776, 260.7843030540586, 319.5859172067272, 457.3109693037791, 209.5429637889482, 290.32053170933057, 249.0677463637054, 246.40035117205073, 221.78571116699305, 211.6283720197843, 244.02980429740404, 194.93335195435836, 112.38793595554951, 107.77667004381897, 114.62578428832153, 89.00008367738523, 86.42253395872376, 84.44934535839764, 83.98667724563184, 262.3841789592148, 83.19299160643621, 74.32463426796396, 157.3342885742522, 66.58395663813948, 65.79716620181667, 65.47371974467987, 63.369372097232464, 61.37663115925512, 59.103357868357314, 59.81438299628163, 58.15295314287623, 53.53531428868849, 53.158040874075745, 50.641844807115234, 49.82597846085646, 49.525890356818, 91.78224342109732, 47.811312825823634, 105.05920914924121, 45.932489514318775, 144.46571001031796, 927.4444918389122, 96.30680727690236, 422.1105567756504, 83.16079578787364, 146.90934260070904, 478.4355984638773, 130.93961582352583, 342.5792660682888, 95.07436827312257, 283.8587626327111, 126.7864781137587, 427.2796377728581, 417.25092702182786, 260.7324433514326, 441.3763270647094, 184.6573696706021, 290.58187216491314, 152.0779184048349, 244.05577395258047, 220.10720514218568, 158.5041109436266, 156.82463067794822, 153.08439956239252, 225.96887854676655, 160.81639333275734, 286.7667632423188, 142.60400523465822, 141.70734212998386, 173.52184914674802, 157.84942167125325, 169.50243741111228, 170.31454211699193, 230.34201020510497, 141.15379548535293, 141.23123384093674, 137.02490522372898, 121.87618348809438, 120.54609007541228, 111.52518226959528, 89.3133292266741, 81.25679748549233, 180.69668024393522, 79.26279843685391, 110.04215968692853, 73.9986289371813, 62.38402953920995, 56.48070619350559, 55.935905141129176, 49.8378705745103, 48.032036606158165, 46.99714153379845, 46.14028346962589, 42.78366621260204, 39.308519196928955, 39.12635975024655, 37.7806688491475, 37.71744668625175, 37.70957072675409, 37.51517694647291, 36.532942701342684, 36.400608564881075, 33.77439646676171, 115.05966065553646, 152.31300913583314, 189.70710392937517, 323.0578225705834, 329.9424407087328, 223.97250384063733, 164.80078047268816, 214.2171070450652, 167.84817623492455, 218.9795744929459, 514.9361003193882, 367.63077723095887, 89.63906621387223, 239.5150664485381, 102.65299111076361, 130.13522519439914, 165.04061116092103, 120.03363793946937, 131.9348218832798, 113.99028037707556, 117.95372401238909, 141.85412099937852, 110.6503673609471, 345.2045501804336, 316.65242444936695, 182.98679255891912, 97.34436373089748, 79.17216527651613, 78.97613660088892, 78.1935492686111, 72.66362049334774, 65.62397109863547, 63.719029289596484, 56.238745705224595, 55.35661262424018, 54.53166299169283, 54.331977516967584, 53.891230188772326, 51.80874169203372, 93.55707549464965, 48.16428681635699, 46.53587175104607, 45.80468163924024, 43.22709891058404, 41.94511404137268, 41.14834398552122, 38.325537521548625, 37.73611807621136, 35.37839180691847, 34.912834814124324, 34.24250919382553, 31.33952387404903, 30.930623023302672, 76.14545084604207, 135.67734819248776, 140.3502606416766, 294.73681126659034, 126.2078709559903, 249.06653416701675, 200.75028613466048, 68.67520426604537, 107.51194613885293, 160.31882427684988, 210.88984251107556, 123.05146743838819, 173.18658713880276, 158.61138598506327, 125.43704195009404, 78.54404437066937, 200.63962048416624, 126.34834052929912, 114.46716994201319, 206.18869391592304, 100.89680869247299, 106.9165222698033, 87.85798844597126, 89.76250598550163, 84.39282986463442, 84.56262656264339, 83.43865986174949, 85.10629763296619, 395.41024658229657, 126.9907725682436, 82.9458335348038, 74.74741137624235, 71.32431238888128, 71.01591038204073, 70.92346214651344, 67.25811157825488, 66.60695202077757, 65.7317160134578, 65.7317160134578, 65.7317160134578, 64.8570320328342, 64.8570320328342, 64.30585425167881, 62.12746876992027, 60.027429329098084, 50.25853296988325, 48.045866166405276, 47.02243650500579, 42.61594138891624, 42.16923581972884, 41.75288244107057, 40.931035301365014, 37.838996929225885, 37.15390860489391, 36.98345760553545, 36.271303737012396, 33.977041357298425, 32.968233445027444, 359.74887667798197, 143.1026319437546, 48.911235276391174, 120.37761335913683, 380.0317662698319, 59.147716802771654, 61.54203286144444, 79.7345226046959, 220.2050263168485, 80.2733099379064, 70.30009411791585, 85.93636161972701, 68.22967856349425, 69.6227434450897, 82.69594635775609, 100.37643365976021, 76.48761754988524, 81.91271789238264, 76.83387745477076, 71.00318129587049, 64.87112494966554, 185.9592418375497, 185.27789248424816, 153.15507375846036, 104.09628429565298, 97.87448933138963, 49.61625017993358, 44.409795277806985, 43.05705682761895, 37.93828608920073, 37.05374326662507, 50.50672677228842, 34.431644308460484, 32.998212946886056, 32.70982325880385, 32.565901792013285, 32.30978121551236, 280.63809945436094, 31.56092463495516, 30.169455621737015, 26.24992942454034, 25.49092609766074, 25.28703541043757, 25.007692602065124, 24.450426851660243, 24.107741050895026, 23.65953798903151, 22.546763307917086, 22.227763844588267, 22.120515194236543, 22.073803710853426, 35.889770748333774, 509.68230802952667, 126.28603174878812, 63.50126298640518, 59.466825099027666, 28.74872040828654, 244.1696250930915, 64.14262296980202, 46.50300885873912, 62.95396596922933, 63.98665806956321, 232.74793204230755, 51.721873816518176, 51.54544588735516, 47.278688197901715, 63.224889182125814, 49.26858213175734, 44.99552193111701, 36.35678809880428, 98.62698060104208, 98.47947033687151, 94.06603703532939, 66.54354545320028, 55.957925671566606, 46.8200085868026, 45.4020476430039, 40.45450465418797, 37.909932885055106, 35.15603342225106, 31.581371568711866, 31.365428463898983, 30.10430559282942, 29.98291200989142, 28.87953988597252, 26.589730438462333, 26.57393900262913, 25.052991719408897, 24.848416634874393, 24.736875204763056, 24.28776645427164, 22.367576348942546, 22.13310772747001, 22.05411703758008, 20.57920954656062, 19.931062865854447, 19.788604836116594, 19.443765688650174, 19.359860749661234, 19.095066894278073, 26.405005529791065, 108.86332402112113, 33.83975978451798, 33.79358989185972, 31.70107581692148, 30.910867321507098, 193.39127073418464, 26.957908819515715, 28.550778001101985, 63.440480017108584, 170.1401112145084, 43.10762357169075, 35.563918068688075, 74.85902263981507, 63.210103646389975, 51.305809282216735, 29.8661744463565, 83.66633474989402, 35.71463747747685, 86.49319691472407, 44.04862441099887, 34.328184499020544, 40.02233853145669, 43.17932075108475, 32.32282393207051, 31.78488613739588, 3344.746007542292, 73.28997648759177, 49.75020202357101, 91.71009614242075, 35.66044490229575, 28.35576641342753, 26.103629217978686, 25.320033380341997, 23.052470575371455, 22.538585104101337, 21.10499410345329, 21.061669587588977, 20.214212264948152, 18.56393048565779, 18.516497858077923, 18.29208978787734, 17.511579072144993, 16.60403276376875, 16.372230451423967, 15.484015061041696, 14.887515086280855, 13.917357314661015, 13.804092600651206, 13.668132767943707, 13.583311657483009, 13.43251667779397, 13.40339287575635, 13.055710943866783, 12.903543901527444, 12.19419648491663, 34.16644186649821, 47.34775890935165, 37.5037935744653, 21.37811802529517, 15.38533423335804, 20.643464173889626, 39.62390944797981, 20.905823371367205, 15.92213288168034, 17.965953457187076, 16.091532815541186, 44.47080524130797, 39.64522816985772, 38.16215195307506, 33.44726675564811, 30.38077625181892, 29.79349335870579, 29.778737953793303, 25.81576112925441, 25.42164663438814, 24.950163382081378, 24.380208707120158, 24.3122999354039, 24.006113760953756, 23.907230819866886, 20.151414020276782, 19.58269225453906, 19.5253018939552, 18.851157336202746, 18.70314403250734, 18.551204842966744, 18.507358377030354, 18.35093692872395, 18.216128428487707, 17.993284613042913, 19.720593727313293, 17.95991869854313, 17.907050102494587, 17.862461257306126, 17.61085394950962, 17.033435976258215, 164.63677842500311, 33.47507881738409, 30.873446119099864, 171.3129769320322, 50.94807573811018, 24.6123133333679, 39.567642130684916, 30.033441526275258, 30.143458510069408, 51.265422292447276, 32.88498772248819, 25.238181840777496, 43.958998120846246, 23.180685151005108, 24.717439832111292, 33.64102938651137, 26.69040734371926, 26.985424907913806, 75.91841684277642, 46.93386548135458, 36.941233236666655, 36.380606130449706, 30.32235445335465, 27.912740318574574, 24.76063532316641, 24.046090494028878, 23.734980994618216, 21.508753545227812, 21.475278827823313, 21.235476726950143, 20.670279587625764, 19.208146791734904, 18.60503884045372, 18.576402033266877, 18.289970712636304, 18.255011509579273, 18.183046819984273, 17.63484995578515, 17.46967767371942, 17.402273095857392, 17.2158517100569, 15.727057700667155, 14.976056781101988, 14.510978711726676, 14.420970762517047, 14.391152071598487, 13.785806850378147, 13.052057960814981, 25.894601296618255, 24.18916911535953, 63.677841740364045, 16.80332716115925, 17.831382462325077, 25.927664276982952, 19.503120415769526, 24.65938273618609, 22.25509389914367, 32.45854620136754, 31.12822272258422, 30.902110994337292, 25.357022175181946, 22.136223858594036, 21.955793112628765, 21.8386774331428, 20.563394648607094, 16.725857938277393, 16.332241752841156, 15.652829825116468, 15.16394552666729, 13.921906375814611, 13.791026224391553, 13.67893427090339, 14.990560892224504, 13.48198379450726, 13.235961992402078, 13.092597210253349, 12.669352324664919, 12.638372860110747, 12.280637361533708, 11.65930507931264, 11.573024868812135, 11.373287970702142, 11.105123088829945, 10.81421442925859, 10.718702383453884, 10.683418096151645, 10.305889654440149, 15.294194891531907, 29.432502966049878, 14.236580751785427, 14.193604522089114, 47.87400470443922, 49.04357539885552, 27.60298553593546, 36.736209665825896, 29.199273128496113, 18.98402546077574, 18.768380276104992, 20.030982853844094, 16.94536306386453, 17.90309478483666, 15.179207982356454, 14.124240567130315, 77.90362130443462, 44.30518670486603, 38.2891506234029, 21.033733736043214, 20.272226016737545, 19.746675411382707, 16.7246052937217, 16.38321042634362, 16.32849712426353, 16.09246843224082, 15.888025191209307, 15.277155150948445, 14.714413230154754, 14.652906518343556, 14.0173030006996, 13.321065535689067, 12.548216758926397, 12.481070020405964, 11.80788720163808, 11.288805464529355, 10.516457734269842, 10.516457734269842, 10.516457734269842, 10.516457734269842, 9.39595507577553, 9.36628271143275, 9.152862116090619, 9.12363060759964, 8.994192238638878, 8.96023495062949, 14.662610227406313, 11.415614152735726, 24.592886662503464, 16.798926107173695, 10.577090868249236, 9.965975185059879, 39.26226121950231, 27.3390874923364, 26.775397939803565, 18.957743709454533, 16.05299692864224, 13.718623947049029, 13.100603572975581, 13.068557733179016, 12.032366394200844, 11.950178305616031, 11.29828609031773, 10.776602889548688, 10.73825824604011, 10.488606970278012, 10.266496842861821, 10.168653946283975, 9.954669317250849, 9.384567962436217, 9.049582662447095, 8.758991935527941, 8.721306565883562, 8.44974257973922, 8.397307777145599, 8.33060118586397, 8.28767074150188, 8.17726975233729, 7.972654299197615, 7.945009164437795, 7.552291993930388, 7.5467356532137035, 18.0255817654392, 18.982862667599058, 17.054155938016304, 9.367758905248762, 10.083045397924225, 49.45737508251359, 16.19290951660967, 14.912773146568275, 14.072194570057349, 12.187431577293365, 11.953132185943572, 10.183241956020924, 10.034285610604632, 9.399022385481224, 8.854195536263253, 8.843201233022347, 8.730440768034793, 8.109452120466397, 7.691100658403753, 7.44420876198104, 7.109598519979446, 6.347158397016428, 6.020975084467284, 5.909292512649233, 5.753722811158382, 5.462522360932238, 5.460506876730089, 5.355105802426725, 5.258881316225878, 5.246704022642843, 5.173249382497669, 5.158317818183723, 5.087672327096053, 5.033471178344081, 5.013960380079965, 7.323312843936056, 7.529433767740359, 14.88788841405851, 16.154999982775045, 8.849258557750101, 8.40916129991482, 8.845849888860569, 19.18823588568178, 7.98221464937951, 6.234469377397458, 8.394557452400246, 8.7769548093032, 6.95182850822424, 56.1817823105809, 8.56476586688129, 8.022602544055479, 5.547337088387858, 4.705312213804238, 4.496084188834428, 4.13901961709547, 4.127551172241263, 3.9243463180317137, 3.912568441927408, 3.7595204842713277, 3.5387042987580055, 3.5387042987580055, 3.5387042987580055, 3.4467670243635515, 3.1333857531083726, 2.7990033272273314, 2.7495106339999085, 2.74058425834236, 2.671190323242476, 2.6307978121716924, 2.6307978121716924, 2.6307978121716924, 2.2665773444793134, 2.2543921963954445, 2.14718441026335, 1.949587699166919, 1.9112581956723025, 1.8648007525542911, 1.6902493116491182, 2.496332831762817, 3.8453128835835026, 2.524534029988322, 3.4413316934331686, 2.1787815965723527, 10.071309461435105, 7.675127042171456, 7.395947152230984, 6.503793747377725, 6.234564484157715, 6.017997043811201, 5.538995122335379, 5.503278820884015, 5.131475379580916, 5.020292378685994, 4.9219346782575295, 4.542948533129627, 4.4962741664244605, 4.429760787452126, 4.391204913381827, 4.33325331447372, 4.0349668316595695, 3.9483376119437703, 3.8629582818451245, 3.824079984020082, 3.8226893280274012, 3.7550230398714386, 3.6737794910219077, 3.5820208024806472, 3.5524037741899996, 3.5209513550081533, 3.464624540228887, 3.453849217956169, 3.2854868429484516, 3.2598796660902516, 6.084925122697044, 9.600627954541565, 4.961584839010594, 4.099132415659093, 3.648543228135214, 6.8671977814399225, 6.267829718314859, 5.867068762128476, 5.494589429414053, 5.21373150356609, 5.070194602300868, 4.991304972550137, 4.602872376928455, 4.442879711438028, 4.3451528981727, 3.9534735839927575, 3.922671145581049, 3.802609333442224, 3.7936470855027533, 3.771084376295344, 3.3925276393987907, 3.2730874149282143, 3.2540403686464168, 3.2262055497755924, 3.202713536232485, 3.131426046751097, 2.9863893344487247, 2.9728993434644, 2.9006665483806073, 2.7414597912588463, 2.7065721063700763, 2.6952739812079956, 2.3253137709916496, 2.317246516979456, 2.281727243630746, 3.6503003531380145, 3.8367668066791363, 4.954501443689825, 2.878662037207951], \"Total\": [3345.0, 4036.0, 1329.0, 1006.0, 689.0, 7284.0, 980.0, 998.0, 744.0, 651.0, 1565.0, 1464.0, 2199.0, 555.0, 878.0, 3331.0, 3397.0, 875.0, 1725.0, 495.0, 1300.0, 1530.0, 734.0, 4385.0, 1144.0, 1304.0, 1554.0, 396.0, 2004.0, 614.0, 489.6931069516189, 487.09812260999485, 377.2430193484484, 351.72040414103236, 267.2282194856221, 312.8683963245608, 264.5191357010638, 251.79829269273452, 228.69425654229707, 213.70706317877702, 196.98999930588124, 194.80963067648088, 192.63177963940387, 187.01035966525598, 177.12816171481498, 164.09872746197837, 159.82369842079092, 158.5516126618197, 150.93790676086124, 143.94888205982073, 136.0971566423683, 132.4449858657085, 132.28155140943917, 119.06502237304065, 115.94771871598347, 114.88868415994597, 109.41131766324591, 161.4034472356135, 106.60620206684621, 101.62010086312843, 270.23570167322947, 440.06282106610126, 129.25472503524063, 332.2929139872853, 393.4670874257482, 266.0440562649216, 441.1355287072884, 283.68604576612324, 173.8292648683141, 307.68219986011775, 4036.722351211083, 573.3425645104361, 1451.8749149302048, 801.8031707105492, 225.24550630596505, 556.0997049034407, 717.0578362728295, 641.0919043808032, 391.19369572413905, 2472.095547148007, 647.6924874916515, 7284.909827166429, 562.1920986108429, 2663.393693352223, 3331.8972242077057, 1559.324660944429, 651.1158419686134, 889.1586187186671, 847.4764936711066, 1073.0634399638295, 723.6328441196766, 717.7054981822573, 670.7419849189995, 1170.5025232357248, 845.8334564608577, 2376.7000249274647, 1577.391797611198, 3526.650757604947, 2974.5340936327852, 1356.4624300118478, 4385.393943488852, 3397.150685853721, 1336.4225598340984, 1430.3525295171585, 2261.666494960947, 1757.415362900822, 1181.016663899559, 1659.5741585269436, 1993.872795665571, 2243.253621385265, 1566.2200653673322, 1075.1800709729018, 515.7284912280642, 446.0292270146649, 971.4055537899144, 354.4823824851383, 335.29916356788135, 331.617629054419, 296.50477556321806, 265.4660897256542, 261.1735127525842, 260.59850519405944, 247.3447637444777, 246.30943550277362, 245.35840358032365, 242.9800394240653, 235.82890216313962, 231.7182181363213, 215.98672932578387, 212.56201363410338, 209.1126472841382, 198.86798103516642, 193.1452243033449, 184.42665253516583, 175.5372845205284, 175.0757202016147, 172.46389785109906, 168.65787205162786, 158.99576451478495, 156.66447058404944, 154.29573815020507, 150.16803219598435, 534.1446753671321, 488.8501211553643, 471.2083210743365, 251.5030343673083, 442.30534226182823, 346.85661973119676, 860.5580390640155, 1554.8361214260867, 418.1770927383394, 407.90811789244276, 289.39021888481574, 1725.3263744828696, 1565.909382831812, 669.2430599171408, 1801.7394077913161, 535.7155214068013, 1909.8064441875988, 432.79991084944965, 1530.2421930152345, 290.768664341408, 884.7581676168139, 640.6939030624214, 1304.2387980071742, 1286.5229689416735, 790.561773308977, 2004.9825292152063, 1392.9576063175919, 1031.3393997847859, 4385.393943488852, 3526.650757604947, 552.3350123128542, 1528.1454441375852, 7284.909827166429, 806.3574991549444, 3397.150685853721, 1379.8251698885267, 1993.872795665571, 2974.5340936327852, 1577.391797611198, 2529.460184523341, 2376.7000249274647, 1181.016663899559, 2261.666494960947, 2243.253621385265, 275.14612181381415, 208.8914861318579, 202.36461427722674, 340.71612285920367, 185.58139254806355, 170.76698237500048, 167.50158857376036, 140.56278155459813, 127.25081714024506, 121.99036454912927, 119.87818634138833, 116.52857135931673, 116.41115931726723, 114.77736464030507, 112.35830130320679, 111.30365419586118, 105.81573805609078, 104.37482871585325, 103.16502306703806, 100.52897316155199, 161.65763088312895, 99.45278321932145, 98.90822585030512, 98.76400110697608, 98.09111517740577, 95.69427507819152, 94.2690132142071, 93.87135598496982, 107.74443487316843, 92.7535454189562, 417.24700126699133, 530.402982201791, 521.9144927794267, 133.354727251473, 657.4792551383302, 208.99008952011516, 464.3229242190611, 647.8629162428745, 159.02786851085548, 272.86848609573406, 419.3801124273141, 1474.2762060367052, 304.38983375144954, 523.3817165707948, 197.29819002421408, 1617.6830206504187, 223.37560251829547, 242.58449257628618, 868.3576630948952, 328.980927694484, 1436.9888194123107, 1120.0361971800503, 332.05741516703785, 439.884820162992, 790.9651896594535, 322.2669469332205, 629.4237208094141, 831.2250682733711, 1097.6463978688487, 1142.899135741693, 493.8982580610631, 2529.460184523341, 3331.8972242077057, 2199.253268074271, 7284.909827166429, 4385.393943488852, 2243.253621385265, 1579.7751049833391, 1464.5804162425572, 1605.6023367623466, 1614.105113534635, 1167.8221748213932, 2261.666494960947, 2974.5340936327852, 3526.650757604947, 1566.2200653673322, 2663.393693352223, 2376.7000249274647, 3397.150685853721, 1398.5721702328958, 4036.722351211083, 1659.5741585269436, 424.8512466351113, 325.53103505361423, 301.60720803140214, 217.81648113336325, 233.8355681408934, 200.6380100014209, 193.92777336948495, 110.46288521201008, 107.58491756070455, 103.155622911803, 99.11246520672677, 94.19069636795969, 88.83069015441416, 88.765815237509, 82.23656257691572, 80.61705176616314, 79.16103333806598, 79.05380741977855, 76.1738830837096, 73.37612640963476, 73.20311441902507, 71.66059372224821, 70.78445259067831, 69.53991492359505, 69.205242379817, 68.87963899371404, 70.01217599081279, 59.40027056330906, 56.52441024302029, 55.5841273541276, 76.49770405787832, 60.30968411148655, 74.83998361951002, 482.8050084590788, 614.7837160803484, 140.07506643037982, 1329.8071747005129, 147.1823140904222, 151.9053619909523, 181.45197833792002, 88.27422278967838, 284.72272821330074, 445.0102440119593, 103.63607379817509, 456.67734020426025, 172.08353770200532, 878.7681355252465, 231.92285892113134, 753.9562179508792, 284.91719479418356, 376.245869965711, 875.4117435263581, 451.2185772672237, 406.5631135699304, 1144.6898256809698, 444.6835931053157, 310.19028208292997, 428.0037643129602, 534.076496809463, 715.1936515199972, 1300.056115904369, 3397.150685853721, 443.5467329802901, 1565.909382831812, 1304.2387980071742, 1530.2421930152345, 745.8322499390326, 786.3710593320798, 244.7696823408164, 195.67325690980005, 113.12780443208122, 108.51653889410203, 115.42542573338658, 89.73996965000669, 87.16240819921246, 85.18921412673073, 84.72654573313388, 264.7049774225916, 83.93286009796363, 75.06450274868487, 159.0515612034042, 67.32382519990591, 66.53736314717098, 66.21358822993093, 64.10924429306095, 62.12762881718062, 59.84322635538608, 60.565552978713775, 58.892823822908184, 54.275182775717255, 53.897909364770314, 51.38171328364693, 50.56584693738816, 50.26575884120471, 93.1638277852924, 48.551184261476024, 106.74455771315586, 46.67235799801142, 148.31896633106638, 1006.4332195903219, 99.36907144127679, 465.4530698664784, 85.92628905671197, 157.7190410565783, 563.6566872990304, 142.19208979343603, 404.7006060170265, 102.23618173223667, 357.02804786576905, 142.2260861596789, 583.204864244855, 567.4675415183045, 341.5818487678373, 645.7702763063581, 230.71900904448017, 420.9658728855814, 197.51957262867356, 407.0046443223175, 377.98010949987787, 234.29009903616785, 236.25265755851197, 249.2531166215856, 537.9023469856204, 301.8238495072493, 1300.056115904369, 262.37660397785777, 260.52819278421447, 601.4194091607819, 469.86717623392764, 1304.2387980071742, 1379.8251698885267, 231.08928342883317, 141.90112579009096, 141.98213574301687, 137.77217836737722, 122.62345667375943, 121.29336960741244, 112.27339367005175, 90.0606023703224, 82.00407062914063, 182.36565159643914, 80.01070853059095, 111.1030745468981, 74.74590209427637, 63.13130268986887, 57.22797934765095, 56.684447475807204, 50.58514498374464, 48.77930974980646, 47.74442080291116, 46.88802598007771, 43.530939356250336, 40.05579234057725, 39.8736329007261, 38.52794199489461, 38.46471985136978, 38.45684388089945, 38.262450090121206, 37.28075906297651, 37.1502803315612, 34.52166961041, 118.71650376966592, 161.67065959311026, 205.95153488202638, 369.0862589828743, 379.7026520469055, 271.30379242065607, 198.3742775608146, 292.64702653797485, 219.89622752629109, 335.72412026889685, 998.9442760133861, 734.1093315142851, 114.73282522310085, 461.95480145376644, 159.23641078233535, 243.2607000968389, 421.0730059475833, 246.89722719531363, 344.59595135631935, 231.48668830446724, 323.92348074960375, 2004.9825292152063, 379.68141624838813, 345.95484901101383, 317.4027232268737, 183.73709133642578, 98.09466250840418, 79.92246407214346, 79.72643541147318, 78.9438480461178, 73.41391927085444, 66.37426987980797, 64.46934050322047, 56.98904448273128, 56.10691140174686, 55.28196176919952, 55.082276297689255, 54.64152897289453, 52.559040469540406, 94.97094765210544, 48.91458559386368, 47.28617303372906, 46.55498041674693, 43.977397688090726, 42.69541283699999, 41.89883720096098, 39.0758363022703, 38.48641685371805, 36.12869058442516, 35.66313359163101, 35.03883691685673, 32.09071664627815, 31.680921800809376, 78.13432823066732, 141.483949767982, 168.6962516333694, 405.1620314230037, 160.56220425081747, 395.66500378991856, 313.3312115546891, 81.57234000341424, 155.75855378153426, 381.2293596082569, 630.4924621085842, 260.6691352039625, 643.1189420095748, 650.6110468486365, 414.54429561139864, 134.24231084116235, 1464.5804162425572, 475.5394647349138, 495.20444523604857, 4036.722351211083, 356.1229016331936, 548.493373733347, 235.2869848959232, 333.2039517180735, 265.43178304865506, 379.40991943560215, 304.2826798383019, 836.2715486602144, 396.16287552979816, 127.74340491383063, 83.69846551251788, 75.50004030618051, 72.07694131560444, 71.76853931270985, 71.6760921277526, 68.01074050497805, 67.35958094750073, 66.48434494018096, 66.48434494018096, 66.48434494018096, 65.60966095955736, 65.60966095955736, 65.05848317840197, 62.88009770325894, 60.78005825986593, 51.01116190372904, 48.79849509312843, 47.77506543172895, 43.368570353822584, 42.921864750302035, 42.50551136779372, 41.73274941842064, 38.59162585594904, 37.90654234299412, 37.73608653887412, 37.02397023479611, 34.72967030910987, 33.72086240610661, 368.230568910429, 147.93706268884316, 50.54643918969924, 134.23069099336428, 495.20444523604857, 64.42461369701515, 70.18625145231849, 98.20299592644753, 381.2293596082569, 104.82741398520707, 89.87063525874066, 131.84294527567644, 92.9204183407981, 98.76816283123418, 151.9087428629928, 316.5987800263543, 204.28968021600173, 334.14154798358084, 307.45123676498025, 210.14240524134524, 567.4675415183045, 186.71424308487843, 186.03286023711203, 153.9100398923154, 104.85125522505318, 98.62945547207593, 50.37121631378862, 45.16476165167141, 43.81202296147399, 38.69325222988704, 37.80870940048011, 51.5569661531368, 35.186610442315526, 33.75317908757236, 33.46478939265889, 33.32086793269959, 33.0647474080793, 287.2501506407933, 32.315890779307274, 30.92442175559208, 27.004895558395404, 26.245892231515803, 26.042001566458758, 25.7626587732387, 25.205392985515306, 24.86270718475009, 24.414504129717834, 23.30172944860341, 22.982730016968013, 22.87548133858867, 22.828769855205554, 37.58805812579885, 689.5145761765774, 164.30113870495333, 79.00132679178355, 76.38399922414037, 31.14880213542751, 555.5042809587363, 91.50519503730891, 62.817297212996216, 98.7475897290082, 102.59798379147162, 744.1950991762308, 95.24373690638807, 114.8698067280102, 105.26827142691745, 535.7155214068013, 211.42622109054793, 224.88155655282813, 284.91719479418356, 99.38140944345714, 99.23390124503774, 94.82046587774445, 67.29797429561535, 56.71235452081293, 47.574437435833175, 46.15647648960815, 41.20893349660303, 38.66436173906804, 35.91046226466612, 32.335800530591776, 32.119857306314046, 30.858734446390162, 30.7373408523065, 29.633968781620183, 27.34415928087741, 27.32836785618987, 25.807420561823974, 25.602845481235427, 25.491304071644766, 25.042195296686717, 23.12200522464084, 22.887536569885086, 22.808545879995158, 21.333638435228597, 20.685491708269524, 20.54303367853167, 20.19819453106525, 20.11428959207631, 19.849495773611455, 27.525718330513605, 119.4175366951524, 36.94203251699363, 37.23721338685129, 35.08729106979178, 34.532999549652686, 327.340568744447, 29.824915744351923, 33.05297732677023, 114.8585396277529, 980.269201669141, 78.07057958564216, 55.45831900523914, 378.6942848488145, 248.4948742349276, 175.1598050457093, 38.644745419470034, 915.6790934473547, 67.3243692611885, 2199.253268074271, 151.83868104955303, 59.583795862152975, 140.83342879943788, 260.57997345434904, 64.11848694566038, 71.26029686586912, 3345.491406204264, 74.03537520773297, 50.495600737802654, 93.44958700508887, 36.405843603747265, 29.101165082231596, 26.849027911590884, 26.0654320684934, 23.797869334037305, 23.283983828362594, 21.850392773281097, 21.807068350351464, 20.959610962796077, 19.309329161793464, 19.26189656113801, 19.037488475700176, 18.2569777419728, 17.349431480129127, 17.117629300993425, 16.229413839930103, 15.63291385217336, 14.662755987604145, 14.549491269455267, 14.413531458742607, 14.328710395459842, 14.177915414781697, 14.148791608164938, 13.801109616868475, 13.648942619612408, 12.93959514688943, 55.322684849699556, 105.032600213907, 78.06069058708837, 45.19587716278543, 20.320376812485115, 60.332547753328775, 1144.1646763718848, 122.65479256288576, 44.66847736309408, 133.82432861531, 63.53110676603159, 45.23122908312411, 40.40565275509077, 38.92257586546298, 34.20769057875943, 31.14120007098429, 30.55391787142223, 30.539161772958675, 26.57618494841978, 26.18207045355351, 25.71058721205146, 25.14063252628553, 25.07272375456927, 24.766537626836193, 24.667654702704205, 20.911837839442153, 20.343116083985752, 20.285725726567343, 19.611581155368118, 19.463567864678982, 19.311628678228193, 19.267782272973978, 19.111360760895593, 18.97655224765308, 18.753708509490444, 20.554814664260274, 18.720342532179018, 18.66747392165996, 18.62288512648042, 18.371277779236465, 17.793859820951475, 221.56129899458284, 45.20922364374118, 40.740141817405394, 651.1158419686134, 120.1434146221927, 34.11588286719081, 87.3020278138872, 52.63033068863322, 53.32849254750659, 174.61708333761578, 66.61085065683558, 39.05881019043302, 155.75855378153426, 33.09415387233681, 48.59522481617169, 160.56220425081747, 70.86600023226835, 108.18327691637744, 76.67459889411955, 47.69004751781672, 37.69741701059185, 37.13678816864501, 31.07853652475087, 28.668922366034145, 25.516817364127203, 24.80227254426749, 24.491163064436595, 22.264935586188603, 22.231460874867878, 21.99165902642358, 21.42646166582439, 19.96432882589595, 19.361220884720748, 19.332584059231962, 19.04615273860139, 19.01119355804017, 18.9392288787171, 18.391032013230653, 18.22585978764884, 18.15845514030865, 17.97203412681988, 16.483239741382906, 15.732238867370162, 15.267160755938887, 15.177152815932331, 15.147334137387091, 14.541988886680851, 13.8082400404188, 29.474023909800763, 28.367236352256146, 112.69892806641224, 18.732436980389913, 20.53979566378837, 45.15093975360489, 27.88831993053748, 88.7285237737355, 65.20430195035128, 33.22532768992272, 31.895004211139412, 31.668892495802837, 26.123803739142694, 22.903005379142797, 22.722574608821354, 22.6054589325027, 21.330176137162287, 17.492639426832586, 17.09902324139635, 16.419611342540698, 15.930727030024565, 14.688687882346732, 14.557807725805167, 14.445715769791315, 15.83534914255681, 14.248765322694547, 14.00274349495581, 13.85937869880854, 13.436133824570256, 13.40515434866594, 13.047418895419934, 12.426086574699093, 12.33980639014884, 12.140069459257335, 11.871904577385136, 11.58099596711612, 11.485483982235166, 11.450199613079848, 11.072671142995341, 17.750766104163866, 61.82487260876761, 20.637953908473992, 20.671759031638835, 305.7276012983335, 379.7026520469055, 100.20543754932282, 271.1494674985026, 229.53715671712038, 66.00064199493015, 101.33611109221906, 209.82474085579602, 198.3742775608146, 470.5037361386737, 180.78913474159765, 169.6703362851877, 78.67459170303027, 45.07615709684617, 39.06012101538303, 21.805089588644123, 21.04319648821776, 20.51764580336285, 17.495575685701844, 17.15418086998196, 17.099467533621535, 16.863438824220964, 16.65899559301995, 16.048125542928588, 15.485383633105226, 15.42387693962306, 14.788273433028579, 14.092035927669208, 13.319187150906538, 13.252040423356435, 12.57885759361822, 12.059775885328404, 11.287428126249983, 11.287428126249983, 11.287428126249983, 11.287428126249983, 10.166925489063622, 10.137253141245884, 9.923832515586604, 9.894601101378028, 9.765162691929833, 9.73120534260963, 17.152019767916492, 13.164684177260108, 50.53712776535123, 49.295954051105085, 54.34701513097745, 49.09182405931752, 40.03653825981226, 28.113364604840527, 27.549674983995082, 19.732020776141862, 16.827277135531283, 14.492901013017196, 13.874880640151908, 13.84283478971376, 12.806643467507612, 12.724455469148797, 12.072563130627687, 11.550879960462126, 11.51253530296134, 11.262884046359806, 11.040773884951532, 10.942930986593932, 10.728946354795333, 10.158845025952417, 9.823859733293899, 9.533268969222389, 9.495583614085438, 9.224019634284625, 9.171584906103272, 9.104878237245803, 9.061947781811838, 8.951546792647248, 8.74693136391142, 8.71928622356149, 8.326569073558678, 8.321012714569168, 23.121669391606655, 26.641845691634806, 59.544705708955085, 14.839659925820705, 22.022363589148437, 50.23623992926738, 16.97177437241594, 15.691638033733664, 14.851059407666476, 12.966296410713294, 12.731997056858827, 10.962106800245563, 10.813150444024561, 10.177887218901153, 9.633060385958094, 9.622066081078414, 9.50930560812165, 8.888316964663547, 8.469965519807094, 8.223073599590167, 7.8884634384148535, 7.126023230436358, 6.799839928384281, 6.688157389701462, 6.5325877360574, 6.24138721144489, 6.2393717143392164, 6.133970642462167, 6.0377461641163235, 6.025568860251971, 5.952114224337507, 5.937182651603653, 5.866537160515983, 5.812336062007706, 5.7928253642160525, 9.282516315594126, 10.133612289242231, 41.089713384653656, 59.14081400763573, 18.620199852692746, 17.406755994696233, 20.0447902332326, 176.2110630458688, 22.23164080846006, 10.3870710702762, 44.51909378960043, 58.749105840764074, 26.49316049236261, 56.96272796242106, 9.34571162936114, 8.803549612777788, 6.328282758529963, 5.486257939436147, 5.277029863388085, 4.919965424260507, 4.908496834578492, 4.705291991060734, 4.693514179104859, 4.540466149887948, 4.319649950598167, 4.319649950598167, 4.319649950598167, 4.2277126994777054, 3.9143314284382766, 3.5799492874143133, 3.5304562858400708, 3.5215299101825224, 3.452135985548187, 3.4117434640118547, 3.4117434640118547, 3.4117434640118547, 3.047523096254714, 3.0353378918280587, 2.9281300621035125, 2.730533351007081, 2.6922038475124648, 2.6457464564687916, 2.4711949728127713, 4.742524831592646, 14.174238196250997, 6.648186770695117, 87.34011532455376, 5.688811096184387, 10.854268626703053, 8.45808654443092, 8.178906229955581, 7.286752828983879, 7.017523579322818, 6.800956125417355, 6.321954212045171, 6.286237945027239, 5.91443448162814, 5.803251467431051, 5.704893838791072, 5.325907614704262, 5.279233289853281, 5.212719870983286, 5.174163984490914, 5.116213141812372, 4.817925906714615, 4.731296869548801, 4.645917423240468, 4.607039090289863, 4.605648424627462, 4.537982121785234, 4.4567386512805065, 4.364979884055282, 4.335362863507981, 4.30391044040082, 4.247583628208827, 4.23680831176176, 4.068445961861684, 4.0428387455777335, 20.85455323809583, 117.23802392758918, 36.941477846934596, 25.21540458010876, 10.16342941692226, 7.6520260416520935, 7.052706460255174, 6.651898457305244, 6.279417669627001, 5.998559717984291, 5.855022826062462, 5.776133212098399, 5.387700619416863, 5.2277079406677025, 5.129981195183115, 4.738301849572594, 4.70749934897879, 4.5874375434554775, 4.578475342616961, 4.55591261384939, 4.177356157142799, 4.057915644979275, 4.038868604536065, 4.011033787028138, 3.987541743819424, 3.9163063018075444, 3.77121767044841, 3.757727546862142, 3.6854947691710804, 3.526287994656588, 3.4914003137137772, 3.4801022863262374, 3.11014200216664, 3.102074798492639, 3.06655546047526, 6.270774914260372, 7.899142231390897, 13.248003405864187, 6.978884676862835], \"Category\": [\"Default\", \"Default\", \"Default\", \"Default\", \"Default\", \"Default\", \"Default\", \"Default\", \"Default\", \"Default\", \"Default\", \"Default\", \"Default\", \"Default\", \"Default\", \"Default\", \"Default\", \"Default\", \"Default\", \"Default\", \"Default\", \"Default\", \"Default\", \"Default\", \"Default\", \"Default\", \"Default\", \"Default\", \"Default\", \"Default\", \"Topic1\", \"Topic1\", \"Topic1\", \"Topic1\", \"Topic1\", \"Topic1\", \"Topic1\", \"Topic1\", \"Topic1\", \"Topic1\", \"Topic1\", \"Topic1\", \"Topic1\", \"Topic1\", \"Topic1\", \"Topic1\", \"Topic1\", \"Topic1\", \"Topic1\", \"Topic1\", \"Topic1\", \"Topic1\", \"Topic1\", \"Topic1\", \"Topic1\", \"Topic1\", \"Topic1\", \"Topic1\", \"Topic1\", \"Topic1\", \"Topic1\", \"Topic1\", \"Topic1\", \"Topic1\", \"Topic1\", \"Topic1\", \"Topic1\", \"Topic1\", \"Topic1\", \"Topic1\", \"Topic1\", \"Topic1\", \"Topic1\", \"Topic1\", \"Topic1\", \"Topic1\", \"Topic1\", \"Topic1\", \"Topic1\", \"Topic1\", \"Topic1\", \"Topic1\", \"Topic1\", \"Topic1\", \"Topic1\", \"Topic1\", \"Topic1\", \"Topic1\", \"Topic1\", \"Topic1\", \"Topic1\", \"Topic1\", \"Topic1\", \"Topic1\", \"Topic1\", \"Topic1\", \"Topic1\", \"Topic1\", \"Topic1\", \"Topic1\", \"Topic1\", \"Topic1\", \"Topic1\", \"Topic1\", \"Topic1\", \"Topic1\", \"Topic1\", \"Topic1\", \"Topic1\", \"Topic1\", \"Topic1\", \"Topic1\", \"Topic2\", \"Topic2\", \"Topic2\", \"Topic2\", \"Topic2\", \"Topic2\", \"Topic2\", \"Topic2\", \"Topic2\", \"Topic2\", \"Topic2\", \"Topic2\", \"Topic2\", \"Topic2\", \"Topic2\", \"Topic2\", \"Topic2\", \"Topic2\", \"Topic2\", \"Topic2\", \"Topic2\", \"Topic2\", \"Topic2\", \"Topic2\", \"Topic2\", \"Topic2\", \"Topic2\", \"Topic2\", \"Topic2\", \"Topic2\", \"Topic2\", \"Topic2\", \"Topic2\", \"Topic2\", \"Topic2\", \"Topic2\", \"Topic2\", \"Topic2\", \"Topic2\", \"Topic2\", \"Topic2\", \"Topic2\", \"Topic2\", \"Topic2\", \"Topic2\", \"Topic2\", \"Topic2\", \"Topic2\", \"Topic2\", \"Topic2\", \"Topic2\", \"Topic2\", \"Topic2\", \"Topic2\", \"Topic2\", \"Topic2\", \"Topic2\", \"Topic2\", \"Topic2\", \"Topic2\", \"Topic2\", \"Topic2\", \"Topic2\", \"Topic2\", \"Topic2\", \"Topic2\", \"Topic2\", \"Topic2\", \"Topic2\", \"Topic2\", \"Topic2\", \"Topic2\", \"Topic2\", \"Topic2\", \"Topic3\", \"Topic3\", \"Topic3\", \"Topic3\", \"Topic3\", \"Topic3\", \"Topic3\", \"Topic3\", \"Topic3\", \"Topic3\", \"Topic3\", \"Topic3\", \"Topic3\", \"Topic3\", \"Topic3\", \"Topic3\", \"Topic3\", \"Topic3\", \"Topic3\", \"Topic3\", \"Topic3\", \"Topic3\", \"Topic3\", \"Topic3\", \"Topic3\", \"Topic3\", \"Topic3\", \"Topic3\", \"Topic3\", \"Topic3\", \"Topic3\", \"Topic3\", \"Topic3\", \"Topic3\", \"Topic3\", \"Topic3\", \"Topic3\", \"Topic3\", \"Topic3\", \"Topic3\", \"Topic3\", \"Topic3\", \"Topic3\", \"Topic3\", \"Topic3\", \"Topic3\", \"Topic3\", \"Topic3\", \"Topic3\", \"Topic3\", \"Topic3\", \"Topic3\", \"Topic3\", \"Topic3\", \"Topic3\", \"Topic3\", \"Topic3\", \"Topic3\", \"Topic3\", \"Topic3\", \"Topic3\", \"Topic3\", \"Topic3\", \"Topic3\", \"Topic3\", \"Topic3\", \"Topic3\", \"Topic3\", \"Topic3\", \"Topic3\", \"Topic3\", \"Topic3\", \"Topic3\", \"Topic3\", \"Topic3\", \"Topic3\", \"Topic3\", \"Topic3\", \"Topic3\", \"Topic3\", \"Topic3\", \"Topic3\", \"Topic4\", \"Topic4\", \"Topic4\", \"Topic4\", \"Topic4\", \"Topic4\", \"Topic4\", \"Topic4\", \"Topic4\", \"Topic4\", \"Topic4\", \"Topic4\", \"Topic4\", \"Topic4\", \"Topic4\", \"Topic4\", \"Topic4\", \"Topic4\", \"Topic4\", \"Topic4\", \"Topic4\", \"Topic4\", \"Topic4\", \"Topic4\", \"Topic4\", \"Topic4\", \"Topic4\", \"Topic4\", \"Topic4\", \"Topic4\", \"Topic4\", \"Topic4\", \"Topic4\", \"Topic4\", \"Topic4\", \"Topic4\", \"Topic4\", \"Topic4\", \"Topic4\", \"Topic4\", \"Topic4\", \"Topic4\", \"Topic4\", \"Topic4\", \"Topic4\", \"Topic4\", \"Topic4\", \"Topic4\", \"Topic4\", \"Topic4\", \"Topic4\", \"Topic4\", \"Topic4\", \"Topic4\", \"Topic4\", \"Topic4\", \"Topic4\", \"Topic4\", \"Topic4\", \"Topic4\", \"Topic4\", \"Topic4\", \"Topic4\", \"Topic4\", \"Topic4\", \"Topic4\", \"Topic4\", \"Topic4\", \"Topic5\", \"Topic5\", \"Topic5\", \"Topic5\", \"Topic5\", \"Topic5\", \"Topic5\", \"Topic5\", \"Topic5\", \"Topic5\", \"Topic5\", \"Topic5\", \"Topic5\", \"Topic5\", \"Topic5\", \"Topic5\", \"Topic5\", \"Topic5\", \"Topic5\", \"Topic5\", \"Topic5\", \"Topic5\", \"Topic5\", \"Topic5\", \"Topic5\", \"Topic5\", \"Topic5\", \"Topic5\", \"Topic5\", \"Topic5\", \"Topic5\", \"Topic5\", \"Topic5\", \"Topic5\", \"Topic5\", \"Topic5\", \"Topic5\", \"Topic5\", \"Topic5\", \"Topic5\", \"Topic5\", \"Topic5\", \"Topic5\", \"Topic5\", \"Topic5\", \"Topic5\", \"Topic5\", \"Topic5\", \"Topic5\", \"Topic5\", \"Topic5\", \"Topic5\", \"Topic5\", \"Topic5\", \"Topic5\", \"Topic5\", \"Topic5\", \"Topic5\", \"Topic5\", \"Topic5\", \"Topic5\", \"Topic5\", \"Topic5\", \"Topic6\", \"Topic6\", \"Topic6\", \"Topic6\", \"Topic6\", \"Topic6\", \"Topic6\", \"Topic6\", \"Topic6\", \"Topic6\", \"Topic6\", \"Topic6\", \"Topic6\", \"Topic6\", \"Topic6\", \"Topic6\", \"Topic6\", \"Topic6\", \"Topic6\", \"Topic6\", \"Topic6\", \"Topic6\", \"Topic6\", \"Topic6\", \"Topic6\", \"Topic6\", \"Topic6\", \"Topic6\", \"Topic6\", \"Topic6\", \"Topic6\", \"Topic6\", \"Topic6\", \"Topic6\", \"Topic6\", \"Topic6\", \"Topic6\", \"Topic6\", \"Topic6\", \"Topic6\", \"Topic6\", \"Topic6\", \"Topic6\", \"Topic6\", \"Topic6\", \"Topic6\", \"Topic6\", \"Topic6\", \"Topic6\", \"Topic6\", \"Topic6\", \"Topic6\", \"Topic6\", \"Topic7\", \"Topic7\", \"Topic7\", \"Topic7\", \"Topic7\", \"Topic7\", \"Topic7\", \"Topic7\", \"Topic7\", \"Topic7\", \"Topic7\", \"Topic7\", \"Topic7\", \"Topic7\", \"Topic7\", \"Topic7\", \"Topic7\", \"Topic7\", \"Topic7\", \"Topic7\", \"Topic7\", \"Topic7\", \"Topic7\", \"Topic7\", \"Topic7\", \"Topic7\", \"Topic7\", \"Topic7\", \"Topic7\", \"Topic7\", \"Topic7\", \"Topic7\", \"Topic7\", \"Topic7\", \"Topic7\", \"Topic7\", \"Topic7\", \"Topic7\", \"Topic7\", \"Topic7\", \"Topic7\", \"Topic7\", \"Topic7\", \"Topic7\", \"Topic7\", \"Topic7\", \"Topic7\", \"Topic7\", \"Topic7\", \"Topic7\", \"Topic7\", \"Topic7\", \"Topic7\", \"Topic7\", \"Topic7\", \"Topic7\", \"Topic7\", \"Topic7\", \"Topic8\", \"Topic8\", \"Topic8\", \"Topic8\", \"Topic8\", \"Topic8\", \"Topic8\", \"Topic8\", \"Topic8\", \"Topic8\", \"Topic8\", \"Topic8\", \"Topic8\", \"Topic8\", \"Topic8\", \"Topic8\", \"Topic8\", \"Topic8\", \"Topic8\", \"Topic8\", \"Topic8\", \"Topic8\", \"Topic8\", \"Topic8\", \"Topic8\", \"Topic8\", \"Topic8\", \"Topic8\", \"Topic8\", \"Topic8\", \"Topic8\", \"Topic8\", \"Topic8\", \"Topic8\", \"Topic8\", \"Topic8\", \"Topic8\", \"Topic8\", \"Topic8\", \"Topic8\", \"Topic8\", \"Topic8\", \"Topic8\", \"Topic8\", \"Topic8\", \"Topic8\", \"Topic8\", \"Topic8\", \"Topic8\", \"Topic8\", \"Topic8\", \"Topic9\", \"Topic9\", \"Topic9\", \"Topic9\", \"Topic9\", \"Topic9\", \"Topic9\", \"Topic9\", \"Topic9\", \"Topic9\", \"Topic9\", \"Topic9\", \"Topic9\", \"Topic9\", \"Topic9\", \"Topic9\", \"Topic9\", \"Topic9\", \"Topic9\", \"Topic9\", \"Topic9\", \"Topic9\", \"Topic9\", \"Topic9\", \"Topic9\", \"Topic9\", \"Topic9\", \"Topic9\", \"Topic9\", \"Topic9\", \"Topic9\", \"Topic9\", \"Topic9\", \"Topic9\", \"Topic9\", \"Topic9\", \"Topic9\", \"Topic9\", \"Topic9\", \"Topic9\", \"Topic9\", \"Topic9\", \"Topic9\", \"Topic9\", \"Topic9\", \"Topic9\", \"Topic9\", \"Topic9\", \"Topic9\", \"Topic10\", \"Topic10\", \"Topic10\", \"Topic10\", \"Topic10\", \"Topic10\", \"Topic10\", \"Topic10\", \"Topic10\", \"Topic10\", \"Topic10\", \"Topic10\", \"Topic10\", \"Topic10\", \"Topic10\", \"Topic10\", \"Topic10\", \"Topic10\", \"Topic10\", \"Topic10\", \"Topic10\", \"Topic10\", \"Topic10\", \"Topic10\", \"Topic10\", \"Topic10\", \"Topic10\", \"Topic10\", \"Topic10\", \"Topic10\", \"Topic10\", \"Topic10\", \"Topic10\", \"Topic10\", \"Topic10\", \"Topic10\", \"Topic10\", \"Topic10\", \"Topic10\", \"Topic10\", \"Topic10\", \"Topic10\", \"Topic10\", \"Topic10\", \"Topic10\", \"Topic10\", \"Topic10\", \"Topic10\", \"Topic10\", \"Topic10\", \"Topic10\", \"Topic10\", \"Topic10\", \"Topic10\", \"Topic10\", \"Topic10\", \"Topic11\", \"Topic11\", \"Topic11\", \"Topic11\", \"Topic11\", \"Topic11\", \"Topic11\", \"Topic11\", \"Topic11\", \"Topic11\", \"Topic11\", \"Topic11\", \"Topic11\", \"Topic11\", \"Topic11\", \"Topic11\", \"Topic11\", \"Topic11\", \"Topic11\", \"Topic11\", \"Topic11\", \"Topic11\", \"Topic11\", \"Topic11\", \"Topic11\", \"Topic11\", \"Topic11\", \"Topic11\", \"Topic11\", \"Topic11\", \"Topic11\", \"Topic11\", \"Topic11\", \"Topic11\", \"Topic11\", \"Topic11\", \"Topic11\", \"Topic11\", \"Topic11\", \"Topic11\", \"Topic11\", \"Topic12\", \"Topic12\", \"Topic12\", \"Topic12\", \"Topic12\", \"Topic12\", \"Topic12\", \"Topic12\", \"Topic12\", \"Topic12\", \"Topic12\", \"Topic12\", \"Topic12\", \"Topic12\", \"Topic12\", \"Topic12\", \"Topic12\", \"Topic12\", \"Topic12\", \"Topic12\", \"Topic12\", \"Topic12\", \"Topic12\", \"Topic12\", \"Topic12\", \"Topic12\", \"Topic12\", \"Topic12\", \"Topic12\", \"Topic12\", \"Topic12\", \"Topic12\", \"Topic12\", \"Topic12\", \"Topic12\", \"Topic12\", \"Topic12\", \"Topic12\", \"Topic12\", \"Topic12\", \"Topic12\", \"Topic12\", \"Topic12\", \"Topic12\", \"Topic12\", \"Topic12\", \"Topic12\", \"Topic12\", \"Topic13\", \"Topic13\", \"Topic13\", \"Topic13\", \"Topic13\", \"Topic13\", \"Topic13\", \"Topic13\", \"Topic13\", \"Topic13\", \"Topic13\", \"Topic13\", \"Topic13\", \"Topic13\", \"Topic13\", \"Topic13\", \"Topic13\", \"Topic13\", \"Topic13\", \"Topic13\", \"Topic13\", \"Topic13\", \"Topic13\", \"Topic13\", \"Topic13\", \"Topic13\", \"Topic13\", \"Topic13\", \"Topic13\", \"Topic13\", \"Topic13\", \"Topic13\", \"Topic13\", \"Topic13\", \"Topic13\", \"Topic13\", \"Topic13\", \"Topic13\", \"Topic13\", \"Topic14\", \"Topic14\", \"Topic14\", \"Topic14\", \"Topic14\", \"Topic14\", \"Topic14\", \"Topic14\", \"Topic14\", \"Topic14\", \"Topic14\", \"Topic14\", \"Topic14\", \"Topic14\", \"Topic14\", \"Topic14\", \"Topic14\", \"Topic14\", \"Topic14\", \"Topic14\", \"Topic14\", \"Topic14\", \"Topic14\", \"Topic14\", \"Topic14\", \"Topic14\", \"Topic14\", \"Topic14\", \"Topic14\", \"Topic14\", \"Topic14\", \"Topic14\", \"Topic14\", \"Topic14\", \"Topic14\", \"Topic14\", \"Topic14\", \"Topic14\", \"Topic14\", \"Topic14\", \"Topic14\", \"Topic14\", \"Topic14\", \"Topic14\", \"Topic14\", \"Topic14\", \"Topic15\", \"Topic15\", \"Topic15\", \"Topic15\", \"Topic15\", \"Topic15\", \"Topic15\", \"Topic15\", \"Topic15\", \"Topic15\", \"Topic15\", \"Topic15\", \"Topic15\", \"Topic15\", \"Topic15\", \"Topic15\", \"Topic15\", \"Topic15\", \"Topic15\", \"Topic15\", \"Topic15\", \"Topic15\", \"Topic15\", \"Topic15\", \"Topic15\", \"Topic15\", \"Topic15\", \"Topic15\", \"Topic15\", \"Topic15\", \"Topic15\", \"Topic15\", \"Topic15\", \"Topic15\", \"Topic15\", \"Topic15\", \"Topic16\", \"Topic16\", \"Topic16\", \"Topic16\", \"Topic16\", \"Topic16\", \"Topic16\", \"Topic16\", \"Topic16\", \"Topic16\", \"Topic16\", \"Topic16\", \"Topic16\", \"Topic16\", \"Topic16\", \"Topic16\", \"Topic16\", \"Topic16\", \"Topic16\", \"Topic16\", \"Topic16\", \"Topic16\", \"Topic16\", \"Topic16\", \"Topic16\", \"Topic16\", \"Topic16\", \"Topic16\", \"Topic16\", \"Topic16\", \"Topic16\", \"Topic16\", \"Topic16\", \"Topic16\", \"Topic16\", \"Topic17\", \"Topic17\", \"Topic17\", \"Topic17\", \"Topic17\", \"Topic17\", \"Topic17\", \"Topic17\", \"Topic17\", \"Topic17\", \"Topic17\", \"Topic17\", \"Topic17\", \"Topic17\", \"Topic17\", \"Topic17\", \"Topic17\", \"Topic17\", \"Topic17\", \"Topic17\", \"Topic17\", \"Topic17\", \"Topic17\", \"Topic17\", \"Topic17\", \"Topic17\", \"Topic17\", \"Topic17\", \"Topic17\", \"Topic17\", \"Topic17\", \"Topic17\", \"Topic17\", \"Topic17\", \"Topic17\", \"Topic17\", \"Topic17\", \"Topic17\", \"Topic17\", \"Topic17\", \"Topic17\", \"Topic17\", \"Topic17\", \"Topic18\", \"Topic18\", \"Topic18\", \"Topic18\", \"Topic18\", \"Topic18\", \"Topic18\", \"Topic18\", \"Topic18\", \"Topic18\", \"Topic18\", \"Topic18\", \"Topic18\", \"Topic18\", \"Topic18\", \"Topic18\", \"Topic18\", \"Topic18\", \"Topic18\", \"Topic18\", \"Topic18\", \"Topic18\", \"Topic18\", \"Topic18\", \"Topic18\", \"Topic18\", \"Topic18\", \"Topic18\", \"Topic18\", \"Topic18\", \"Topic18\", \"Topic18\", \"Topic18\", \"Topic18\", \"Topic18\", \"Topic19\", \"Topic19\", \"Topic19\", \"Topic19\", \"Topic19\", \"Topic19\", \"Topic19\", \"Topic19\", \"Topic19\", \"Topic19\", \"Topic19\", \"Topic19\", \"Topic19\", \"Topic19\", \"Topic19\", \"Topic19\", \"Topic19\", \"Topic19\", \"Topic19\", \"Topic19\", \"Topic19\", \"Topic19\", \"Topic19\", \"Topic19\", \"Topic19\", \"Topic19\", \"Topic19\", \"Topic19\", \"Topic19\", \"Topic19\", \"Topic19\", \"Topic19\", \"Topic19\", \"Topic19\", \"Topic19\", \"Topic20\", \"Topic20\", \"Topic20\", \"Topic20\", \"Topic20\", \"Topic20\", \"Topic20\", \"Topic20\", \"Topic20\", \"Topic20\", \"Topic20\", \"Topic20\", \"Topic20\", \"Topic20\", \"Topic20\", \"Topic20\", \"Topic20\", \"Topic20\", \"Topic20\", \"Topic20\", \"Topic20\", \"Topic20\", \"Topic20\", \"Topic20\", \"Topic20\", \"Topic20\", \"Topic20\", \"Topic20\", \"Topic20\", \"Topic20\", \"Topic20\", \"Topic20\", \"Topic20\", \"Topic20\"], \"logprob\": [30.0, 29.0, 28.0, 27.0, 26.0, 25.0, 24.0, 23.0, 22.0, 21.0, 20.0, 19.0, 18.0, 17.0, 16.0, 15.0, 14.0, 13.0, 12.0, 11.0, 10.0, 9.0, 8.0, 7.0, 6.0, 5.0, 4.0, 3.0, 2.0, 1.0, -6.2394, -6.2447, -6.5007, -6.5709, -6.8463, -6.6886, -6.8565, -6.9059, -7.0025, -7.0705, -7.1522, -7.1634, -7.1748, -7.2044, -7.2589, -7.3357, -7.3622, -7.3702, -7.4197, -7.4673, -7.5237, -7.551, -7.5523, -7.6582, -7.6849, -7.6941, -7.7433, -7.3546, -7.7694, -7.8177, -6.8411, -6.3632, -7.5776, -6.6498, -6.4879, -6.8714, -6.3908, -6.8167, -7.2932, -6.7723, -4.406, -6.2035, -5.3612, -5.9586, -7.0661, -6.3078, -6.1068, -6.2056, -6.6214, -5.1619, -6.2461, -4.4076, -6.3558, -5.208, -5.0719, -5.6274, -6.2597, -6.053, -6.0857, -5.9834, -6.2363, -6.2435, -6.2911, -5.9668, -6.1608, -5.63, -5.8591, -5.4985, -5.5969, -5.9583, -5.4428, -5.5738, -6.0113, -5.9974, -5.8548, -5.9613, -6.0887, -6.0127, -5.9772, -5.9748, -6.0557, -6.1198, -6.1457, -6.2911, -5.5129, -6.5213, -6.577, -6.5883, -6.7003, -6.8112, -6.8275, -6.8297, -6.8821, -6.8863, -6.8902, -6.8999, -6.9299, -6.9475, -7.0181, -7.0341, -7.0505, -7.101, -7.1302, -7.1766, -7.2262, -7.2289, -7.244, -7.2664, -7.3256, -7.3405, -7.3558, -7.383, -6.1166, -6.2077, -6.2453, -6.8697, -6.3114, -6.559, -5.6928, -5.1623, -6.4094, -6.4415, -6.7589, -5.1492, -5.2392, -6.0188, -5.2, -6.2333, -5.2443, -6.4404, -5.4545, -6.7564, -5.8975, -6.1478, -5.6042, -5.6196, -5.989, -5.2958, -5.6366, -5.8474, -4.96, -5.136, -6.277, -5.6813, -4.8476, -6.0679, -5.3537, -5.8136, -5.6618, -5.5018, -5.812, -5.7635, -5.7877, -5.9965, -5.8963, -5.9924, -6.7432, -7.0195, -7.0514, -6.5305, -7.1383, -7.2218, -7.2412, -7.4174, -7.5174, -7.5599, -7.5775, -7.606, -7.607, -7.6212, -7.6427, -7.6522, -7.7031, -7.7169, -7.7286, -7.7547, -7.2797, -7.7655, -7.7711, -7.7725, -7.7794, -7.8043, -7.8195, -7.8237, -7.686, -7.8358, -6.3465, -6.1092, -6.1284, -7.4784, -5.9485, -7.0601, -6.3108, -6.0001, -7.3213, -6.8211, -6.4247, -5.2979, -6.7337, -6.243, -7.1347, -5.2426, -7.0343, -6.9631, -5.857, -6.7105, -5.4684, -5.6843, -6.7125, -6.4872, -6.0228, -6.7484, -6.2408, -6.0298, -5.8357, -5.8094, -6.4338, -5.2447, -5.0566, -5.4125, -4.6032, -4.9729, -5.4449, -5.6784, -5.7352, -5.6816, -5.7148, -5.9298, -5.5757, -5.439, -5.3908, -5.7994, -5.5754, -5.7511, -5.705, -5.9721, -5.8469, -5.9795, -5.0243, -5.2911, -5.3676, -5.694, -5.6231, -5.7765, -5.8106, -6.3763, -6.4029, -6.4452, -6.4855, -6.5368, -6.5959, -6.5966, -6.6737, -6.6938, -6.7122, -6.7135, -6.751, -6.7888, -6.7912, -6.8127, -6.8251, -6.8431, -6.8479, -6.8527, -6.8365, -7.0025, -7.0528, -7.0698, -6.7523, -6.9882, -6.7763, -4.9496, -4.7482, -6.1951, -4.1292, -6.1553, -6.1286, -5.9696, -6.6261, -5.586, -5.2563, -6.5051, -5.3303, -6.1019, -4.8515, -5.8895, -4.9991, -5.7453, -5.5563, -4.9753, -5.4796, -5.574, -4.9065, -5.5165, -5.7719, -5.6744, -5.6004, -5.5106, -5.3072, -4.9489, -5.7293, -5.4033, -5.5565, -5.5673, -5.6725, -5.7194, -5.4819, -5.7066, -6.2573, -6.2992, -6.2375, -6.4906, -6.52, -6.5431, -6.5486, -5.4094, -6.5581, -6.6708, -5.9208, -6.7808, -6.7926, -6.7976, -6.8302, -6.8622, -6.8999, -6.888, -6.9161, -6.9989, -7.006, -7.0544, -7.0707, -7.0767, -6.4598, -7.112, -6.3247, -7.152, -6.0062, -4.1468, -6.4117, -4.934, -6.5584, -5.9894, -4.8087, -6.1045, -5.1427, -6.4246, -5.3307, -6.1367, -4.9218, -4.9455, -5.4157, -4.8893, -5.7607, -5.3073, -5.9548, -5.4818, -5.5851, -5.9134, -5.9241, -5.9482, -5.5588, -5.899, -5.3206, -6.0192, -6.0255, -5.8229, -5.9176, -5.8464, -5.8416, -5.075, -5.5647, -5.5642, -5.5944, -5.7116, -5.7225, -5.8003, -6.0224, -6.117, -5.3178, -6.1418, -5.8137, -6.2105, -6.3813, -6.4807, -6.4904, -6.6058, -6.6427, -6.6645, -6.6829, -6.7584, -6.8431, -6.8478, -6.8828, -6.8844, -6.8847, -6.8898, -6.9164, -6.92, -6.9949, -5.7691, -5.4886, -5.2691, -4.7367, -4.7157, -5.103, -5.4098, -5.1476, -5.3915, -5.1256, -4.2705, -4.6075, -6.0188, -5.036, -5.8832, -5.646, -5.4084, -5.7268, -5.6323, -5.7785, -5.7443, -5.5598, -5.8082, -4.6106, -4.697, -5.2453, -5.8765, -6.0831, -6.0856, -6.0956, -6.1689, -6.2708, -6.3003, -6.4251, -6.441, -6.456, -6.4596, -6.4678, -6.5072, -5.9162, -6.5801, -6.6145, -6.6304, -6.6883, -6.7184, -6.7376, -6.8086, -6.8241, -6.8887, -6.9019, -6.9213, -7.0099, -7.023, -6.1221, -5.5445, -5.5106, -4.7687, -5.6168, -4.937, -5.1527, -6.2254, -5.7772, -5.3776, -5.1034, -5.6422, -5.3004, -5.3883, -5.623, -6.0911, -5.1532, -5.6157, -5.7145, -5.126, -5.8407, -5.7827, -5.979, -5.9576, -6.0193, -6.0173, -6.0306, -6.0109, -3.9197, -5.0556, -5.4815, -5.5856, -5.6324, -5.6368, -5.6381, -5.6911, -5.7009, -5.7141, -5.7141, -5.7141, -5.7275, -5.7275, -5.736, -5.7705, -5.8049, -5.9825, -6.0275, -6.049, -6.1474, -6.158, -6.1679, -6.1878, -6.2663, -6.2846, -6.2892, -6.3086, -6.374, -6.4041, -4.0143, -4.9361, -6.0097, -5.109, -3.9594, -5.8196, -5.78, -5.521, -4.5051, -5.5142, -5.6469, -5.4461, -5.6768, -5.6566, -5.4845, -5.2907, -5.5625, -5.494, -5.558, -5.6369, -5.7273, -4.5839, -4.5875, -4.7779, -5.1641, -5.2257, -5.9051, -6.0159, -6.0469, -6.1734, -6.197, -5.8873, -6.2704, -6.3129, -6.3217, -6.3261, -6.334, -4.1723, -6.3575, -6.4026, -6.5417, -6.5711, -6.5791, -6.5902, -6.6127, -6.6269, -6.6456, -6.6938, -6.708, -6.7129, -6.715, -6.2289, -3.5756, -4.9708, -5.6583, -5.724, -6.4508, -4.3115, -5.6483, -5.9699, -5.667, -5.6507, -4.3594, -5.8635, -5.8669, -5.9533, -5.6627, -5.9121, -6.0028, -6.216, -5.1457, -5.1472, -5.193, -5.5391, -5.7124, -5.8907, -5.9214, -6.0368, -6.1018, -6.1772, -6.2844, -6.2913, -6.3323, -6.3364, -6.3739, -6.4565, -6.4571, -6.516, -6.5242, -6.5287, -6.547, -6.6294, -6.6399, -6.6435, -6.7127, -6.7447, -6.7519, -6.7695, -6.7738, -6.7876, -6.4634, -5.0469, -6.2154, -6.2167, -6.2806, -6.3059, -4.4723, -6.4427, -6.3853, -5.5869, -4.6004, -5.9733, -6.1657, -5.4214, -5.5905, -5.7992, -6.3403, -5.3102, -6.1614, -5.2769, -5.9517, -6.201, -6.0476, -5.9716, -6.2612, -6.278, -1.528, -5.3488, -5.7362, -5.1246, -6.0692, -6.2984, -6.3811, -6.4116, -6.5054, -6.528, -6.5937, -6.5957, -6.6368, -6.722, -6.7245, -6.7367, -6.7803, -6.8335, -6.8476, -6.9034, -6.9427, -7.0101, -7.0182, -7.0281, -7.0344, -7.0455, -7.0477, -7.074, -7.0857, -7.1422, -6.112, -5.7857, -6.0188, -6.5808, -6.9098, -6.6158, -5.9638, -6.6032, -6.8755, -6.7547, -6.8649, -5.7619, -5.8768, -5.9149, -6.0468, -6.1429, -6.1624, -6.1629, -6.3058, -6.3211, -6.3399, -6.363, -6.3658, -6.3784, -6.3826, -6.5535, -6.5821, -6.585, -6.6202, -6.628, -6.6362, -6.6386, -6.6471, -6.6544, -6.6667, -6.5751, -6.6686, -6.6715, -6.674, -6.6882, -6.7216, -4.453, -6.0459, -6.1268, -4.4132, -5.6259, -6.3535, -5.8787, -6.1544, -6.1508, -5.6197, -6.0637, -6.3284, -5.7735, -6.4134, -6.3492, -6.041, -6.2724, -6.2614, -4.9439, -5.4249, -5.6643, -5.6796, -5.8617, -5.9445, -6.0643, -6.0936, -6.1066, -6.2051, -6.2067, -6.2179, -6.2449, -6.3183, -6.3502, -6.3517, -6.3672, -6.3692, -6.3731, -6.4037, -6.4131, -6.417, -6.4278, -6.5182, -6.5671, -6.5987, -6.6049, -6.607, -6.65, -6.7047, -6.0196, -6.0877, -5.1198, -6.452, -6.3926, -6.0183, -6.303, -6.0684, -6.171, -5.6503, -5.6922, -5.6995, -5.8972, -6.0331, -6.0413, -6.0466, -6.1068, -6.3133, -6.3371, -6.3796, -6.4114, -6.4968, -6.5063, -6.5144, -6.4229, -6.5289, -6.5474, -6.5582, -6.5911, -6.5936, -6.6223, -6.6742, -6.6816, -6.699, -6.7229, -6.7494, -6.7583, -6.7616, -6.7976, -6.4028, -5.7482, -6.4745, -6.4775, -5.2617, -5.2376, -5.8124, -5.5265, -5.7561, -6.1867, -6.1981, -6.133, -6.3003, -6.2453, -6.4104, -6.4824, -4.4963, -5.0607, -5.2066, -5.8057, -5.8425, -5.8688, -6.0349, -6.0555, -6.0589, -6.0734, -6.0862, -6.1254, -6.163, -6.1672, -6.2115, -6.2625, -6.3222, -6.3276, -6.383, -6.428, -6.4989, -6.4989, -6.4989, -6.4989, -6.6115, -6.6147, -6.6377, -6.6409, -6.6552, -6.659, -6.1665, -6.4168, -5.6493, -6.0305, -6.4931, -6.5526, -5.0217, -5.3837, -5.4045, -5.7498, -5.9161, -6.0732, -6.1193, -6.1218, -6.2044, -6.2112, -6.2673, -6.3146, -6.3182, -6.3417, -6.3631, -6.3727, -6.3939, -6.4529, -6.4893, -6.5219, -6.5262, -6.5578, -6.5641, -6.572, -6.5772, -6.5906, -6.616, -6.6194, -6.6701, -6.6709, -5.8002, -5.7484, -5.8556, -6.4547, -6.3811, -4.4989, -5.6155, -5.6978, -5.7558, -5.8996, -5.919, -6.0793, -6.094, -6.1594, -6.2191, -6.2204, -6.2332, -6.307, -6.36, -6.3926, -6.4386, -6.552, -6.6048, -6.6235, -6.6502, -6.7021, -6.7025, -6.722, -6.7401, -6.7424, -6.7565, -6.7594, -6.7732, -6.7839, -6.7878, -6.409, -6.3812, -5.6995, -5.6178, -6.2197, -6.2707, -6.2201, -5.4457, -6.3228, -6.5699, -6.2724, -6.2279, -6.461, -4.1078, -5.9887, -6.0541, -6.423, -6.5877, -6.6331, -6.7159, -6.7187, -6.7692, -6.7722, -6.8121, -6.8726, -6.8726, -6.8726, -6.8989, -6.9942, -7.1071, -7.1249, -7.1282, -7.1538, -7.1691, -7.1691, -7.1691, -7.3181, -7.3235, -7.3722, -7.4687, -7.4886, -7.5132, -7.6115, -7.2215, -6.7895, -7.2103, -6.9005, -7.3576, -5.7322, -6.0039, -6.0409, -6.1695, -6.2118, -6.2471, -6.3301, -6.3365, -6.4065, -6.4284, -6.4482, -6.5283, -6.5386, -6.5535, -6.5623, -6.5756, -6.6469, -6.6686, -6.6904, -6.7006, -6.7009, -6.7188, -6.7406, -6.7659, -6.7742, -6.7831, -6.7993, -6.8024, -6.8524, -6.8602, -6.2361, -5.78, -6.4401, -6.6311, -6.7475, -5.953, -6.0443, -6.1104, -6.176, -6.2285, -6.2564, -6.2721, -6.3531, -6.3885, -6.4107, -6.5052, -6.513, -6.5441, -6.5464, -6.5524, -6.6582, -6.694, -6.6999, -6.7085, -6.7158, -6.7383, -6.7857, -6.7902, -6.8148, -6.8713, -6.8841, -6.8883, -7.0359, -7.0394, -7.0548, -6.585, -6.5351, -6.2795, -6.8224], \"loglift\": [30.0, 29.0, 28.0, 27.0, 26.0, 25.0, 24.0, 23.0, 22.0, 21.0, 20.0, 19.0, 18.0, 17.0, 16.0, 15.0, 14.0, 13.0, 12.0, 11.0, 10.0, 9.0, 8.0, 7.0, 6.0, 5.0, 4.0, 3.0, 2.0, 1.0, 1.4307, 1.4306, 1.4302, 1.4301, 1.4294, 1.4294, 1.4294, 1.4292, 1.4289, 1.4287, 1.4284, 1.4284, 1.4283, 1.4282, 1.428, 1.4277, 1.4275, 1.4275, 1.4273, 1.427, 1.4267, 1.4266, 1.4266, 1.4259, 1.4258, 1.4257, 1.4254, 1.4253, 1.4252, 1.4249, 1.4234, 1.4137, 1.4244, 1.408, 1.4009, 1.4087, 1.3836, 1.3992, 1.4125, 1.3624, 1.1546, 1.3088, 1.222, 1.2184, 1.3805, 1.235, 1.1819, 1.195, 1.2732, 0.889, 1.1443, 0.5626, 1.1762, 0.7684, 0.6806, 0.8844, 1.1254, 1.0205, 1.0359, 0.9021, 1.0432, 1.0443, 1.0643, 0.8318, 0.9626, 0.4603, 0.6412, 0.1972, 0.2691, 0.6929, 0.035, 0.1593, 0.6547, 0.6007, 0.2852, 0.4309, 0.7009, 0.4368, 0.2888, 0.1733, 0.4517, 0.7637, 1.4725, 1.4723, 1.4722, 1.4718, 1.4717, 1.4715, 1.4714, 1.4711, 1.4711, 1.4711, 1.4709, 1.4709, 1.4709, 1.4709, 1.4708, 1.4707, 1.4705, 1.4705, 1.4704, 1.4702, 1.4701, 1.4699, 1.4697, 1.4697, 1.4696, 1.4696, 1.4693, 1.4692, 1.4691, 1.469, 1.4666, 1.464, 1.4632, 1.4666, 1.4604, 1.4558, 1.4134, 1.3523, 1.4185, 1.4113, 1.4371, 1.2614, 1.2683, 1.3388, 1.1673, 1.3469, 1.0647, 1.3531, 1.0761, 1.4349, 1.181, 1.2534, 1.0862, 1.0845, 1.202, 0.9646, 0.988, 1.0778, 0.5178, 0.5597, 1.2726, 0.8506, 0.1226, 1.1034, 0.3794, 0.8204, 0.6042, 0.3642, 0.6883, 0.2645, 0.3026, 0.7932, 0.2437, 0.1557, 1.5033, 1.5025, 1.5024, 1.5023, 1.502, 1.5017, 1.5016, 1.5008, 1.5002, 1.5, 1.4999, 1.4997, 1.4997, 1.4996, 1.4994, 1.4994, 1.499, 1.4989, 1.4989, 1.4987, 1.4986, 1.4986, 1.4985, 1.4985, 1.4985, 1.4983, 1.4982, 1.4981, 1.4981, 1.498, 1.4836, 1.4809, 1.4779, 1.4924, 1.4269, 1.4614, 1.4124, 1.39, 1.4734, 1.4337, 1.4003, 1.27, 1.4118, 1.3605, 1.4444, 1.2324, 1.4207, 1.4093, 1.2402, 1.3573, 1.1251, 1.1583, 1.346, 1.2901, 1.1677, 1.3401, 1.1782, 1.1111, 1.0272, 1.0131, 1.2276, 0.7834, 0.6959, 0.7554, 0.3671, 0.5048, 0.7032, 0.8203, 0.8393, 0.801, 0.7625, 0.8711, 0.5642, 0.427, 0.3049, 0.708, 0.401, 0.3393, 0.0281, 0.6485, -0.2863, 0.47, 2.7878, 2.7873, 2.7871, 2.7861, 2.786, 2.7858, 2.7857, 2.7828, 2.7826, 2.7823, 2.782, 2.7817, 2.7812, 2.7812, 2.7805, 2.7803, 2.7801, 2.7801, 2.7798, 2.7794, 2.7794, 2.7792, 2.779, 2.7788, 2.7788, 2.7787, 2.7786, 2.777, 2.7764, 2.7761, 2.7742, 2.7761, 2.7721, 2.7346, 2.6943, 2.7265, 2.5418, 2.7168, 2.7119, 2.6932, 2.7572, 2.6263, 2.5094, 2.7178, 2.4095, 2.6139, 2.2338, 2.5279, 2.2394, 2.4663, 2.3772, 2.1138, 2.2723, 2.2821, 1.9144, 2.2499, 2.3547, 2.1303, 1.9829, 1.7807, 1.3864, 0.7842, 2.0397, 1.1043, 1.1339, 0.9633, 1.5767, 1.4769, 2.8815, 2.8808, 2.878, 2.8777, 2.8776, 2.8763, 2.876, 2.8759, 2.8758, 2.8758, 2.8757, 2.8747, 2.8737, 2.8735, 2.8734, 2.8733, 2.873, 2.8724, 2.8721, 2.8721, 2.8719, 2.8708, 2.8708, 2.8701, 2.8698, 2.8697, 2.8696, 2.8692, 2.8687, 2.8686, 2.8583, 2.8028, 2.8533, 2.7868, 2.8519, 2.8136, 2.7206, 2.8021, 2.7179, 2.8119, 2.6552, 2.7697, 2.5735, 2.5771, 2.6145, 2.504, 2.6619, 2.5139, 2.6231, 2.3731, 2.3438, 2.4938, 2.4748, 2.3971, 2.0173, 2.255, 1.3731, 2.2749, 2.2756, 1.6416, 1.7938, 0.8441, 0.7925, 3.346, 3.3439, 3.3439, 3.3438, 3.3431, 3.343, 3.3425, 3.3409, 3.3401, 3.34, 3.3398, 3.3396, 3.3392, 3.3373, 3.3361, 3.3359, 3.3343, 3.3338, 3.3334, 3.3331, 3.3319, 3.3304, 3.3303, 3.3296, 3.3296, 3.3296, 3.3295, 3.329, 3.3288, 3.3273, 3.3179, 3.2896, 3.2671, 3.216, 3.2088, 3.1575, 3.1638, 3.0372, 3.0791, 2.9219, 2.6866, 2.6576, 3.1024, 2.6924, 2.9102, 2.7237, 2.4126, 2.628, 2.3892, 2.6408, 2.339, 0.7006, 2.1163, 3.4069, 3.4067, 3.4049, 3.4014, 3.3996, 3.3996, 3.3995, 3.3988, 3.3977, 3.3973, 3.3958, 3.3956, 3.3954, 3.3953, 3.3952, 3.3947, 3.394, 3.3936, 3.393, 3.3928, 3.3918, 3.3913, 3.391, 3.3897, 3.3894, 3.3881, 3.3878, 3.3861, 3.3854, 3.3851, 3.3833, 3.3671, 3.2251, 3.0908, 3.1683, 2.9462, 2.9638, 3.2369, 3.0383, 2.5428, 2.3139, 2.6584, 2.0971, 1.9976, 2.2137, 2.8731, 1.4212, 2.0836, 1.9444, 0.4346, 2.1479, 1.7739, 2.424, 2.0975, 2.2632, 1.9079, 2.1152, 1.124, 3.9622, 3.9582, 3.9551, 3.9541, 3.9536, 3.9536, 3.9536, 3.953, 3.9529, 3.9527, 3.9527, 3.9527, 3.9526, 3.9526, 3.9525, 3.9521, 3.9517, 3.9493, 3.9486, 3.9482, 3.9466, 3.9464, 3.9463, 3.9447, 3.9444, 3.9441, 3.944, 3.9436, 3.9422, 3.9416, 3.9408, 3.9309, 3.9312, 3.8552, 3.6994, 3.8787, 3.8327, 3.7558, 3.4153, 3.6972, 3.7185, 3.5361, 3.6553, 3.6144, 3.356, 2.8154, 2.9817, 2.5582, 2.5775, 2.8791, 1.7953, 4.0504, 4.0503, 4.0495, 4.0472, 4.0467, 4.0393, 4.0376, 4.037, 4.0347, 4.0342, 4.0338, 4.0327, 4.0318, 4.0316, 4.0315, 4.0313, 4.0311, 4.0308, 4.0297, 4.0261, 4.0252, 4.025, 4.0247, 4.024, 4.0236, 4.023, 4.0215, 4.021, 4.0208, 4.0208, 4.0082, 3.7522, 3.7913, 3.836, 3.8041, 3.9742, 3.2324, 3.6991, 3.7537, 3.6042, 3.5823, 2.8921, 3.4439, 3.2531, 3.254, 1.9175, 2.5978, 2.4454, 1.9956, 4.1192, 4.1192, 4.1188, 4.1155, 4.1134, 4.1108, 4.1103, 4.1083, 4.1071, 4.1056, 4.1032, 4.103, 4.102, 4.1019, 4.101, 4.0988, 4.0988, 4.0971, 4.0969, 4.0968, 4.0962, 4.0936, 4.0933, 4.0932, 4.0908, 4.0896, 4.0894, 4.0887, 4.0886, 4.088, 4.0852, 4.0343, 4.0391, 4.0298, 4.0253, 4.016, 3.6005, 4.0257, 3.9804, 3.5332, 2.3756, 3.5329, 3.6825, 2.5057, 2.7578, 2.8989, 3.8691, 1.734, 3.4928, 0.891, 2.8893, 3.5754, 2.8687, 2.3292, 3.4418, 3.3194, 4.2204, 4.2105, 4.2057, 4.2018, 4.1999, 4.1947, 4.1924, 4.1916, 4.1888, 4.1881, 4.1859, 4.1858, 4.1844, 4.1812, 4.1811, 4.1807, 4.1789, 4.1767, 4.1761, 4.1736, 4.1717, 4.1684, 4.168, 4.1675, 4.1672, 4.1666, 4.1665, 4.1651, 4.1644, 4.1613, 3.7387, 3.4238, 3.4876, 3.472, 3.9424, 3.1481, 0.8576, 2.4513, 3.189, 2.2126, 2.8474, 4.2901, 4.2881, 4.2873, 4.2846, 4.2823, 4.2819, 4.2818, 4.278, 4.2776, 4.277, 4.2763, 4.2763, 4.2759, 4.2757, 4.27, 4.269, 4.2688, 4.2675, 4.2672, 4.2669, 4.2668, 4.2665, 4.2662, 4.2657, 4.2656, 4.2656, 4.2655, 4.2654, 4.2648, 4.2634, 4.0101, 4.0066, 4.0297, 2.9719, 3.4492, 3.9805, 3.5157, 3.7461, 3.7366, 3.0815, 3.6012, 3.8703, 3.042, 3.951, 3.631, 2.7441, 3.3306, 2.9185, 4.5803, 4.5742, 4.5699, 4.5696, 4.5656, 4.5635, 4.5601, 4.5592, 4.5588, 4.5556, 4.5556, 4.5552, 4.5543, 4.5516, 4.5504, 4.5503, 4.5497, 4.5496, 4.5495, 4.5482, 4.5478, 4.5477, 4.5472, 4.5432, 4.5409, 4.5394, 4.5391, 4.539, 4.5368, 4.5339, 4.4607, 4.4309, 4.0193, 4.4815, 4.4488, 4.0355, 4.2326, 3.3098, 3.5152, 4.7102, 4.7092, 4.709, 4.7037, 4.6995, 4.6992, 4.699, 4.6969, 4.6887, 4.6876, 4.6857, 4.6842, 4.6799, 4.6794, 4.679, 4.6787, 4.6782, 4.6772, 4.6766, 4.6747, 4.6746, 4.6729, 4.6698, 4.6694, 4.6683, 4.6667, 4.665, 4.6644, 4.6642, 4.6617, 4.5846, 3.9913, 4.3622, 4.3575, 2.8794, 2.6868, 3.4442, 2.7346, 2.6716, 3.4874, 3.0472, 2.3845, 2.2733, 1.4647, 2.2561, 2.2475, 5.0021, 4.9947, 4.9921, 4.976, 4.9747, 4.9737, 4.9669, 4.966, 4.9659, 4.9652, 4.9646, 4.9628, 4.9609, 4.9607, 4.9585, 4.9557, 4.9524, 4.9521, 4.9487, 4.9459, 4.9412, 4.9412, 4.9412, 4.9412, 4.9331, 4.9329, 4.9311, 4.9309, 4.9298, 4.9295, 4.8552, 4.8694, 4.2917, 3.9355, 3.3753, 3.4175, 5.1523, 5.1439, 5.1433, 5.1318, 5.1247, 5.1169, 5.1144, 5.1143, 5.1095, 5.109, 5.1055, 5.1024, 5.1022, 5.1006, 5.0991, 5.0984, 5.0969, 5.0925, 5.0897, 5.0871, 5.0868, 5.0841, 5.0836, 5.0829, 5.0825, 5.0814, 5.0791, 5.0788, 5.0742, 5.0742, 4.9228, 4.8329, 3.9215, 4.7118, 4.3906, 5.4481, 5.4168, 5.4129, 5.4099, 5.4018, 5.4006, 5.3901, 5.389, 5.3842, 5.3795, 5.3794, 5.3783, 5.3721, 5.3673, 5.3643, 5.3598, 5.348, 5.3421, 5.34, 5.3368, 5.3305, 5.3304, 5.328, 5.3257, 5.3254, 5.3235, 5.3231, 5.3213, 5.3199, 5.3194, 5.2267, 5.1667, 4.4486, 4.1661, 4.7199, 4.7362, 4.6457, 3.2464, 4.4395, 4.9533, 3.7954, 3.5626, 4.1259, 5.7136, 5.6402, 5.6345, 5.5957, 5.5739, 5.5673, 5.5546, 5.5542, 5.546, 5.5455, 5.5387, 5.528, 5.528, 5.528, 5.5232, 5.5049, 5.4814, 5.4774, 5.4767, 5.471, 5.4675, 5.4675, 5.4675, 5.4314, 5.43, 5.4172, 5.3906, 5.3848, 5.3776, 5.3476, 5.0857, 4.4229, 4.7592, 2.4935, 4.7677, 5.7471, 5.7248, 5.7213, 5.7083, 5.7036, 5.6996, 5.6897, 5.6889, 5.6799, 5.677, 5.6743, 5.6629, 5.6614, 5.6592, 5.6579, 5.6558, 5.6446, 5.641, 5.6374, 5.6357, 5.6356, 5.6325, 5.6287, 5.6242, 5.6227, 5.6211, 5.6182, 5.6176, 5.6082, 5.6067, 4.5902, 3.3195, 3.8143, 4.0052, 4.7975, 5.8758, 5.866, 5.8585, 5.8505, 5.8438, 5.8401, 5.838, 5.8266, 5.8214, 5.818, 5.8029, 5.8016, 5.7964, 5.796, 5.795, 5.7759, 5.7691, 5.768, 5.7663, 5.7648, 5.7604, 5.7507, 5.7497, 5.7446, 5.7323, 5.7294, 5.7285, 5.6932, 5.6923, 5.6884, 5.4429, 5.2619, 5.0005, 5.0985]}, \"token.table\": {\"Topic\": [11, 14, 8, 4, 10, 7, 12, 14, 14, 5, 11, 14, 18, 14, 10, 18, 2, 12, 11, 20, 20, 8, 13, 10, 14, 20, 15, 19, 9, 4, 13, 4, 10, 11, 2, 4, 13, 4, 5, 11, 4, 10, 2, 9, 10, 15, 8, 2, 12, 19, 2, 8, 16, 4, 10, 12, 10, 13, 6, 9, 12, 15, 14, 19, 15, 11, 18, 14, 5, 2, 3, 4, 5, 8, 14, 5, 5, 14, 9, 17, 9, 17, 18, 18, 16, 18, 2, 9, 15, 17, 13, 15, 18, 12, 13, 18, 1, 2, 4, 6, 14, 13, 1, 10, 12, 13, 2, 9, 3, 5, 6, 14, 19, 6, 5, 16, 7, 16, 5, 6, 14, 1, 3, 9, 2, 6, 15, 4, 17, 1, 2, 3, 4, 5, 6, 3, 14, 1, 2, 3, 4, 5, 6, 7, 20, 1, 4, 10, 18, 3, 18, 8, 12, 19, 3, 5, 14, 4, 11, 13, 1, 2, 3, 7, 7, 7, 2, 2, 4, 2, 1, 2, 3, 5, 14, 2, 3, 5, 6, 8, 18, 7, 7, 19, 17, 14, 20, 8, 1, 1, 2, 1, 7, 8, 7, 8, 7, 8, 8, 1, 2, 3, 10, 15, 1, 3, 14, 2, 4, 5, 6, 8, 10, 16, 7, 8, 7, 7, 8, 8, 1, 2, 3, 7, 3, 3, 9, 7, 8, 1, 2, 8, 14, 12, 3, 16, 3, 1, 1, 1, 2, 3, 11, 1, 2, 3, 1, 12, 3, 3, 6, 4, 9, 17, 2, 8, 10, 17, 2, 9, 4, 8, 16, 10, 1, 3, 7, 8, 3, 15, 2, 9, 14, 9, 1, 2, 3, 7, 13, 3, 3, 5, 1, 2, 1, 2, 17, 2, 9, 2, 15, 19, 19, 4, 3, 3, 1, 3, 5, 7, 5, 15, 2, 4, 5, 8, 2, 16, 1, 3, 5, 7, 12, 6, 12, 2, 6, 14, 15, 11, 1, 12, 1, 1, 1, 1, 13, 6, 7, 1, 2, 17, 1, 20, 4, 5, 19, 6, 11, 5, 20, 17, 14, 14, 2, 4, 6, 14, 2, 4, 5, 14, 1, 3, 5, 8, 15, 9, 7, 3, 14, 20, 4, 17, 6, 2, 4, 9, 9, 4, 19, 6, 14, 19, 1, 2, 4, 14, 1, 2, 3, 6, 7, 19, 1, 3, 6, 12, 14, 1, 2, 3, 10, 19, 6, 6, 11, 3, 12, 15, 13, 12, 16, 2, 4, 5, 6, 9, 14, 7, 15, 10, 11, 13, 6, 1, 3, 12, 3, 4, 5, 6, 14, 4, 19, 16, 18, 6, 4, 19, 13, 2, 4, 18, 2, 9, 2, 17, 2, 3, 4, 4, 6, 3, 5, 8, 1, 3, 19, 10, 2, 5, 10, 2, 3, 9, 2, 9, 9, 13, 16, 2, 3, 9, 9, 9, 6, 15, 6, 20, 2, 3, 4, 17, 11, 16, 5, 9, 13, 17, 2, 4, 13, 6, 14, 6, 14, 3, 6, 14, 2, 2, 10, 11, 3, 19, 2, 6, 9, 18, 7, 8, 12, 1, 2, 3, 7, 1, 1, 11, 12, 5, 1, 4, 4, 2, 18, 12, 1, 2, 3, 7, 14, 1, 2, 5, 10, 1, 16, 3, 16, 16, 1, 7, 12, 2, 4, 9, 1, 3, 6, 3, 18, 2, 4, 2, 19, 2, 4, 1, 2, 3, 4, 7, 14, 3, 5, 6, 3, 1, 2, 3, 5, 6, 7, 8, 10, 14, 15, 1, 3, 8, 10, 16, 3, 5, 14, 20, 2, 9, 10, 2, 13, 18, 16, 11, 1, 7, 19, 1, 2, 3, 16, 2, 3, 8, 10, 18, 3, 3, 8, 5, 3, 7, 8, 1, 2, 3, 4, 5, 6, 18, 20, 6, 8, 14, 19, 2, 14, 10, 20, 1, 3, 6, 10, 1, 1, 12, 12, 11, 1, 2, 3, 7, 1, 2, 3, 2, 8, 1, 3, 6, 7, 8, 14, 2, 4, 6, 10, 2, 12, 1, 12, 12, 17, 8, 10, 11, 5, 14, 3, 13, 6, 9, 20, 1, 2, 3, 9, 2, 4, 14, 10, 17, 8, 18, 1, 3, 13, 3, 5, 6, 1, 2, 3, 4, 7, 14, 17, 5, 1, 4, 12, 3, 8, 7, 1, 7, 12, 2, 3, 7, 8, 14, 17, 18, 3, 5, 14, 16, 1, 2, 3, 4, 5, 12, 1, 5, 7, 14, 1, 2, 3, 6, 18, 9, 5, 5, 15, 2, 4, 12, 4, 4, 20, 4, 19, 1, 2, 4, 5, 9, 2, 3, 5, 6, 14, 6, 19, 16, 2, 1, 2, 4, 5, 6, 14, 14, 17, 19, 2, 4, 2, 4, 5, 14, 1, 3, 8, 12, 4, 2, 4, 9, 15, 14, 1, 4, 5, 7, 8, 4, 13, 1, 8, 13, 7, 7, 7, 7, 7, 7, 5, 8, 10, 1, 12, 1, 12, 1, 7, 12, 3, 8, 5, 14, 4, 10, 1, 9, 9, 5, 12, 17, 3, 4, 10, 15, 15, 16, 6, 14, 6, 2, 2, 6, 1, 3, 6, 7, 1, 3, 7, 3, 8, 15, 1, 2, 3, 7, 17, 1, 19, 1, 2, 3, 8, 1, 2, 3, 7, 5, 5, 14, 3, 9, 19, 8, 10, 3, 8, 15, 7, 7, 1, 2, 3, 7, 19, 1, 3, 5, 6, 14, 17, 8, 1, 2, 4, 1, 2, 3, 1, 2, 3, 7, 10, 1, 2, 3, 4, 10, 12, 11, 1, 2, 3, 4, 5, 7, 1, 2, 3, 15, 9, 10, 5, 10, 19, 4, 2, 4, 1, 2, 3, 7, 16, 10, 9, 1, 2, 3, 4, 6, 7, 17, 10, 3, 5, 12, 1, 2, 9, 17, 11, 1, 2, 3, 16, 2, 3, 5, 6, 2, 9, 4, 1, 11, 1, 2, 3, 2, 3, 9, 12, 3, 1, 3, 5, 6, 7, 2, 3, 6, 8, 5, 12, 2, 2, 14, 5, 13, 1, 2, 3, 9, 2, 17, 8, 1, 3, 10, 1, 1, 12, 12, 1, 2, 3, 7, 2, 9, 20, 4, 3, 2, 4, 1, 2, 3, 15, 10, 15, 1, 7, 8, 1, 2, 3, 4, 5, 9, 14, 15, 8, 18, 3, 5, 3, 5, 6, 8, 14, 14, 20, 1, 3, 5, 3, 6, 11, 14, 1, 2, 3, 14, 12, 17, 18, 1, 3, 7, 10, 11, 11, 1, 2, 3, 7, 5, 1, 2, 3, 4, 16, 3, 7, 19, 14, 13, 4, 17, 5, 1, 2, 3, 4, 5, 6, 18, 13, 7, 7, 20, 3, 4, 5, 14, 5, 10, 15, 19, 20, 13, 10, 8, 11, 13, 2, 19, 2, 3, 4, 17, 2, 5, 13, 7, 7, 18, 1, 2, 3, 4, 5, 6, 7, 11, 13, 11, 6, 6, 3, 5, 8, 13, 1, 2, 3, 6, 7, 9, 1, 3, 5, 8, 10, 13, 1, 2, 3, 6, 5, 10, 2, 3, 4, 6, 2, 3, 10, 1, 2, 3, 17, 3, 3, 4, 10, 19, 6, 2, 3, 10, 14, 10, 2, 3, 10, 15, 3, 15, 1, 2, 4, 3, 1, 2, 3, 6, 1, 2, 3, 4, 5, 10, 10, 11, 3, 6, 7, 1, 7, 14, 1, 3, 5, 7, 14, 1, 17, 2, 7, 16, 2, 11, 1, 2, 3, 9, 10, 12, 12, 4, 5, 6, 16, 3, 14, 15, 5, 2, 14, 2, 4, 17, 4, 6, 14, 1, 3, 6, 18, 2, 3, 10, 1, 2, 3, 15, 11, 14, 1, 5, 12, 2, 4, 5, 14, 20, 15, 1, 2, 3, 6, 7, 14, 12, 1, 2, 3, 4, 5, 6, 6, 10, 12, 9, 15, 20, 9, 1, 2, 3, 12, 3, 8, 10, 15, 1, 2, 3, 4, 6, 3, 12, 1, 2, 3, 1, 4, 11, 1, 2, 3, 3, 1, 2, 3, 10, 20, 11, 15, 12, 1, 1, 1, 2, 3, 5, 6, 7, 3, 5, 6, 8, 1, 2, 4, 1, 5, 2, 4, 19, 1, 3, 9, 3, 3, 1, 2, 3, 6, 7, 19, 1, 3, 5, 6, 7, 14, 6, 5, 17, 19, 17, 9, 7, 17, 18, 4, 18, 20, 16, 2, 3, 4, 3, 5, 7, 8, 1, 2, 3, 7, 1, 3, 7, 3, 14, 17, 7, 17, 5, 5, 16, 8, 13, 1, 2, 3, 7, 1, 3, 7, 17, 1, 5, 3, 10, 8, 16, 10, 2, 4, 13, 5, 20, 9, 15, 15, 15, 10, 9, 1, 2, 3, 6, 9, 10, 1, 6, 6, 4, 5, 6, 7, 14, 11, 3, 1, 2, 3, 4, 5, 3, 10, 8, 2, 16, 2, 4, 4, 4, 1, 6, 20, 8, 3, 18, 2, 3, 8, 10, 13, 5, 13, 18, 9, 2, 9, 15, 12, 1, 2, 3, 5, 6, 2, 4, 2, 3, 9, 13, 9, 17, 8, 13, 9, 13, 13, 10, 2, 4, 7, 8, 20, 1, 2, 3, 7, 12, 4, 8, 3, 5, 7, 2, 5, 5, 10, 3, 5, 17, 20, 14, 1, 12, 3, 8, 1, 2, 3, 4, 7, 1, 14, 1, 3, 5, 6, 5, 10, 16, 20, 20, 1, 2, 3, 7, 2, 5, 9, 1, 3, 6, 19, 1, 5, 1, 2, 4, 7, 7, 4, 1, 4, 9, 3, 8, 6, 20, 10, 4, 15, 8, 16, 3, 11, 16, 17, 15, 1, 2, 4, 5, 6, 9, 1, 2, 4, 5, 6, 1, 2, 3, 20, 3, 8, 10, 18, 3, 8, 2, 4, 5, 6, 14, 14, 5, 20, 4, 5, 18, 7, 2, 3, 2, 2, 1, 2, 3, 18, 17, 1, 2, 3, 7, 20, 1, 2, 3, 7, 1, 2, 3, 1, 2, 3, 1, 2, 3, 7, 10, 12, 1, 2, 3, 4, 5, 7, 2, 18, 1, 2, 3, 20, 1, 2, 3, 7, 17, 12, 1, 2, 3, 7, 10, 4, 8, 10, 13, 10, 15, 19, 11, 11, 6, 7, 8, 1, 2, 13, 1, 3, 7, 12, 12, 8, 12, 8, 12, 1, 3, 4, 5, 6, 14, 20, 2, 1, 3, 5, 6, 8, 1, 2, 4, 5, 8, 13, 1, 2, 3, 4, 6, 14, 2, 4, 6, 2, 4, 6, 1, 2, 3, 4, 6, 14, 15, 1, 11, 8, 10, 10, 1, 2, 4, 4, 2, 4, 17, 12, 2, 4, 9, 11, 4, 2, 4, 11, 9, 13, 1, 2, 3, 7, 9, 5, 10, 3, 6, 7, 1, 3, 1, 2, 3, 4, 5, 1, 2, 3, 3, 7, 1, 2, 3, 11, 4, 4, 2, 4, 7, 2, 4, 15, 13, 15, 10, 8, 10, 17, 11, 5, 13, 16, 6, 9, 11, 1, 2, 3, 6, 1, 5, 7, 16, 1, 2, 4, 1, 2, 1, 2, 3, 4, 7, 1, 2, 3, 4, 4, 1, 2, 3, 4, 5, 8, 20, 1, 2, 3, 6, 7, 16, 4, 8, 2, 4, 15, 8, 2, 3, 5, 18, 1, 2, 3, 5, 6, 1, 3, 5, 16, 3, 5, 8, 5, 12, 18], \"Freq\": [0.9242477977297424, 0.9719390470929353, 0.9927149024237698, 0.4604573401903528, 0.5347246531242806, 0.24331318066159388, 0.7299395419847816, 0.9845207027340463, 0.9682001436342149, 0.44251823961651365, 0.46464415159733935, 0.06637773594247705, 0.8793158195054656, 0.9123597522723186, 0.9807266011082082, 0.7580021533991896, 0.2719513553577522, 0.6949867970253668, 0.3189398483195114, 0.6378796966390228, 0.8140019693135373, 0.09737195212345744, 0.8763475691111169, 0.98741379183239, 0.9788785636917525, 0.8656310054496753, 0.8852233656754086, 0.8609709634507561, 0.9940871960467808, 0.4259135452620643, 0.5678847270160857, 0.43555853457468346, 0.07686327080729709, 0.48680071511288153, 0.27605540526614025, 0.36807387368818695, 0.33740105088083805, 0.23498498012738078, 0.1446061416168497, 0.6145761018716113, 0.08373979464614041, 0.9127637616429305, 0.06420792656181386, 0.9310149351463008, 0.9706633151109653, 0.9225068731534359, 0.997064652945476, 0.7579555998278352, 0.08120952855298234, 0.1353492142549706, 0.2367617407759837, 0.7318090169439496, 0.02152379461599852, 0.32925045743744485, 0.14404707512888212, 0.5144538397460076, 0.10575580795911405, 0.8460464636729124, 0.24377212591222633, 0.15001361594598542, 0.5625510597974454, 0.037503403986496354, 0.9031244467443683, 0.9606473780964153, 0.971674228124608, 0.954800039763027, 0.7324576347922488, 0.9605726251121112, 0.9906621346475192, 0.145746383837281, 0.08573316696310647, 0.012002643374834907, 0.7321612458649293, 0.020575960071145556, 0.0017146633392621294, 0.9886473570138355, 0.9963142805782736, 0.9060903676800645, 0.9525300103907404, 0.8297971720118912, 0.4595916667320187, 0.4595916667320187, 0.6830297690271444, 0.8793158195054656, 0.9057336110858952, 0.9830989842506106, 0.7360109824541267, 0.0552008236840595, 0.20240302017488485, 0.9426936904429095, 0.07596080441696737, 0.835568848586641, 0.9260009597412162, 0.9783195011045391, 0.9414668315402281, 0.908724361408552, 0.014877671445178191, 0.5929814761721023, 0.2167889267725965, 0.1360244246416292, 0.03825686943045821, 0.9627293837930749, 0.9936308167832093, 0.22147933253596547, 0.19933139928236893, 0.5758462645935102, 0.2547069152903601, 0.7482015636654328, 0.5458244169364534, 0.16227212395408075, 0.15858412113694254, 0.13645610423411336, 0.9458404046796448, 0.9736419559098894, 0.9855940855175976, 0.9161368590695805, 0.2627445591052991, 0.7131638032858119, 0.10459081763798372, 0.7844311322848779, 0.10459081763798372, 0.9520883553196806, 0.0453375407295086, 0.9677981085130223, 0.23192758044883863, 0.7639967355961743, 0.9466960469321575, 0.9835647099365435, 0.9184721648485915, 0.2799404818750361, 0.3346922480461788, 0.22813235904642795, 0.13452450075382913, 0.02237168940326261, 0.9975813219769392, 0.29072649481673596, 0.6783618212390506, 0.408996170462668, 0.0018590735021030364, 0.0669266460757093, 0.03346332303785465, 0.42015061147528626, 0.022308882025236437, 0.048335911054678944, 0.7660279275437089, 0.2404393436162124, 0.6411715829765664, 0.06869695531891783, 0.03434847765945891, 0.42171629480500905, 0.42171629480500905, 0.5552161558828977, 0.23794978109267048, 0.15863318739511365, 0.1397129770837931, 0.5788109050614285, 0.2794259541675862, 0.9979963654529596, 0.9860151285135268, 0.94681062212359, 0.1270994012839639, 0.7359554851639134, 0.1365347280168346, 0.9908883997168066, 0.978506881678172, 0.9873613369733313, 0.9981375264753561, 0.39600247692492, 0.6026124648857478, 0.9985392651113891, 0.5144114447636753, 0.2046583167339353, 0.03871914100371749, 0.16040786987254388, 0.08296958786510891, 0.021146583940101746, 0.09163519707377424, 0.7348437919185357, 0.03348209123849443, 0.11454399634221779, 0.0017622153283418122, 0.9959883367529959, 0.9880440582834724, 0.8302327759804912, 0.8419843447005706, 0.9606819419492414, 0.7181575827261807, 0.9905673969146147, 0.9902926176594432, 0.9750433619309661, 0.021065751646656673, 0.9913047257685594, 0.09684819398450879, 0.8939833290877734, 0.23020794965937702, 0.7673598321979235, 0.41969485289488867, 0.5770804227304719, 0.99150144100173, 0.0801715380935588, 0.2997322276452369, 0.6195073398138634, 0.9721720782852579, 0.9346886002278046, 0.9933044729903043, 0.5175910381974966, 0.4690668783664813, 0.18047729367534104, 0.78056429514585, 0.030831537669537428, 0.008271875960119798, 0.08056456773049833, 0.9130651009456479, 0.8722592749129285, 0.8458749619921653, 0.1471086890421157, 0.9884580126144412, 0.9802713894938726, 0.9892914176591895, 0.987165884959656, 0.08142025770795476, 0.23312637890739182, 0.6833734450359964, 0.0020876989155885835, 0.9930907348110857, 0.18987022888278957, 0.8101129765665689, 0.9939480610214548, 0.9837767792733528, 0.09112248058494679, 0.16199552103990542, 0.7087304045495861, 0.030374160194982264, 0.9688153060927107, 0.9955086026330535, 0.9508371361053737, 0.9964088207811705, 0.9967202730484734, 0.993786141725503, 0.8106758976936944, 0.06336634034649098, 0.12604391612399837, 0.9629905158554494, 0.21150480383520393, 0.25774472046314323, 0.5300464517165637, 0.9816780225910288, 0.015906819810502782, 0.9958344976616108, 0.8632719288327357, 0.13678604506152503, 0.9913726333109213, 0.9936179768096343, 0.9247998584469973, 0.9964851544677666, 0.054138872815944386, 0.9203608378710546, 0.9122334038723277, 0.20946795353107625, 0.7724130786458437, 0.994873994744081, 0.9824418609214085, 0.9146064679330683, 0.9735660425315291, 0.38251159553007397, 0.2422573438357135, 0.3740113378516279, 0.9881071571302928, 0.6491404947113026, 0.34485588781537957, 0.7473056046928683, 0.23175933310095284, 0.014189346924548134, 0.9830222179604585, 0.14927254311624794, 0.15704715473688585, 0.42449379448683006, 0.2690015620740718, 0.9516974081971086, 0.9954472544189846, 0.00936815910266078, 0.9836567057793819, 0.6785513016598475, 0.32046570714941464, 0.3593963541939294, 0.44924544274241174, 0.1796981770969647, 0.8810646343800478, 0.11759972874140467, 0.9922218319112023, 0.9055209323728185, 0.8682366095895944, 0.855002470911397, 0.9907224110651371, 0.9947381024105169, 0.9981982310567042, 0.9910551197000254, 0.130961009724236, 0.8475401195360932, 0.022238662028643847, 0.9816716136011739, 0.9745355520287619, 0.9977033437179014, 0.9629085061730929, 0.02265667073348454, 0.9927149024237698, 0.7053523818773951, 0.28549977361704093, 0.506580363602103, 0.038596599131588805, 0.12061437228621501, 0.3015359307155375, 0.0289474493486916, 0.22091233850724923, 0.7609202770805251, 0.47407235363894806, 0.5195313464536417, 0.0021647139435568403, 0.0043294278871136805, 0.959124711008292, 0.9500744476975732, 0.04883560245174442, 0.9977455823395277, 0.9949743676868388, 0.9993558016027225, 0.9979517704047005, 0.9504082830018199, 0.9820801624286708, 0.9882593151225185, 0.9683147896630594, 0.027956594977148697, 0.9559231463122722, 0.6038645790548955, 0.37741536190930974, 0.9866697448968802, 0.9818498011488764, 0.8822288939015611, 0.995286309201921, 0.945502870453503, 0.9949298599904417, 0.8507529743872093, 0.8151326916023529, 0.9531144042365816, 0.9357259636482838, 0.23863888801125546, 0.08163961958279792, 0.6468369859252451, 0.03139985368569151, 0.685140660036853, 0.2976540636559323, 0.009385488493655522, 0.0067039203526110865, 0.9934082012569823, 0.08100463051365123, 0.7695439898796866, 0.14175810339888964, 0.9686553691787425, 0.9636962543114617, 0.9660114587561056, 0.9135362338144407, 0.08251295015098174, 0.873653279895941, 0.6297330962036963, 0.3598474835449693, 0.9879253039186926, 0.9976866004490079, 0.9907816320248667, 0.996174672734775, 0.9653011565337807, 0.9948651014169785, 0.845389363181108, 0.9924690625933277, 0.9631206740424605, 0.7420528467234948, 0.02941838976385403, 0.9389369399630078, 0.004903064960642338, 0.02451532480321169, 0.31265400587968895, 0.32979954813760737, 0.33988516123050055, 0.006723742061928794, 0.01075798729908607, 0.8558601606608731, 0.45218976988971277, 0.012332448269719439, 0.5344060916878424, 0.9553857437936686, 0.9718373302729313, 0.1876524293311875, 0.2814786439967813, 0.4350124498132074, 0.017059311757380683, 0.08529655878690341, 0.9975649291331196, 0.987367834266778, 0.9610811218770874, 0.9927448629750919, 0.9572155077737106, 0.9747707018473821, 0.9855305760062637, 0.9762971528746738, 0.9607798757599081, 0.4420411439395675, 0.4167067700774184, 0.08299191437600575, 0.04804795042821386, 0.005241594592168785, 0.0034943963947791897, 0.9726838602314929, 0.012798471845151222, 0.9612218393545732, 0.9798591970849684, 0.9459140729446255, 0.9840237643008151, 0.996240629653032, 0.9918758316401544, 0.9548519107512723, 0.13002829772997299, 0.0086685531819982, 0.8018411693348335, 0.0476770425009901, 0.0086685531819982, 0.9887762720021354, 0.013361841513542371, 0.9175062952265731, 0.6589052261313427, 0.9931407923563952, 0.9845894283422628, 0.9226447995089804, 0.9362029902126928, 0.1475119329726835, 0.8499497090330811, 0.9113680135341719, 0.5598516711036859, 0.4392405393868147, 0.993737163264545, 0.9353500510351209, 0.39578703313732877, 0.020239109649067947, 0.5824365999009554, 0.9282094993355019, 0.0724135070403583, 0.3573357201539249, 0.26433053271660195, 0.37202074974929167, 0.006185912749908813, 0.98974603998541, 0.916384520948537, 0.9828172066164811, 0.2963263936047378, 0.1871535117503607, 0.49907603133429523, 0.1638834100166461, 0.09571951381503224, 0.7396507885707037, 0.4514732558452981, 0.5459676582315233, 0.9918813063017125, 0.9799452944254081, 0.9370136703224238, 0.9629648388494714, 0.034391601387481124, 0.9944479688384322, 0.970107064154727, 0.9861110916550142, 0.9925114648263851, 0.005483488755946879, 0.9900716109666932, 0.6447297792341566, 0.9857443678396819, 0.009043526310455798, 0.0022608815776139495, 0.8013627379354697, 0.9864033865872585, 0.8878720546920685, 0.9952399984429461, 0.28685844181097714, 0.7171461045274429, 0.8631366709043979, 0.8741218774422987, 0.12551493624812496, 0.9242550453445662, 0.9949156817898378, 0.9724625833335508, 0.869101119576153, 0.12904834805827725, 0.030927071198842807, 0.9401829644448214, 0.024741656959074248, 0.9973560015522303, 0.9922405378949376, 0.005616455874877005, 0.9770593175249047, 0.5903519131062112, 0.3935679420708074, 0.9960993694298095, 0.9930826808747651, 0.9521771794548887, 0.9481245116477346, 0.3420081113776382, 0.07600180252836404, 0.5700135189627303, 0.5147567944693976, 0.14755610519801113, 0.33115644983370435, 0.006007373239613684, 0.9985846095405885, 0.9978715746342609, 0.9169189982926813, 0.9729340016004435, 0.982697592128987, 0.9945973064429987, 0.995215881906109, 0.9825845219470182, 0.4512508603434328, 0.4512508603434328, 0.9418481616877022, 0.8069312066035305, 0.031179722048049863, 0.12097732154643347, 0.03492128869381585, 0.004988755527687978, 0.3266269975256301, 0.28402347610924356, 0.09940821663823525, 0.28402347610924356, 0.9954038555958414, 0.8937002939616153, 0.9954640192259212, 0.8859274826033905, 0.9629018849895519, 0.02568077259891851, 0.6933808601707998, 0.2824884985881036, 0.35692582035138426, 0.19152117189586473, 0.4526864062993166, 0.05809045866999104, 0.20844223405114434, 0.7312563620810637, 0.9980289545805539, 0.9260009597412162, 0.814223360546108, 0.18519590161440888, 0.9986061409214474, 0.7080801818840212, 0.6347931067831996, 0.3649361252652315, 0.45327990235704024, 0.4558157339786181, 0.0798786960797022, 0.0031697895269723097, 0.006973536959339081, 0.0006339579053944619, 0.008423428657739136, 0.016846857315478272, 0.9686942956400005, 0.9922909571763476, 0.2150730008527723, 0.22780459498359182, 0.4719783824210944, 0.03910418197323133, 0.0004546997903864108, 0.0013640993711592324, 0.0036375983230912865, 0.03910418197323133, 0.0009093995807728216, 0.9327172262709637, 0.17412723568328797, 0.07835725605747958, 0.18283359746745237, 0.548500792402357, 0.9659901759782611, 0.049229180119435445, 0.921288942235149, 0.028130960068248823, 0.8441842936538138, 0.2251962481309603, 0.7668845206621893, 0.9955723140446032, 0.9938556859833224, 0.9813430729977461, 0.7096035642087557, 0.943065896147361, 0.9901852690024217, 0.9958439904964174, 0.6713162272124656, 0.28770695451962813, 0.00657052167396992, 0.082131520924624, 0.910017251844834, 0.9440623178739614, 0.05556731076502011, 0.8906205086504612, 0.007717682050697237, 0.04476255589404398, 0.8093250520510543, 0.9926743441138871, 0.9778380641708332, 0.021569957297886026, 0.9888856391063664, 0.9888765136839112, 0.9880790323230962, 0.9907077562870937, 0.2992919703924608, 0.07149752626042119, 0.12636772083237233, 0.15795965104046542, 0.28931557137937874, 0.05320746140310414, 0.8522398883565053, 0.8719464760248286, 0.9844082137683872, 0.9941804830211619, 0.9415766130277401, 0.8814490433528652, 0.2902510614029892, 0.6772524766069747, 0.9896152089918391, 0.7962521786350614, 0.07992701291455875, 0.5537800180508713, 0.07421794056351884, 0.29116268990303545, 0.9969642589508204, 0.9772817466784409, 0.01879387974381617, 0.9563960926608602, 0.9347088734461283, 0.1162155982353151, 0.11312475785671629, 0.7603467331353062, 0.009272521135796418, 0.21585633303925275, 0.29848265832350884, 0.48547907870366735, 0.18329379699863446, 0.8146390977717087, 0.36238257597779067, 0.06006341038305923, 0.5155442724545917, 0.011011625236894192, 0.04905178514616504, 0.0010010568397176539, 0.3153210972447033, 0.6831957106968571, 0.12101784237029456, 0.8773793571846356, 0.9946791966024592, 0.9727792255907658, 0.25275172267955154, 0.7447148971808214, 0.9899604949448648, 0.8823737122037912, 0.067058026823722, 0.9052833621202471, 0.9888522400918766, 0.9914248158372666, 0.9472478228906336, 0.9970054697508766, 0.9446072895614335, 0.9878031725457332, 0.9902249088083456, 0.8507372359550768, 0.20559124908153756, 0.23784085678060227, 0.24321579139711305, 0.3130899414117533, 0.9469672224436837, 0.050217958765952926, 0.002391331369807282, 0.9746463229028949, 0.9427417339464897, 0.9836368910228777, 0.7559303330483707, 0.026824317380887003, 0.9714234937221221, 0.9224391537590235, 0.2541773737299665, 0.6912674369665445, 0.05463625790457224, 0.1473811628177092, 0.6729113618124354, 0.12895851746549555, 0.002908838739823208, 0.04169335527079931, 0.005817677479646416, 0.9753914717540962, 0.9858188263466047, 0.4810884815818566, 0.057272438283554356, 0.45817950626843484, 0.7541714028702078, 0.24540498029903585, 0.9703518436036626, 0.612769369152269, 0.09162906454613368, 0.2920676432408011, 0.10684615118699693, 0.8047561174509982, 0.07274631570178515, 0.009093289462723144, 0.002273322365680786, 0.9254762979261449, 0.8809668144092901, 0.852262250664211, 0.13250720505026603, 0.012046109550024183, 0.8673008424944062, 0.5124722963860507, 0.3394780184771479, 0.10230844392461992, 0.017671458496070713, 0.027902302888532706, 0.9818708070842751, 0.8842880877559047, 0.06453384466857688, 0.05058058095645215, 0.9691454700553233, 0.13349514654027464, 0.5359437500808084, 0.32981153851126677, 0.9785423255958214, 0.8793158195054656, 0.977685684491578, 0.9947129249148656, 0.11660434322382698, 0.8745325741787024, 0.07970282673133783, 0.909262860057507, 0.009759529803837284, 0.9964266850097417, 0.9932614690217203, 0.7983548468023245, 0.9922358989914172, 0.8764404985070771, 0.09751371556216318, 0.29254114668648956, 0.596163397414134, 0.0022162208082309814, 0.011081104041154907, 0.07894520436766858, 0.2170993120110886, 0.26644006474088144, 0.2467037636489643, 0.18749486037321286, 0.9780899597761459, 0.8615859622938881, 0.932057973757178, 0.9985874520402597, 0.01999913671565892, 0.4445961931404176, 0.2461432211158021, 0.22075970143823503, 0.06845858337283246, 0.9732162512466334, 0.498882746271938, 0.4489944716447442, 0.9388071220378541, 0.9831151565285522, 0.01729821389786309, 0.9954315279977431, 0.07734164875809188, 0.8929444902070608, 0.02109317693402506, 0.02515282407703876, 0.9683837269659923, 0.9851385163950087, 0.9690494634984586, 0.9923458901976103, 0.14741125059278945, 0.7230170862408245, 0.12635250050810526, 0.9725181326794599, 0.9283894977211411, 0.07611645669636094, 0.08197156874992717, 0.7640921229903925, 0.03805822834818047, 0.03805822834818047, 0.9962515181169264, 0.9327406332578301, 0.996640221124266, 0.9785222576962818, 0.9787378972017806, 0.9972399606083179, 0.968759161592429, 0.9803516417542342, 0.9927199425407955, 0.9987311916458075, 0.9893635716225758, 0.9659441936939626, 0.02327576370346898, 0.9879843590397406, 0.7356601838342153, 0.26262607815375955, 0.26380674464840786, 0.7327965129122441, 0.26656002197610695, 0.7281037637310328, 0.00246814835163062, 0.9957323003040193, 0.9789900018452385, 0.9660953716039525, 0.020126986908415676, 0.9968200940518879, 0.9843609220133002, 0.991826327188852, 0.9926303881272963, 0.9662766482079642, 0.17921692867425246, 0.6400604595509016, 0.1536145102922164, 0.3462898420612554, 0.22406989780434172, 0.22406989780434172, 0.2036999070948561, 0.953981703878109, 0.9603973191935614, 0.9900208295922955, 0.9697762265075105, 0.9882234590663598, 0.999107771207366, 0.1732375341334211, 0.8256427158699219, 0.44366639623306864, 0.259627002240092, 0.019718506499247494, 0.2727726732395903, 0.21702274619434528, 0.14042648283163517, 0.641493705662697, 0.3413151906300898, 0.6522912532041716, 0.9745355520287619, 0.29092758838892996, 0.400946988286498, 0.3008520187920611, 0.00737243401375456, 0.8842699674728443, 0.9948462059824054, 0.8975172907773542, 0.08207417273950594, 0.11463252225600418, 0.7895399757750821, 0.012887680016947215, 0.2530244863993184, 0.2398461277326872, 0.2820168754659069, 0.22403209733272983, 0.9968554833529396, 0.9917542912829965, 0.9675402291861137, 0.026604194253750033, 0.9577509931350011, 0.7730717487867869, 0.5472893282132741, 0.44905791032884035, 0.8471237978264352, 0.13342975570159968, 0.01861810544673484, 0.9826450067428139, 0.9813023951289815, 0.07149396902635283, 0.09214778230063253, 0.7197059548652851, 0.1159791053094168, 0.8454341611376119, 0.4333787026103587, 0.036452414238254474, 0.024301609492169647, 0.48603218984339297, 0.016201072994779766, 0.8281235852073608, 0.9786226580617918, 0.12504157690580153, 0.10348268433583574, 0.7718083540047749, 0.8217950773402262, 0.0017982386812696414, 0.17622739076442487, 0.24718417865502207, 0.38445804908889963, 0.36735582270594147, 0.0006840890553183268, 0.9651350472813618, 0.04680216176546549, 0.7614838211570332, 0.14926094833310616, 0.026563389110129062, 0.008854463036709687, 0.005059693163834107, 0.9273860475367887, 0.07502819349698964, 0.48959075417527137, 0.11572145098688233, 0.26959283087053904, 0.04959490756580671, 0.0012716642965591464, 0.012401447261890554, 0.6907606124873038, 0.29639458955918424, 0.9604420573052996, 0.9703967366120253, 0.9406781368887995, 0.7046952677696154, 0.289781231606197, 0.9293873688569326, 0.9855428577031284, 0.5523553306732464, 0.4456290464414666, 0.378255560470841, 0.3100938243237039, 0.31135607869679904, 0.9948995701278348, 0.9391140035608857, 0.9446020906194337, 0.9870511993854819, 0.580883696690719, 0.14562543928179586, 0.1880995257389863, 0.07685787073205892, 0.0008090302182321992, 0.007281271964089793, 0.8602393162849727, 0.9749444373235785, 0.3603016590141253, 0.135113122130297, 0.49541478114442233, 0.37998154104553733, 0.16149215494435337, 0.4464783107285064, 0.8400376423482564, 0.9998531138943139, 0.7781799065196877, 0.050205155259334694, 0.1701396928233009, 0.9523083988105019, 0.008402701182535392, 0.1540495216798155, 0.7954557119466837, 0.03921260551849849, 0.990078510886115, 0.008182467032116652, 0.9889177275239447, 0.9965209268290683, 0.983980325820665, 0.43555696036018826, 0.27685482552589813, 0.2866426223879249, 0.028709495334335, 0.9569831778111666, 0.009569831778111666, 0.972362077684543, 0.9968671829644076, 0.0673924644832867, 0.23587362569150344, 0.20217739344986008, 0.21060145151027093, 0.28360995470049816, 0.04553567631507621, 0.6505096616439459, 0.05204077293151567, 0.25044621973291914, 0.9708805526501182, 0.020226678180210796, 0.9982442588952289, 0.995966584636383, 0.9197221378561232, 0.9925710284991914, 0.9706829634850435, 0.10317517461979538, 0.030570422109569, 0.8655250759771723, 0.0019106513818480625, 0.9982975803264578, 0.9425072866738927, 0.991654978281371, 0.08966245719133048, 0.34584090630941755, 0.5507836656038873, 0.9980374361208767, 0.9919384308281225, 0.9633540111369183, 0.9485390056682265, 0.22347648675011622, 0.11173824337505811, 0.07449216225003874, 0.588488081775306, 0.35443903082647454, 0.6379902554876542, 0.8539676357440489, 0.9979867588862833, 0.9887071893903323, 0.9940237923129263, 0.0039760951692517045, 0.31746502041734403, 0.2922623655931259, 0.3899779220168488, 0.9121230862492479, 0.9120111306498161, 0.08550104349842026, 0.2501501841422806, 0.19748698748074783, 0.5463806653634024, 0.5784555471941871, 0.3443798545934351, 0.05258686792674428, 0.0006413032673993205, 0.01154345881318777, 0.012184762080587089, 0.0006413032673993205, 0.9914255455487252, 0.9927149024237698, 0.9260009597412162, 0.00755558138526075, 0.9897811614691582, 0.21060120756546033, 0.6829053862968236, 0.06813568480059011, 0.021679536072915034, 0.017033921200147528, 0.9616832605354172, 0.7954990303286551, 0.9966914374833483, 0.058687637765213074, 0.9292209312825404, 0.4407289818374589, 0.28332577403836645, 0.25184513247854795, 0.9577306465286031, 0.15656036815143842, 0.6639416281472372, 0.17279237956513271, 0.006283359256913917, 0.9838631591658802, 0.887371799926427, 0.8501066474937856, 0.10472938856695588, 0.27610475167652004, 0.14281280259130347, 0.028562560518260696, 0.44748011478608424, 0.9622329565151978, 0.45943552470127497, 0.14516366741375789, 0.39134328895564624, 0.003741331634375203, 0.9900307052033497, 0.02781411911372737, 0.23262717804208347, 0.7130528718246472, 0.025285562830661246, 0.9111569665014524, 0.9427354603565928, 0.055753172386680226, 0.9490736248244643, 0.937992985292882, 0.9450727528567425, 0.8340552472885555, 0.153193820930551, 0.9859094101915816, 0.15436738265704186, 0.5203557781584791, 0.1232040143272165, 0.035511745306080054, 0.1232040143272165, 0.0420343107704621, 0.8149134317091787, 0.9534561562697297, 0.9814056274688485, 0.9943612203872719, 0.9019981345942951, 0.4068657555529729, 0.038383561844620086, 0.5450465781936052, 0.007676712368924017, 0.9919238887483051, 0.9645507484672964, 0.9760355382584429, 0.7673537230086127, 0.9280396876508654, 0.9693891630185506, 0.9572031560247086, 0.9933769531227711, 0.962160790500311, 0.9676532647225943, 0.9976924673265165, 0.9544659385262899, 0.24298851709153257, 0.23831566099361848, 0.5163505988195067, 0.851263206539812, 0.3343877728885835, 0.6645427891583242, 0.980096495983534, 0.9888407536107238, 0.9777749994435116, 0.6562706620527081, 0.43000803132650334, 0.23510601712770204, 0.17480001273435097, 0.08652600630350372, 0.017480001273435096, 0.012236000891404567, 0.0069920005093740386, 0.03496000254687019, 0.0017480001273435096, 0.9683777038637457, 0.9881206091088939, 0.9810607087520592, 0.9964680420702051, 0.9888097011785681, 0.9860035570012589, 0.9825009535034233, 0.7575452889601262, 0.02452484748432063, 0.16647169201478249, 0.00024772573216485486, 0.051031500825960106, 0.9617283970715047, 0.14358134764741806, 0.1283067361955651, 0.1283067361955651, 0.006109844580741194, 0.5896000020415253, 0.9814996075090265, 0.7503560862380149, 0.06638953026385729, 0.14976242873474782, 0.033966736414066515, 0.20701391387532422, 0.7763021770324658, 0.6610805513741432, 0.023704083515407526, 0.023704083515407526, 0.2923503633566928, 0.18804207917606647, 0.640878106579655, 0.16501651846062976, 0.27240060397062194, 0.5561512331066865, 0.0567501258272129, 0.10782523907170452, 0.9922643767120314, 0.18031559880232398, 0.1622840389220916, 0.6491361556883664, 0.8684987717714361, 0.9848886332469652, 0.040919797427524954, 0.9110039111496344, 0.03876612387870785, 0.006461020646451308, 0.991347164663773, 0.049244411099457694, 0.9177367523080753, 0.022383823227026225, 0.004476764645405245, 0.9949631885782146, 0.0029349946565729043, 0.10676366320056017, 0.8856238808865744, 0.007074700573531096, 0.9968110829457996, 0.588967973805261, 0.21247578801835365, 0.1984971177539883, 0.9879182832173096, 0.35815628098573654, 0.17706602655474615, 0.1810902544309904, 0.008048455752488462, 0.020121139381221155, 0.25352635620338654, 0.9514745709232375, 0.9524547331102462, 0.5310567326160318, 0.38305731532959675, 0.08415653139816898, 0.5909033430765082, 0.10605957439834761, 0.2878759876526578, 0.30978234375455205, 0.15250823077147177, 0.2668894038500756, 0.18110352404112273, 0.09531764423216986, 0.6084247842268254, 0.36505487053609526, 0.9969004675502089, 0.3369349449376601, 0.6064829008877881, 0.9957586389461996, 0.9188063800796955, 0.13771727171488246, 0.41111155926738985, 0.258092368473076, 0.01836230289531766, 0.17342174956688902, 0.9797903126990933, 0.9730080434524686, 0.22704193306770032, 0.18163354645416024, 0.09081677322708012, 0.45408386613540064, 0.9747305677917703, 0.022624307182787705, 0.9504259493655418, 0.9848398537384976, 0.998083303182897, 0.9498319515207638, 0.9969391999996128, 0.197362987937005, 0.78945195174802, 0.08065561824211287, 0.831761063121789, 0.08569659438224493, 0.050636814496330854, 0.29786361468429917, 0.6523213161586151, 0.766414406865115, 0.20139703800949477, 0.20139703800949477, 0.5706249410269019, 0.2720511086466796, 0.6777959049711559, 0.050523777320097635, 0.9357016508578571, 0.9542161844273057, 0.9657103165877942, 0.11092287405266578, 0.6378065258028283, 0.249576466618498, 0.6785567193310346, 0.19091595832025718, 0.13034422857206315, 0.4298681148788616, 0.4298681148788616, 0.9630779050289523, 0.23089943588225564, 0.0653488969478082, 0.14812416641503193, 0.3920933816868492, 0.03049615190897716, 0.12634120076576252, 0.9642440147788027, 0.18525850872848298, 0.0054487796684847935, 0.004086584751363595, 0.12123534762378665, 0.1825341188942406, 0.501287729500601, 0.9862971659642612, 0.9875657287524061, 0.9615208679573679, 0.9891970727780515, 0.9745355520287619, 0.7427822723994268, 0.9742108314297213, 0.672585026554387, 0.2489744571982029, 0.07669829250181606, 0.9831335532585465, 0.9959962263952529, 0.8833638884692414, 0.1139824372218376, 0.9745355520287619, 0.6624239900511628, 0.16307551537762074, 0.15745222174390966, 0.008997269813937695, 0.007872611087195483, 0.6067789893469993, 0.38100076075276695, 0.48094156277570205, 0.5063434058800526, 0.011854193448696882, 0.7248308360943485, 0.13450469123400283, 0.13450469123400283, 0.33269208770676334, 0.19143734655752306, 0.4751859055327514, 0.9971463240673175, 0.6917712181920949, 0.13119798965712143, 0.17443369079412738, 0.9687136279315585, 0.643057454806477, 0.971309497611581, 0.9095869462333923, 0.9861020708465456, 0.9968296342115843, 0.9938978523160134, 0.9972244038235809, 0.17913182535119015, 0.16388656361917397, 0.5450181069195785, 0.08766025495909305, 0.022867892598024273, 0.26036098089908316, 0.678645835458266, 0.034145702412994514, 0.0298774896113702, 0.0356951463769971, 0.021417087826198257, 0.9423518643527233, 0.09023466106271096, 0.9066434992491433, 0.08817760019239373, 0.9093315019840603, 0.9212965280220327, 0.9779711150983984, 0.01725831379585409, 0.9599876544128305, 0.9918816166113643, 0.9932271955995748, 0.37542616966926284, 0.1404655736857786, 0.4501283156748815, 0.019154396411697083, 0.014685037248967765, 0.7818282563933676, 0.853796990214099, 0.030675340965776014, 0.08691346606969871, 0.002556278413814668, 0.010225113655258671, 0.01278139206907334, 0.9943952518097074, 0.48334604736793263, 0.48334604736793263, 0.7373822899757103, 0.9464413460761356, 0.9572405011831724, 0.9724679903470731, 0.8421502745329021, 0.8380006975369216, 0.9945632011069347, 0.8519024618605351, 0.7479368560050862, 0.9138319534547822, 0.8022551760570166, 0.12954704204811746, 0.06867554036285745, 0.4927372113910681, 0.1831971683377048, 0.006317143735782924, 0.3158571867891462, 0.34822259969065167, 0.0006827894111581405, 0.5134576371909216, 0.13724067164278625, 0.2274651514233647, 0.14153387199676026, 0.629320252271309, 0.6763518675078696, 0.03381759337539348, 0.27054074700314784, 0.10772940935423447, 0.7541058654796413, 0.9965592798912198, 0.9866638815605491, 0.9554802404966783, 0.972343046185961, 0.9827967095235186, 0.42316424902217614, 0.030011648866821002, 0.27610716957475323, 0.270104839801389, 0.07113376784494191, 0.08891720980617737, 0.8298939581909889, 0.9445138804038724, 0.41536577204481373, 0.5820412092347709, 0.9972718398326182, 0.9961621650810442, 0.969405576050659, 0.01978378726633998, 0.976011560146031, 0.9640961642558096, 0.03455541807368493, 0.9766673348410662, 0.9833405529944874, 0.8497080304148592, 0.9782414365080381, 0.02088771750550971, 0.9728592490800138, 0.9761258020612973, 0.9764539655688952, 0.9627883930814538, 0.220601301750277, 0.1878387321834042, 0.4324659182827213, 0.0546042826114547, 0.012012942174520036, 0.0917351947872439, 0.07768818042150138, 0.9225471425053289, 0.9936496219809844, 0.010837574964245962, 0.06231605604441428, 0.8751341783628614, 0.04605969359804534, 0.0027093937410614904, 0.9859244095268841, 0.9907175519536615, 0.03503782291549978, 0.7459665523945115, 0.005651261760564481, 0.2057059280845471, 0.005651261760564481, 0.9898411756418778, 0.007498796785165741, 0.9850584487084597, 0.9986391919345708, 0.9478090411051401, 0.051780738728850466, 0.9465519039633865, 0.9853332720770881, 0.9849633479541516, 0.994313632273795, 0.3797880721881563, 0.5063840962508751, 0.9946617698263149, 0.527350961260107, 0.35156730750673804, 0.9940706568983231, 0.5184353130601328, 0.011270332892611583, 0.18032532628178533, 0.2817583223152896, 0.9871012822013074, 0.006287269313384124, 0.8130138436087115, 0.978610499715448, 0.29506521448308415, 0.699413841737681, 0.8878144675485421, 0.9823452334099071, 0.3675852696164557, 0.3260469961149058, 0.2981651412987969, 0.002845087226133558, 0.005121157007040405, 0.15690054005488618, 0.8368028802927262, 0.8872460237949892, 0.10628467993377474, 0.006931609560898353, 0.9652964185140466, 0.28882059049204406, 0.5776411809840881, 0.053383337205236664, 0.9075167324890233, 0.9820833817284668, 0.9912017942858611, 0.9797460099842322, 0.9583824307597901, 0.4900551119772396, 0.5083322257106565, 0.9612397747096043, 0.0353396975996178, 0.8592540901759047, 0.369371863770225, 0.2741667178066107, 0.354910322611195, 0.000602564214959584, 0.9646953489602328, 0.9887757286189339, 0.9907077562870937, 0.3370068191665913, 0.6138338491962914, 0.044131845367053626, 0.07750141636993127, 0.9210745253195678, 0.9875077289871066, 0.010733779662903334, 0.22647354594517582, 0.45294709189035165, 0.26421913693603843, 0.03774559099086264, 0.926557312543934, 0.5659902393638074, 0.4244926795228555, 0.9908174892179373, 0.9846695794015675, 0.006308624672554421, 0.08411499563405894, 0.6287595923645906, 0.012617249345108841, 0.26496223624728565, 0.9917268456410956, 0.007400946609261908, 0.39160002934189625, 0.19580001467094812, 0.3362652425870631, 0.07448913601612157, 0.08687342655208682, 0.8976920743715638, 0.9741101927173181, 0.7523432211461897, 0.6521975636110089, 0.26407535059707526, 0.22982029332622825, 0.49389564392330354, 0.011210746015913573, 0.9973101741472897, 0.3703776487190455, 0.6237939346847082, 0.4167650942981698, 0.21918756811237078, 0.36428356390506694, 0.706283916360483, 0.4638467113469025, 0.5334237180489378, 0.024718532096767606, 0.1865125603665192, 0.7550387985921742, 0.03145994994134059, 0.9943618420734722, 0.9804215815843943, 0.13340355901064097, 0.6625710097528501, 0.20010533851596143, 0.21141499606960987, 0.778897353940668, 0.9884324739222814, 0.8620436277943266, 0.9668612321168328, 0.49468581032300485, 0.49468581032300485, 0.9801776343452565, 0.8828124143527658, 0.626840260804012, 0.3581944347451497, 0.9800478595731378, 0.9342825269858276, 0.9069076877168563, 0.08299339841738088, 0.6717890832525003, 0.16075886622579286, 0.002613965304484437, 0.06600262393823203, 0.015030300500785512, 0.06087295428506696, 0.3291648639118436, 0.4734563111060764, 0.0901821544963955, 0.04734563111060763, 0.32662877036883164, 0.1690113986210815, 0.5038691883984302, 0.9147904047760769, 0.9232230450712705, 0.06844322409918809, 0.006083842142150053, 0.0015209605355375132, 0.9308513549303228, 0.06596584405018036, 0.1602733930201646, 0.12756453730176368, 0.3957771541926514, 0.15700250744832453, 0.15700250744832453, 0.95698161912544, 0.9951900356382845, 0.8779799656034913, 0.9263183800937319, 0.057894898755858244, 0.9630085280745204, 0.978547442816853, 0.941249704530092, 0.05810183361296865, 0.9987437123464556, 0.9956353907217828, 0.3272379760417702, 0.06124774952653453, 0.6107275595645871, 0.8497485189187525, 0.801103958240478, 0.08288381951594426, 0.25618635123110045, 0.34283761708867855, 0.3164654926972417, 0.8335334205325142, 0.07693892290525527, 0.15590255430801725, 0.7572409780675123, 0.00809883399002687, 0.548482371678501, 0.16915811462981806, 0.28193019104969674, 0.4715031389881989, 0.08343594693744068, 0.4447916307959967, 0.2006895879887423, 0.14259523357094847, 0.3538474314538351, 0.10298544646790724, 0.19804893551520622, 0.9546299193111807, 0.0896837876646133, 0.22002422573718464, 0.5082081300994754, 0.01793675753292266, 0.06218075944746522, 0.10164162601989507, 0.7055052879416787, 0.2822021151766715, 0.2839625416971963, 0.2674686421009699, 0.4480099755191245, 0.7651536859744894, 0.17675691268542898, 0.09990608108306856, 0.4780121725666819, 0.24438564449550618, 0.8522915415335462, 0.9859149369158068, 0.08933562800673252, 0.0036463521635401027, 0.70921549580855, 0.1950798407493955, 0.0018231760817700514, 0.9887972862827745, 0.7631591485342695, 0.21940825520360246, 0.009539489356678367, 0.9445711711427973, 0.9487981761477495, 0.7576857813213188, 0.9419532458542815, 0.9878034690946371, 0.969037102242699, 0.9897763718683509, 0.010529535870939903, 0.7892784116322896, 0.21057823235248832, 0.954907493553257, 0.9658564602993951, 0.03172521219961517, 0.7847425898760885, 0.21175593695069053, 0.9761827909506648, 0.9776483279626058, 0.02172551839916902, 0.9666272764977948, 0.027038525216721534, 0.18286615126685477, 0.09262051817412124, 0.009499540325550896, 0.3229843710687305, 0.3918560384289745, 0.974444502139125, 0.7797299537385964, 0.9955067696558652, 0.15478938847220788, 0.11547779774910746, 0.5995017585272813, 0.12530569542988257, 0.002456974420193776, 0.9922648242823571, 0.010644777459753419, 0.12064081121053874, 0.8480339376270224, 0.005322388729876709, 0.012418907036378988, 0.18703404869407173, 0.6010027431369505, 0.13017569789107392, 0.009975149263683826, 0.07082355977215517, 0.0009975149263683825, 0.31362470506521145, 0.6618012844172682, 0.021262691868827892, 0.16763903643537648, 0.6479893523752052, 0.18375817455416266, 0.05622124685196082, 0.808542673798818, 0.009273607728158485, 0.07013165844419854, 0.05564164636895091, 0.8450339501956139, 0.1126711933594152, 0.19684674339022817, 0.7381752877133556, 0.9157990496842284, 0.07761008895629055, 0.9786066865936166, 0.02617300180809665, 0.3994227667235619, 0.5735301265774223, 0.990648613075389, 0.9889468822145124, 0.00848881443960955, 0.8971080748247495, 0.9598101618616379, 0.26904778289100056, 0.529942602664092, 0.024458889353727326, 0.17121222547609127, 0.995809586078422, 0.06629920580105628, 0.5801180507592424, 0.34807083045554543, 0.9814657505728954, 0.9881007701476151, 0.31897721930034056, 0.4192845209671144, 0.26130052084194566, 0.0005015365083338688, 0.990370360899732, 0.932037114955999, 0.06340388537115639, 0.4622296028498461, 0.49246892266245285, 0.043199028303723935, 0.09776333875895467, 0.8989458222469734, 0.34678224715370665, 0.21164442300514882, 0.4240038609528826, 0.014300298851699244, 0.003575074712924811, 0.24662393835863014, 0.07940087771546141, 0.6737044169796725, 0.664559887994092, 0.33465903667482916, 0.6771389717614341, 0.2072874403351329, 0.11469905031877355, 0.9664730769449121, 0.9983687114393662, 0.9873586626506275, 0.39790108875996455, 0.5769565787019486, 0.02520040228813109, 0.998553072108317, 0.001029436156812698, 0.9248597355758251, 0.882132690112748, 0.10178454116685554, 0.9874391651196301, 0.9760848052351663, 0.9879255022908477, 0.9000579110538985, 0.9595140190652705, 0.12974841691530384, 0.08649894461020256, 0.7784905014918231, 0.9877558440521631, 0.010700956869349718, 0.9844880319801741, 0.47771319401329837, 0.35386162519503583, 0.15776330789945348, 0.010320964068188545, 0.4680262582853938, 0.05754421208426973, 0.4718625390910118, 0.9614214368393993, 0.7737568725616562, 0.1938839059982081, 0.03201752576117198, 0.9327806422681567, 0.06500213534969733, 0.13496462429821884, 0.615237675657306, 0.24839234046374317, 0.0007178969377564831, 0.0007178969377564831, 0.1412186413339648, 0.8183439215763089, 0.030778421829197457, 0.00724198160686999, 0.9894911122665269, 0.6254186281699537, 0.021280785079506936, 0.2068965216063174, 0.011822658377503853, 0.0886699378312789, 0.04492610183451464, 0.7392958017034684, 0.41908548937900975, 0.2588913308119267, 0.320113777016656, 0.0017845107638149776, 0.9837122353247901, 0.9369449970171182, 0.9872293321137424, 0.9837302819449476, 0.06794294587498094, 0.9308183584872388, 0.9216436309287318, 0.9804938294776319, 0.17964947697243058, 0.7669650747669151, 0.05297356372263978, 0.8690271798558975, 0.20981464759055712, 0.01785656575238784, 0.706227175506939, 0.05714101040764109, 0.008035454588574529, 0.07007867576141111, 0.9069005098535555, 0.020611375223944444, 0.8786498612660167, 0.4901438140565019, 0.16655372322308318, 0.33786612425254015, 0.9860403204921974, 0.9665527053273437, 0.7428857966487027], \"Term\": [\"\\\"bad\", \"\\\"clipper\", \"\\\"skepticism\", \"#include\", \"#include\", \"'the\", \"'the\", \"(1st\", \"(205)\", \"(301)\", \"(301)\", \"(301)\", \"(403)\", \"(415)\", \"(david\", \"(frank\", \"(john\", \"(john\", \"(mostly\", \"(mostly\", \"(never\", \"(pp)\", \"(pp)\", \"(unassisted)\", \"*******\", \"***************\", \"*are*\", \"*the*\", \"----\", \"------\", \"------\", \"--------\", \"--------\", \"--------\", \"----------\", \"----------\", \"----------\", \"------------\", \"------------\", \"------------\", \"---------------\", \"---------------\", \"-----------------------\", \"-----------------------\", \"-----------------------------------------\", \"---------------------------------------------------------------------\", \"----------------------------------------------------------------------\", \"------------------------------------------------------------------------\", \"------------------------------------------------------------------------\", \"------------------------------------------------------------------------\", \"----------------------------------------------------------------------------\", \"----------------------------------------------------------------------------\", \"----------------------------------------------------------------------------\", \"------------------------------------------------------------------------------\", \"------------------------------------------------------------------------------\", \"------------------------------------------------------------------------------\", \"--------------------------------------------------------------------------------\", \"--------------------------------------------------------------------------------\", \"....\", \"....\", \"....\", \"....\", \"...uunet!ingr!b30!catbyte!dtmedin\", \".bmp\", \"0.333\", \"1/2\\\"\", \"19.6\", \"1991.\", \"1992,\", \"1993\", \"1993\", \"1993\", \"1993\", \"1993\", \"1993\", \"1993,\", \"1993.\", \"2001\", \"256k\", \"30-bit\", \"3000\", \"3000\", \"46.9\", \"462-0666\", \"5.00\", \"55.0\", \"8-bit\", \"8-bit\", \"8-bit\", \"80-bit\", \"9600\", \"9600\", \"<feustel@netcom.com>\", \"[kk]\", \"^^^^^^\", \"accelerators\", \"access\", \"access\", \"access\", \"access\", \"access\", \"accusing\", \"acts\", \"adams\", \"adams\", \"adams\", \"adapter\", \"adapter\", \"administration\", \"administration\", \"administration\", \"administration\", \"adobe\", \"adults\", \"affairs\", \"afternoon\", \"aged\", \"aged\", \"agencies\", \"agencies\", \"agencies\", \"agree\", \"agree\", \"alan\", \"algorithm\", \"algorithm\", \"allocated\", \"allocation\", \"allowed.\", \"also\", \"also\", \"also\", \"also\", \"also\", \"amendment\", \"americans.\", \"americans.\", \"among\", \"among\", \"among\", \"among\", \"among\", \"among\", \"among\", \"amp.\", \"andrew\", \"andrew\", \"andrew\", \"andrew\", \"andrew@idacom.hp.com\", \"andrew@idacom.hp.com\", \"angels\", \"angels\", \"angels\", \"annual\", \"annual\", \"annual\", \"anonymous\", \"ansi\", \"answer:\", \"anyone\", \"anyone\", \"anyone\", \"apartment\", \"apartment,\", \"apartment.\", \"apple\", \"application\", \"application\", \"appreciated.\", \"approach\", \"approach\", \"approach\", \"approach\", \"approach\", \"april\", \"april\", \"april\", \"april\", \"april\", \"april\", \"arab\", \"arabs\", \"arafat,\", \"archbishop\", \"archer\", \"archive.\", \"argic\", \"argue\", \"argument\", \"argument\", \"arguments\", \"armenia\", \"armenia\", \"armenian\", \"armenian\", \"armenians\", \"armenians\", \"armenians,\", \"around\", \"around\", \"around\", \"astros\", \"asynchronous\", \"atheists\", \"attorney\", \"attorney\", \"available\", \"available\", \"available\", \"available\", \"award\", \"award\", \"awards\", \"azerbaijan\", \"azerbaijan\", \"azerbaijani\", \"azerbaijanis\", \"azeri\", \"azeris\", \"back\", \"back\", \"back\", \"back\", \"back,\", \"backup\", \"backup\", \"baku\", \"baltimore\", \"banks\", \"banks\", \"banks\", \"banks\", \"baptism\", \"baseball\", \"baseball.\", \"batf\", \"belief\", \"beliefs\", \"believe\", \"believe\", \"believe\", \"bethesda,\", \"better\", \"better\", \"better\", \"bible\", \"bible\", \"bike\", \"bill\", \"bill\", \"binaries\", \"bios\", \"bishop\", \"bits\", \"blues\", \"blues\", \"bone\", \"boot\", \"boot\", \"borland\", \"boston,\", \"broadcasting\", \"bronx\", \"brought\", \"brought\", \"brought\", \"bruins\", \"burst\", \"burst\", \"cable\", \"cable\", \"cable\", \"cable.\", \"came\", \"came\", \"came\", \"came\", \"campbell\", \"canadian\", \"cancer\", \"cancer\", \"cannot\", \"cannot\", \"canon\", \"canon\", \"canon\", \"card\", \"card\", \"card.\", \"card?\", \"cardinal\", \"cardinals\", \"cards.\", \"career\", \"cars\", \"catholic\", \"center\", \"center\", \"center\", \"centers\", \"champs!!!!\", \"char\", \"characters\", \"characters\", \"chastity\", \"cheers,\", \"cheers,\", \"children\", \"children\", \"children\", \"children\", \"children\", \"chinese\", \"chinese\", \"chip\", \"chip\", \"chip\", \"chip\", \"chipset\", \"christ\", \"christ\", \"christian\", \"christianity\", \"christians\", \"church\", \"cigarettes\", \"cipher\", \"civilians\", \"claim\", \"claim\", \"cleveland\", \"click\", \"click\", \"clients\", \"clinical\", \"clip\", \"clipper\", \"cocaine\", \"colormap\", \"combo\", \"combustion\", \"comic\", \"comics\", \"communications\", \"communications\", \"communications\", \"communications\", \"computer\", \"computer\", \"computer\", \"computer\", \"conclusion\", \"conference\", \"conference\", \"conference\", \"config.sys\", \"configure\", \"conflict.\", \"congress\", \"congress\", \"connects\", \"consensus\", \"consensus\", \"constitutional\", \"contest\", \"contrib\", \"controller\", \"controllers\", \"converter\", \"converts\", \"cooling\", \"copies)\", \"cops,\", \"copy\", \"copy\", \"copy\", \"copy\", \"could\", \"could\", \"could\", \"could\", \"could\", \"countersteering\", \"court\", \"court\", \"court\", \"court,\", \"cover)\", \"cross\", \"cross\", \"cross\", \"cross\", \"cross\", \"crypto\", \"cryptography\", \"cryptology\", \"cubs\", \"cult\", \"cure\", \"cursor\", \"cyprus\", \"darn\", \"data\", \"data\", \"data\", \"data\", \"data\", \"data\", \"daughter\", \"daughter\", \"dc-x\", \"deadline\", \"deciding\", \"decrypt\", \"defend\", \"defensive\", \"deity\", \"department\", \"department\", \"department\", \"department\", \"department\", \"dept\", \"dept\", \"desperate\", \"devoid\", \"diagnosed\", \"diamond\", \"dietary\", \"diff\", \"directory\", \"directory\", \"disagreement\", \"disk\", \"disk\", \"disks\", \"disks.\", \"display\", \"display\", \"display\", \"distributed\", \"distributed\", \"division\", \"division\", \"division\", \"doctor\", \"doctor\", \"dodger\", \"dodgers\", \"doug\", \"doug\", \"doug\", \"drive\", \"drive\", \"drive\", \"drive,\", \"drive,\", \"drive.\", \"driver,\", \"driver.\", \"drivers\", \"drivers\", \"drives\", \"drives,\", \"drives.\", \"drug\", \"drug\", \"drugs\", \"dubious\", \"e-mail\", \"e-mail\", \"e-mail\", \"e[m;\", \"earl\", \"earned\", \"echo\", \"edmonton\", \"edmonton\", \"edmonton,\", \"email\", \"email\", \"emulator\", \"encrypted\", \"encrypting\", \"encryption\", \"encryption\", \"enforcement\", \"enforcement\", \"enforcement\", \"entries\", \"entry\", \"entry\", \"entry,\", \"era,\", \"era,\", \"errors\", \"escrow\", \"esdi\", \"etc?\", \"ethnic\", \"ethnic\", \"ethnic\", \"even\", \"even\", \"even\", \"even\", \"evidence\", \"evil\", \"examples,\", \"exclusively\", \"executive\", \"existence\", \"export\", \"export.lcs.mit.edu\", \"ext.\", \"ext.\", \"extermination\", \"fact\", \"fact\", \"fact\", \"fact\", \"fact\", \"failed\", \"failed\", \"failed\", \"failed\", \"faith\", \"fan.\", \"fans\", \"fantasy\", \"fatal\", \"father\", \"father\", \"father\", \"feature\", \"feature\", \"feature\", \"federal\", \"federal\", \"federal\", \"feet\", \"feustel\", \"file\", \"file\", \"file:\", \"file?\", \"files\", \"files\", \"find\", \"find\", \"find\", \"find\", \"find\", \"find\", \"firearms\", \"firearms\", \"firearms\", \"fired\", \"first\", \"first\", \"first\", \"first\", \"first\", \"first\", \"first\", \"first\", \"first\", \"fixes\", \"flames\", \"flames\", \"flames\", \"flames\", \"fleet\", \"flight\", \"flight\", \"flight\", \"flood\", \"floppy\", \"floppy\", \"flyers\", \"font\", \"fonts.\", \"football,\", \"forwards\", \"francis\", \"freedom\", \"from?\", \"from?\", \"front\", \"front\", \"front\", \"gainey\", \"game\", \"game\", \"game\", \"game\", \"game)\", \"game,\", \"games\", \"games\", \"games,\", \"games.\", \"gaza\", \"geb@cadre.dsl.pitt.edu\", \"general\", \"general\", \"general\", \"general\", \"general\", \"general\", \"generated,\", \"generous\", \"genetic\", \"genocide\", \"gerard\", \"gerry\", \"ghost\", \"ghost\", \"giants\", \"gifs\", \"goal\", \"goal\", \"goal\", \"goal\", \"god's\", \"god.\", \"god.\", \"god?\", \"goes:\", \"going\", \"going\", \"going\", \"going\", \"good\", \"good\", \"good\", \"gordon\", \"gordon\", \"government\", \"government\", \"government\", \"government\", \"government\", \"government\", \"graphics\", \"graphics\", \"gravity\", \"gravity\", \"greatly\", \"greece\", \"greek\", \"greek\", \"greeks\", \"greetings,\", \"gretzky\", \"gretzky\", \"grounded\", \"guidelines\", \"gulf\", \"guys\", \"habs\", \"handguns\", \"handler\", \"hangs\", \"hard\", \"hard\", \"hard\", \"hard\", \"hardware\", \"hardware\", \"hardware\", \"hartford,\", \"hash\", \"hawks\", \"hazards\", \"he's\", \"he's\", \"headache\", \"health\", \"health\", \"health\", \"help\", \"help\", \"help\", \"help\", \"help\", \"help\", \"henrik]\", \"hicnet\", \"history,\", \"history,\", \"history,\", \"hockey\", \"hockey\", \"holocaust\", \"holy\", \"holy\", \"holy\", \"home\", \"home\", \"home\", \"home\", \"home\", \"hong\", \"hood\", \"house\", \"house\", \"house\", \"household\", \"however,\", \"however,\", \"however,\", \"however,\", \"however,\", \"huh?\", \"human\", \"human\", \"human\", \"huntsville,\", \"i've\", \"i've\", \"i've\", \"icon\", \"idacom\", \"ideas?\", \"ieee\", \"iisi\", \"iisi\", \"image\", \"image\", \"image\", \"images\", \"imaging\", \"immoral.\", \"implement\", \"implementation.\", \"includes\", \"includes\", \"includes\", \"includes\", \"includes\", \"industry\", \"industry\", \"industry\", \"industry\", \"industry\", \"infection\", \"inflammation\", \"inflated\", \"info\", \"information\", \"information\", \"information\", \"information\", \"information\", \"initiative\", \"inner\", \"inner\", \"inning.\", \"input\", \"input\", \"installed\", \"institute\", \"institute\", \"institute\", \"insurance\", \"insurance\", \"intellect,\", \"intentional\", \"interactive\", \"interface\", \"interface\", \"interface\", \"interfaces\", \"intergraph\", \"international\", \"international\", \"international\", \"international\", \"international\", \"internet\", \"investigating\", \"islam\", \"islanders\", \"islanders,\", \"israel\", \"israel's\", \"israel,\", \"israel.\", \"israeli\", \"israelis\", \"january\", \"january\", \"jays\", \"jesus\", \"jesus\", \"jesus's\", \"jesus's\", \"jews\", \"jews\", \"jews\", \"jobs\", \"john's\", \"journal\", \"journal\", \"jpeg\", \"jpeg,\", \"judas\", \"jumper\", \"jumpers\", \"karabakh\", \"karabakh\", \"karabakh\", \"keith\", \"keith\", \"keith\", \"keith\", \"keller\", \"kent\", \"key,\", \"key-escrow\", \"key.\", \"keyboard\", \"keys\", \"keys\", \"kill\", \"kill\", \"kill\", \"kill\", \"killed\", \"killed\", \"killed\", \"kings\", \"kings\", \"kkeller@mail.sas.upenn.edu\", \"know\", \"know\", \"know\", \"know\", \"kong\", \"koresh\", \"kron\", \"last\", \"last\", \"last\", \"last\", \"later\", \"later\", \"later\", \"later\", \"launch\", \"launched\", \"lawsuit\", \"layout\", \"layout\", \"lciii\", \"leafs\", \"leafs\", \"league\", \"league\", \"league\", \"lebanese\", \"lebanon\", \"left\", \"left\", \"left\", \"left\", \"leftover\", \"legal\", \"legal\", \"legal\", \"legal\", \"legal\", \"legitimately\", \"lemieux\", \"library\", \"library\", \"library\", \"life\", \"life\", \"life\", \"like\", \"like\", \"like\", \"like\", \"lindros\", \"line\", \"line\", \"line\", \"line\", \"line\", \"line\", \"lipman\", \"list\", \"list\", \"list\", \"list\", \"list\", \"list\", \"looking\", \"looking\", \"looking\", \"lopez\", \"lost.\", \"louis,\", \"lunar\", \"lunar\", \"lust\", \"macs\", \"mail\", \"mail\", \"make\", \"make\", \"make\", \"mamma\", \"managing\", \"manned\", \"manual.\", \"many\", \"many\", \"many\", \"many\", \"many\", \"many\", \"markets\", \"mars\", \"mary\", \"mary\", \"mary\", \"master\", \"master\", \"master\", \"mathcad\", \"max>'ax>'ax>'ax>'ax>'ax>'ax>'ax>'ax>'ax>'ax>'ax>'ax>'ax>'ax>'\", \"mean\", \"mean\", \"mean\", \"meanwhile,\", \"medical\", \"medical\", \"medical\", \"medical\", \"memory\", \"memory\", \"menu\", \"merely\", \"micro\", \"might\", \"might\", \"might\", \"mike\", \"mike\", \"mike\", \"mild\", \"miles\", \"military\", \"military\", \"military\", \"military\", \"military\", \"million\", \"million\", \"million\", \"million\", \"mission\", \"mission\", \"mode\", \"modem\", \"modes.\", \"molecular\", \"momentum\", \"money\", \"money\", \"money\", \"money\", \"monitor\", \"mono\", \"montreal\", \"moon\", \"moon\", \"moon\", \"moral\", \"morality\", \"mormon\", \"mormons\", \"mother\", \"mother\", \"mother\", \"mother\", \"motherboard\", \"motherboard\", \"motherboard,\", \"motif\", \"motorcycle\", \"mouse\", \"mouse\", \"much\", \"much\", \"much\", \"multi\", \"murphy\", \"murphy\", \"muslim\", \"muslim\", \"muslim\", \"must\", \"must\", \"must\", \"must\", \"must\", \"must\", \"must\", \"myers:\", \"n3jxp\", \"n9myi\", \"nasa\", \"nasa\", \"national\", \"national\", \"national\", \"national\", \"national\", \"nationwide\", \"natives\", \"nature\", \"naval\", \"naval\", \"navy\", \"navy\", \"navy\", \"neck\", \"need\", \"need\", \"need\", \"need\", \"negotiating\", \"nervous\", \"neural\", \"neutral\", \"neutral\", \"neutral\", \"neutral\", \"neutral\", \"neutral.\", \"never\", \"never\", \"never\", \"never\", \"newsletter\", \"next\", \"next\", \"next\", \"next\", \"nhl.\", \"night\", \"night\", \"ninth\", \"nist\", \"nords\", \"nubus\", \"nubus\", \"null\", \"number\", \"number\", \"number\", \"number\", \"number\", \"number\", \"object,\", \"objective.\", \"occupation\", \"occupied\", \"offer,\", \"office\", \"office\", \"office\", \"office\", \"orbital\", \"orbiting\", \"orchid\", \"organs\", \"other's\", \"ottawa\", \"ottawa,\", \"ottoman\", \"outlet\", \"outline\", \"output\", \"overtime\", \"package\", \"package\", \"package\", \"padded\", \"page\", \"page\", \"pain,\", \"palestinian\", \"palestinians\", \"parsing\", \"part\", \"part\", \"part\", \"part\", \"part\", \"part\", \"part\", \"part\", \"part\", \"parts.\", \"patents\", \"patient\", \"paying\", \"payload\", \"pens\", \"pentium\", \"people\", \"people\", \"people\", \"people\", \"people\", \"performance,\", \"period\", \"period\", \"period\", \"period\", \"period\", \"period:\", \"person\", \"person\", \"person\", \"person\", \"philadelphia,\", \"philadelphia,\", \"phone\", \"phone\", \"phone\", \"phone\", \"pick\", \"pick\", \"pick\", \"picture\", \"picture\", \"picture\", \"picture\", \"pitching\", \"pittsburgh,\", \"pittsburgh,\", \"pittsburgh,\", \"place?\", \"plaintext\", \"play\", \"play\", \"play\", \"play\", \"play:\", \"player\", \"player\", \"player\", \"player\", \"players\", \"players\", \"please\", \"please\", \"please\", \"plug\", \"point\", \"point\", \"point\", \"pointers\", \"points\", \"points\", \"points\", \"points\", \"points\", \"points\", \"points:\", \"pole\", \"police\", \"police\", \"police\", \"policies\", \"policies\", \"policies\", \"policy\", \"policy\", \"policy\", \"policy\", \"policy\", \"pope\", \"pope\", \"port\", \"ported\", \"ported\", \"postscript\", \"potential.\", \"power\", \"power\", \"power\", \"power\", \"power\", \"practiced\", \"praise\", \"predict\", \"predict\", \"predict\", \"predict\", \"president\", \"president\", \"president's\", \"prevention\", \"print\", \"print,\", \"printer\", \"prisoners\", \"prisoners\", \"privacy\", \"privacy\", \"privacy\", \"private\", \"private\", \"private\", \"pro.\", \"probe\", \"probe\", \"probe\", \"problem\", \"problem\", \"problem\", \"problem:\", \"proceedings,\", \"processor.\", \"professor\", \"professor\", \"professor\", \"program\", \"program\", \"program\", \"program?\", \"program?\", \"prompt\", \"protect\", \"protect\", \"protect\", \"protect\", \"protect\", \"protect\", \"psalm\", \"public\", \"public\", \"public\", \"public\", \"public\", \"public\", \"public.\", \"puck\", \"pursuing\", \"quadra\", \"quakers!!!!!\", \"quantization\", \"quantum\", \"question\", \"question\", \"question\", \"quoting\", \"radar\", \"rangers\", \"rangers\", \"rangers!!!!!\", \"rather\", \"rather\", \"rather\", \"rather\", \"rather\", \"reaction\", \"reaction\", \"read\", \"read\", \"read\", \"reality\", \"reality\", \"reality\", \"really\", \"really\", \"really\", \"rear\", \"reason\", \"reason\", \"reason\", \"recchi\", \"recordings\", \"rectangular\", \"region,\", \"regulated\", \"religion\", \"religions\", \"religious\", \"report\", \"report\", \"report\", \"report\", \"report\", \"reported\", \"reported\", \"reported\", \"reported\", \"requests\", \"requests\", \"requests\", \"research\", \"research\", \"resource\", \"resource\", \"resources.\", \"respect\", \"respect\", \"retail\", \"ride\", \"riding\", \"right\", \"right\", \"right\", \"right\", \"right\", \"right!\", \"rights\", \"rights\", \"rights\", \"rights\", \"rights\", \"rights\", \"ripem\", \"risc\", \"risc\", \"rivers\", \"rockwell\", \"rode\", \"romans\", \"rosicrucian\", \"ross\", \"routines\", \"rs232\", \"ruff\", \"runner\", \"running\", \"running\", \"running\", \"russian\", \"russian\", \"russian\", \"russian\", \"said\", \"said\", \"said\", \"said\", \"said,\", \"said,\", \"said,\", \"sale.\", \"sale.\", \"sale.\", \"sat,\", \"sat,\", \"satellite\", \"satellites\", \"saturday,\", \"saves\", \"saves)\", \"say,\", \"say,\", \"say,\", \"say,\", \"says,\", \"says,\", \"says,\", \"schism\", \"science\", \"science\", \"score\", \"scorer\", \"scores\", \"scores\", \"scoring.\", \"screen\", \"screen\", \"screens\", \"script\", \"scrolls\", \"scsi\", \"scsi\", \"scsi-1\", \"scsi-2\", \"sea.\", \"seagate\", \"second\", \"second\", \"second\", \"second\", \"second\", \"second\", \"secret\", \"secret\", \"secure\", \"security\", \"security\", \"security\", \"security\", \"security\", \"seminar\", \"senate\", \"send\", \"send\", \"send\", \"send\", \"send\", \"senior\", \"senior\", \"serdar\", \"serial\", \"serious.\", \"server\", \"server\", \"server.\", \"servers\", \"sexual\", \"shack\", \"shack\", \"shameful\", \"shell,\", \"shell,\", \"shipping\", \"shots\", \"shots\", \"shots\", \"shots\", \"shuttle\", \"shuttle\", \"similarity\", \"simm\", \"simms\", \"simms\", \"simtel20\", \"sin.\", \"since\", \"since\", \"since\", \"since\", \"since\", \"sites\", \"sites\", \"size\", \"size\", \"size\", \"skip\", \"skipjack\", \"skipjack\", \"slot,\", \"slot,\", \"slots\", \"smokeless\", \"smythe\", \"soderstrom\", \"software\", \"software\", \"soldiers\", \"soldiers\", \"somalia\", \"something\", \"something\", \"something\", \"something\", \"son,\", \"sony\", \"soon.\\\"\", \"south\", \"south\", \"south\", \"space\", \"space\", \"spacecraft\", \"spacecraft\", \"speakers\", \"speakers\", \"speakers\", \"speakers\", \"spiderman\", \"spirit\", \"spirit\", \"sports\", \"standings\", \"started\", \"started\", \"started\", \"started\", \"started\", \"statement\", \"statement\", \"states\", \"states\", \"states\", \"states\", \"static\", \"static\", \"stats\", \"statutes\", \"sticky\", \"still\", \"still\", \"still\", \"still\", \"stream\", \"string\", \"string\", \"strong\", \"strong\", \"strong\", \"studio\", \"study\", \"study\", \"subject:\", \"subject:\", \"subject:\", \"subject:\", \"sumgait\", \"sunos\", \"supports\", \"supports\", \"supports\", \"surrender\", \"surrender\", \"surveillance\", \"suspicious\", \"suter\", \"swap\", \"swap\", \"sweden\", \"sweep\", \"switzerland\", \"switzerland\", \"symbol\", \"symmetric\", \"synchronous\", \"system\", \"system\", \"system\", \"system\", \"system\", \"system\", \"systems\", \"systems\", \"systems\", \"systems\", \"systems\", \"take\", \"take\", \"take\", \"tape.\", \"team\", \"team\", \"team\", \"team\", \"teams\", \"teams\", \"technology\", \"technology\", \"technology\", \"technology\", \"technology\", \"telecommunications\", \"telescope\", \"telix\", \"terminal\", \"terminal\", \"terminals\", \"territory\", \"thanks\", \"thanks\", \"thanks,\", \"thanks.\", \"that's\", \"that's\", \"that's\", \"that)\", \"theft\", \"there,\", \"there,\", \"there,\", \"there,\", \"these?\", \"they're\", \"they're\", \"they're\", \"they're\", \"things\", \"things\", \"things\", \"think\", \"think\", \"think\", \"third\", \"third\", \"third\", \"third\", \"third\", \"thou\", \"three\", \"three\", \"three\", \"three\", \"three\", \"three\", \"tiger\", \"tiger\", \"time\", \"time\", \"time\", \"time...\", \"told\", \"told\", \"told\", \"told\", \"toner\", \"too?\", \"took\", \"took\", \"took\", \"took\", \"took\", \"toolkit\", \"toronto\", \"toronto\", \"toronto\", \"torque\", \"toshiba\", \"training,\", \"transformer\", \"translations\", \"transmitted\", \"troops\", \"troops\", \"true\", \"true\", \"truetype\", \"truth\", \"truth\", \"turkey\", \"turkey\", \"turkey,\", \"turkish\", \"turkish\", \"turks\", \"turks\", \"u.s.\", \"u.s.\", \"u.s.\", \"u.s.\", \"u.s.\", \"unauthorized\", \"unaware\", \"unit\", \"united\", \"united\", \"united\", \"united\", \"united\", \"universe\", \"university\", \"university\", \"university\", \"university\", \"university\", \"used\", \"used\", \"used\", \"used\", \"used\", \"used\", \"user\", \"user\", \"user\", \"users\", \"users\", \"users\", \"using\", \"using\", \"using\", \"using\", \"using\", \"uucp:\", \"uucp:\", \"vacation\", \"vacation\", \"vancouver\", \"vancouver\", \"venus\", \"version\", \"version\", \"version\", \"vesa\", \"video\", \"video\", \"violating\", \"virgin\", \"virtual\", \"virtual\", \"virtual\", \"virtual\", \"visual\", \"visualization\", \"visualization\", \"visualization\", \"vram\", \"wales\", \"want\", \"want\", \"want\", \"want\", \"warranty\", \"washington,\", \"washington,\", \"water\", \"water\", \"water\", \"we're\", \"we're\", \"well\", \"well\", \"well\", \"well\", \"well\", \"well,\", \"well,\", \"well,\", \"went\", \"went\", \"whether\", \"whether\", \"whether\", \"white,\", \"widget\", \"widgets\", \"window\", \"window\", \"window\", \"windows\", \"windows\", \"winmarks\", \"winner\", \"winner\", \"winners\", \"winnipeg\", \"wins\", \"wipe\", \"wireframe\", \"wires\", \"wires\", \"wires\", \"wiretap\", \"wiring\", \"wiring\", \"without\", \"without\", \"without\", \"without\", \"women\", \"women\", \"women\", \"wont\", \"word\", \"word\", \"word\", \"words\", \"words\", \"work\", \"work\", \"work\", \"work\", \"work\", \"works\", \"works\", \"works\", \"works\", \"workstation\", \"world\", \"world\", \"world\", \"world\", \"world\", \"world\", \"worthless.\", \"would\", \"would\", \"would\", \"would\", \"wounded\", \"wrist\", \"x-based\", \"x-soviet\", \"x11r5\", \"x11r5\", \"x11r5.\", \"yankees\", \"year\", \"year\", \"year\", \"year!\", \"years\", \"years\", \"years\", \"years\", \"years\", \"years.\", \"years.\", \"years.\", \"yogurt\", \"york\", \"york\", \"york\", \"york,\", \"zealand\", \"zx-11\"]}, \"R\": 30, \"lambda.step\": 0.01, \"plot.opts\": {\"xlab\": \"PC1\", \"ylab\": \"PC2\"}, \"topic.order\": [6, 12, 18, 4, 8, 20, 9, 17, 13, 7, 5, 10, 15, 11, 16, 1, 19, 2, 3, 14]};\n",
       "\n",
       "function LDAvis_load_lib(url, callback){\n",
       "  var s = document.createElement('script');\n",
       "  s.src = url;\n",
       "  s.async = true;\n",
       "  s.onreadystatechange = s.onload = callback;\n",
       "  s.onerror = function(){console.warn(\"failed to load library \" + url);};\n",
       "  document.getElementsByTagName(\"head\")[0].appendChild(s);\n",
       "}\n",
       "\n",
       "if(typeof(LDAvis) !== \"undefined\"){\n",
       "   // already loaded: just create the visualization\n",
       "   !function(LDAvis){\n",
       "       new LDAvis(\"#\" + \"ldavis_el1958823376196366565170798268\", ldavis_el1958823376196366565170798268_data);\n",
       "   }(LDAvis);\n",
       "}else if(typeof define === \"function\" && define.amd){\n",
       "   // require.js is available: use it to load d3/LDAvis\n",
       "   require.config({paths: {d3: \"https://d3js.org/d3.v5\"}});\n",
       "   require([\"d3\"], function(d3){\n",
       "      window.d3 = d3;\n",
       "      LDAvis_load_lib(\"https://cdn.jsdelivr.net/gh/bmabey/pyLDAvis@3.4.0/pyLDAvis/js/ldavis.v3.0.0.js\", function(){\n",
       "        new LDAvis(\"#\" + \"ldavis_el1958823376196366565170798268\", ldavis_el1958823376196366565170798268_data);\n",
       "      });\n",
       "    });\n",
       "}else{\n",
       "    // require.js not available: dynamically load d3 & LDAvis\n",
       "    LDAvis_load_lib(\"https://d3js.org/d3.v5.js\", function(){\n",
       "         LDAvis_load_lib(\"https://cdn.jsdelivr.net/gh/bmabey/pyLDAvis@3.4.0/pyLDAvis/js/ldavis.v3.0.0.js\", function(){\n",
       "                 new LDAvis(\"#\" + \"ldavis_el1958823376196366565170798268\", ldavis_el1958823376196366565170798268_data);\n",
       "            })\n",
       "         });\n",
       "}\n",
       "</script>"
      ],
      "text/plain": [
       "<IPython.core.display.HTML object>"
      ]
     },
     "execution_count": 37,
     "metadata": {},
     "output_type": "execute_result"
    }
   ],
   "source": [
    "import pyLDAvis.gensim_models\n",
    "\n",
    "pyLDAvis.enable_notebook()\n",
    "vis = pyLDAvis.gensim_models.prepare(ldamodel, corpus, dictionary)\n",
    "pyLDAvis.display(vis)"
   ]
  },
  {
   "cell_type": "markdown",
   "metadata": {},
   "source": [
    "좌측의 원들은 각각의 20개의 토픽을 나타냅니다. 각 원과의 거리는 각 토픽들이 서로 얼마나 다른지를 보여줍니다. \n",
    "\n",
    "만약 두 개의 원이 겹친다면, 이 두 개의 토픽은 유사한 토픽이라는 의미입니다. \n",
    "\n",
    "위의 그림에서는 10번 토픽을 클릭하였고, 이에 따라 우측에는 10번 토픽에 대한 정보가 나타납니다. \n",
    "\n",
    "한 가지 주의할 점은 LDA 모델의 출력 결과에서는 토픽 번호가 0부터 할당되어 0~19의 숫자가 사용된 것과는 달리 \n",
    "\n",
    "위의 LDA 시각화에서는 토픽의 번호가 1부터 시작하므로 각 토픽 번호는 이제 +1이 된 값인 1~20까지의 값을 가집니다."
   ]
  },
  {
   "cell_type": "markdown",
   "metadata": {},
   "source": [
    "### **4) 문서 별 토픽 분포 보기**\n",
    "\n",
    "위에서 **토픽 별 단어 분포는 확인하였으나**, 아직 **문서 별 토픽 분포**에 대해서는 확인하지 못 하였습니다. \n",
    "\n",
    "우선 문서 별 토픽 분포를 확인하는 방법을 보겠습니다. \n",
    "\n",
    "각 문서의 토픽 분포는 이미 훈련된 LDA 모델인 ldamodel[]에 전체 데이터가 **정수 인코딩 된 결과를 넣은 후**에 확인이 가능합니다. \n",
    "\n",
    "여기서는 책의 지면의 한계로 상위 5개의 문서에 대해서만 토픽 분포를 확인해보겠습니다."
   ]
  },
  {
   "cell_type": "code",
   "execution_count": 41,
   "metadata": {},
   "outputs": [
    {
     "name": "stdout",
     "output_type": "stream",
     "text": [
      "0 번째 문서의 topic 비율은 [(5, 0.41004026), (8, 0.13869469), (11, 0.36545846), (19, 0.07361239)]\n",
      "1 번째 문서의 topic 비율은 [(3, 0.08535655), (5, 0.7263069), (6, 0.1680192)]\n",
      "2 번째 문서의 topic 비율은 [(3, 0.08118402), (5, 0.486559), (8, 0.18865976), (11, 0.11513455), (17, 0.09831383), (19, 0.018244741)]\n",
      "3 번째 문서의 topic 비율은 [(5, 0.454223), (11, 0.3091022), (17, 0.09980917), (19, 0.12521477)]\n",
      "4 번째 문서의 topic 비율은 [(11, 0.17250255), (15, 0.27046126), (17, 0.39341658), (19, 0.13393883)]\n"
     ]
    }
   ],
   "source": [
    "for i, topic_list in enumerate(ldamodel[corpus]):\n",
    "    if i==5:\n",
    "        break\n",
    "    print(i,'번째 문서의 topic 비율은',topic_list)\n"
   ]
  },
  {
   "cell_type": "code",
   "execution_count": 70,
   "metadata": {},
   "outputs": [],
   "source": [
    "def make_topictable_per_doc(ldamodel, corpus):\n",
    "    topic_table = pd.DataFrame()\n",
    "\n",
    "    # 몇 번째 문서인지를 의미하는 문서 번호와 해당 문서의 토픽 비중을 한 줄씩 꺼내온다.\n",
    "    for i, topic_list in enumerate(ldamodel[corpus]):\n",
    "        doc = topic_list[0] if ldamodel.per_word_topics else topic_list            \n",
    "        doc = sorted(doc, key=lambda x: (x[1]), reverse=True)\n",
    "        # 각 문서에 대해서 비중이 높은 토픽순으로 토픽을 정렬한다.\n",
    "        # EX) 정렬 전 0번 문서 : (2번 토픽, 48.5%), (8번 토픽, 25%), (10번 토픽, 5%), (12번 토픽, 21.5%), \n",
    "        # Ex) 정렬 후 0번 문서 : (2번 토픽, 48.5%), (8번 토픽, 25%), (12번 토픽, 21.5%), (10번 토픽, 5%)\n",
    "        # 48 > 25 > 21 > 5 순으로 정렬이 된 것.\n",
    "\n",
    "        # 모든 문서에 대해서 각각 아래를 수행\n",
    "        for j, (topic_num, prop_topic) in enumerate(doc): #  몇 번 토픽인지와 비중을 나눠서 저장한다.\n",
    "            if j == 0:  # 정렬을 한 상태이므로 가장 앞에 있는 것이 가장 비중이 높은 토픽\n",
    "                topic_table = topic_table._append(pd.Series([int(topic_num), round(prop_topic,4), topic_list]), ignore_index=True)\n",
    "                # 가장 비중이 높은 토픽과, 가장 비중이 높은 토픽의 비중과, 전체 토픽의 비중을 저장한다.\n",
    "            else:\n",
    "                break\n",
    "    return(topic_table)"
   ]
  },
  {
   "cell_type": "code",
   "execution_count": 71,
   "metadata": {},
   "outputs": [],
   "source": [
    "topictable = make_topictable_per_doc(ldamodel, corpus)\n"
   ]
  },
  {
   "cell_type": "code",
   "execution_count": 72,
   "metadata": {},
   "outputs": [
    {
     "data": {
      "text/html": [
       "<div>\n",
       "<style scoped>\n",
       "    .dataframe tbody tr th:only-of-type {\n",
       "        vertical-align: middle;\n",
       "    }\n",
       "\n",
       "    .dataframe tbody tr th {\n",
       "        vertical-align: top;\n",
       "    }\n",
       "\n",
       "    .dataframe thead th {\n",
       "        text-align: right;\n",
       "    }\n",
       "</style>\n",
       "<table border=\"1\" class=\"dataframe\">\n",
       "  <thead>\n",
       "    <tr style=\"text-align: right;\">\n",
       "      <th></th>\n",
       "      <th>문서 번호</th>\n",
       "      <th>가장 비중이 높은 토픽</th>\n",
       "      <th>가장 높은 토픽의 비중</th>\n",
       "      <th>각 토픽의 비중</th>\n",
       "    </tr>\n",
       "  </thead>\n",
       "  <tbody>\n",
       "    <tr>\n",
       "      <th>0</th>\n",
       "      <td>0</td>\n",
       "      <td>5</td>\n",
       "      <td>0.4101</td>\n",
       "      <td>[(5, 0.41006064), (8, 0.13869494), (11, 0.3654...</td>\n",
       "    </tr>\n",
       "    <tr>\n",
       "      <th>1</th>\n",
       "      <td>1</td>\n",
       "      <td>5</td>\n",
       "      <td>0.7263</td>\n",
       "      <td>[(3, 0.08535281), (5, 0.7263105), (6, 0.168019...</td>\n",
       "    </tr>\n",
       "    <tr>\n",
       "      <th>2</th>\n",
       "      <td>2</td>\n",
       "      <td>5</td>\n",
       "      <td>0.4866</td>\n",
       "      <td>[(3, 0.08118399), (5, 0.48655292), (8, 0.18865...</td>\n",
       "    </tr>\n",
       "    <tr>\n",
       "      <th>3</th>\n",
       "      <td>3</td>\n",
       "      <td>5</td>\n",
       "      <td>0.4542</td>\n",
       "      <td>[(5, 0.45422345), (11, 0.30908754), (17, 0.099...</td>\n",
       "    </tr>\n",
       "    <tr>\n",
       "      <th>4</th>\n",
       "      <td>4</td>\n",
       "      <td>17</td>\n",
       "      <td>0.3935</td>\n",
       "      <td>[(11, 0.17245057), (15, 0.27045047), (17, 0.39...</td>\n",
       "    </tr>\n",
       "    <tr>\n",
       "      <th>5</th>\n",
       "      <td>5</td>\n",
       "      <td>5</td>\n",
       "      <td>0.6397</td>\n",
       "      <td>[(5, 0.6396592), (15, 0.3193193)]</td>\n",
       "    </tr>\n",
       "    <tr>\n",
       "      <th>6</th>\n",
       "      <td>6</td>\n",
       "      <td>11</td>\n",
       "      <td>0.4064</td>\n",
       "      <td>[(3, 0.023654675), (4, 0.025840325), (5, 0.153...</td>\n",
       "    </tr>\n",
       "    <tr>\n",
       "      <th>7</th>\n",
       "      <td>7</td>\n",
       "      <td>5</td>\n",
       "      <td>0.4272</td>\n",
       "      <td>[(5, 0.42720982), (8, 0.34881312), (11, 0.0655...</td>\n",
       "    </tr>\n",
       "    <tr>\n",
       "      <th>8</th>\n",
       "      <td>8</td>\n",
       "      <td>17</td>\n",
       "      <td>0.3247</td>\n",
       "      <td>[(4, 0.2316272), (5, 0.10561723), (9, 0.051837...</td>\n",
       "    </tr>\n",
       "    <tr>\n",
       "      <th>9</th>\n",
       "      <td>9</td>\n",
       "      <td>17</td>\n",
       "      <td>0.3712</td>\n",
       "      <td>[(5, 0.16999468), (6, 0.0144261485), (9, 0.013...</td>\n",
       "    </tr>\n",
       "  </tbody>\n",
       "</table>\n",
       "</div>"
      ],
      "text/plain": [
       "   문서 번호  가장 비중이 높은 토픽  가장 높은 토픽의 비중  \\\n",
       "0      0             5        0.4101   \n",
       "1      1             5        0.7263   \n",
       "2      2             5        0.4866   \n",
       "3      3             5        0.4542   \n",
       "4      4            17        0.3935   \n",
       "5      5             5        0.6397   \n",
       "6      6            11        0.4064   \n",
       "7      7             5        0.4272   \n",
       "8      8            17        0.3247   \n",
       "9      9            17        0.3712   \n",
       "\n",
       "                                            각 토픽의 비중  \n",
       "0  [(5, 0.41006064), (8, 0.13869494), (11, 0.3654...  \n",
       "1  [(3, 0.08535281), (5, 0.7263105), (6, 0.168019...  \n",
       "2  [(3, 0.08118399), (5, 0.48655292), (8, 0.18865...  \n",
       "3  [(5, 0.45422345), (11, 0.30908754), (17, 0.099...  \n",
       "4  [(11, 0.17245057), (15, 0.27045047), (17, 0.39...  \n",
       "5                  [(5, 0.6396592), (15, 0.3193193)]  \n",
       "6  [(3, 0.023654675), (4, 0.025840325), (5, 0.153...  \n",
       "7  [(5, 0.42720982), (8, 0.34881312), (11, 0.0655...  \n",
       "8  [(4, 0.2316272), (5, 0.10561723), (9, 0.051837...  \n",
       "9  [(5, 0.16999468), (6, 0.0144261485), (9, 0.013...  "
      ]
     },
     "execution_count": 72,
     "metadata": {},
     "output_type": "execute_result"
    }
   ],
   "source": [
    "topictable = topictable.reset_index() # 문서 번호을 의미하는 열(column)로 사용하기 위해서 인덱스 열을 하나 더 만든다.\n",
    "topictable.columns = ['문서 번호', '가장 비중이 높은 토픽', '가장 높은 토픽의 비중', '각 토픽의 비중']\n",
    "topictable[:10]"
   ]
  }
 ],
 "metadata": {
  "kernelspec": {
   "display_name": "T3Q",
   "language": "python",
   "name": "python3"
  },
  "language_info": {
   "codemirror_mode": {
    "name": "ipython",
    "version": 3
   },
   "file_extension": ".py",
   "mimetype": "text/x-python",
   "name": "python",
   "nbconvert_exporter": "python",
   "pygments_lexer": "ipython3",
   "version": "3.11.3"
  },
  "orig_nbformat": 4
 },
 "nbformat": 4,
 "nbformat_minor": 2
}
